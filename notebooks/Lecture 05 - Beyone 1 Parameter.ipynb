{
 "cells": [
  {
   "cell_type": "code",
   "execution_count": 1,
   "metadata": {},
   "outputs": [],
   "source": [
    "import pandas"
   ]
  },
  {
   "cell_type": "code",
   "execution_count": 2,
   "metadata": {},
   "outputs": [],
   "source": [
    "tables = pandas.read_html('https://en.wikipedia.org/wiki/List_of_oil_spills')"
   ]
  },
  {
   "cell_type": "code",
   "execution_count": 4,
   "metadata": {},
   "outputs": [
    {
     "data": {
      "text/plain": [
       "11"
      ]
     },
     "execution_count": 4,
     "metadata": {},
     "output_type": "execute_result"
    }
   ],
   "source": [
    "len(tables)"
   ]
  },
  {
   "cell_type": "code",
   "execution_count": 5,
   "metadata": {},
   "outputs": [
    {
     "data": {
      "text/html": [
       "<div>\n",
       "<style scoped>\n",
       "    .dataframe tbody tr th:only-of-type {\n",
       "        vertical-align: middle;\n",
       "    }\n",
       "\n",
       "    .dataframe tbody tr th {\n",
       "        vertical-align: top;\n",
       "    }\n",
       "\n",
       "    .dataframe thead th {\n",
       "        text-align: right;\n",
       "    }\n",
       "</style>\n",
       "<table border=\"1\" class=\"dataframe\">\n",
       "  <thead>\n",
       "    <tr style=\"text-align: right;\">\n",
       "      <th></th>\n",
       "      <th>Spill / Vessel</th>\n",
       "      <th>Location</th>\n",
       "      <th>Dates</th>\n",
       "      <th>Min Tonnes</th>\n",
       "      <th>Max Tonnes</th>\n",
       "      <th>Owner</th>\n",
       "      <th>Link(s)</th>\n",
       "    </tr>\n",
       "  </thead>\n",
       "  <tbody>\n",
       "    <tr>\n",
       "      <th>0</th>\n",
       "      <td>2020 Pointe D'Esny MV Wakashio oil spill</td>\n",
       "      <td>Mauritius, Ile Aux Aigrettes and Mahebourg</td>\n",
       "      <td>25 July 2020</td>\n",
       "      <td>1300</td>\n",
       "      <td>4300</td>\n",
       "      <td>Wakashio Suisan Company Limited, Kagoshima, Japan</td>\n",
       "      <td>[1] [2]</td>\n",
       "    </tr>\n",
       "    <tr>\n",
       "      <th>1</th>\n",
       "      <td>Trans Mountain oil spill</td>\n",
       "      <td>Canada, British Columbia, Abbotsford</td>\n",
       "      <td>14 June 2020</td>\n",
       "      <td>118.5</td>\n",
       "      <td>184.87</td>\n",
       "      <td>Trans Mountain</td>\n",
       "      <td>[3]</td>\n",
       "    </tr>\n",
       "    <tr>\n",
       "      <th>2</th>\n",
       "      <td>Norilsk diesel fuel spill</td>\n",
       "      <td>Russia, Norilsk, Krasnoyarsk Krai</td>\n",
       "      <td>29 May 2020</td>\n",
       "      <td>17500</td>\n",
       "      <td>17500</td>\n",
       "      <td>Nornickel</td>\n",
       "      <td>[4][5]</td>\n",
       "    </tr>\n",
       "    <tr>\n",
       "      <th>3</th>\n",
       "      <td>Tanker truck pumping out sludge from a vessel</td>\n",
       "      <td>New Zealand, Tauranga, Bay of Plenty</td>\n",
       "      <td>30 March 2020</td>\n",
       "      <td>1.7</td>\n",
       "      <td>1.7</td>\n",
       "      <td>NaN</td>\n",
       "      <td>[6][7]</td>\n",
       "    </tr>\n",
       "    <tr>\n",
       "      <th>4</th>\n",
       "      <td>T.G. Williams Well No. 1 tank battery</td>\n",
       "      <td>United States, Oakland Creek, Longview</td>\n",
       "      <td>30 March 2020</td>\n",
       "      <td>unknown</td>\n",
       "      <td>unknown</td>\n",
       "      <td>Fortune Resources</td>\n",
       "      <td>[8]</td>\n",
       "    </tr>\n",
       "    <tr>\n",
       "      <th>...</th>\n",
       "      <td>...</td>\n",
       "      <td>...</td>\n",
       "      <td>...</td>\n",
       "      <td>...</td>\n",
       "      <td>...</td>\n",
       "      <td>...</td>\n",
       "      <td>...</td>\n",
       "    </tr>\n",
       "    <tr>\n",
       "      <th>255</th>\n",
       "      <td>Scuttled tanker El Grillo</td>\n",
       "      <td>Iceland, Seyðisfjörður</td>\n",
       "      <td>February 1944 – present</td>\n",
       "      <td>unknown</td>\n",
       "      <td>unknown</td>\n",
       "      <td>NaN</td>\n",
       "      <td>[300]</td>\n",
       "    </tr>\n",
       "    <tr>\n",
       "      <th>256</th>\n",
       "      <td>SS Frank H. Buck / SS President Coolidge colli...</td>\n",
       "      <td>United States, San Francisco Bay, California</td>\n",
       "      <td>6 March 1937</td>\n",
       "      <td>8870</td>\n",
       "      <td>8870</td>\n",
       "      <td>NaN</td>\n",
       "      <td>[273][301]</td>\n",
       "    </tr>\n",
       "    <tr>\n",
       "      <th>257</th>\n",
       "      <td>Lakeview Gusher</td>\n",
       "      <td>United States, Kern County, California</td>\n",
       "      <td>14 March 1910 – 10 September 1911</td>\n",
       "      <td>1230000</td>\n",
       "      <td>1230000</td>\n",
       "      <td>NaN</td>\n",
       "      <td>[302]</td>\n",
       "    </tr>\n",
       "    <tr>\n",
       "      <th>258</th>\n",
       "      <td>Thomas W. Lawson</td>\n",
       "      <td>United Kingdom, Isles of Scilly</td>\n",
       "      <td>14 December 1907</td>\n",
       "      <td>7400</td>\n",
       "      <td>7400</td>\n",
       "      <td>NaN</td>\n",
       "      <td>[303]</td>\n",
       "    </tr>\n",
       "    <tr>\n",
       "      <th>259</th>\n",
       "      <td>SS Petriana</td>\n",
       "      <td>Australia, Port Phillip Bay, Victoria</td>\n",
       "      <td>30 November 1903</td>\n",
       "      <td>1300</td>\n",
       "      <td>1300</td>\n",
       "      <td>Asiatic Petroleum Company</td>\n",
       "      <td>[304]</td>\n",
       "    </tr>\n",
       "  </tbody>\n",
       "</table>\n",
       "<p>260 rows × 7 columns</p>\n",
       "</div>"
      ],
      "text/plain": [
       "                                        Spill / Vessel  \\\n",
       "0             2020 Pointe D'Esny MV Wakashio oil spill   \n",
       "1                             Trans Mountain oil spill   \n",
       "2                            Norilsk diesel fuel spill   \n",
       "3        Tanker truck pumping out sludge from a vessel   \n",
       "4                T.G. Williams Well No. 1 tank battery   \n",
       "..                                                 ...   \n",
       "255                          Scuttled tanker El Grillo   \n",
       "256  SS Frank H. Buck / SS President Coolidge colli...   \n",
       "257                                    Lakeview Gusher   \n",
       "258                                   Thomas W. Lawson   \n",
       "259                                        SS Petriana   \n",
       "\n",
       "                                         Location  \\\n",
       "0      Mauritius, Ile Aux Aigrettes and Mahebourg   \n",
       "1            Canada, British Columbia, Abbotsford   \n",
       "2               Russia, Norilsk, Krasnoyarsk Krai   \n",
       "3            New Zealand, Tauranga, Bay of Plenty   \n",
       "4          United States, Oakland Creek, Longview   \n",
       "..                                            ...   \n",
       "255                        Iceland, Seyðisfjörður   \n",
       "256  United States, San Francisco Bay, California   \n",
       "257        United States, Kern County, California   \n",
       "258               United Kingdom, Isles of Scilly   \n",
       "259         Australia, Port Phillip Bay, Victoria   \n",
       "\n",
       "                                 Dates Min Tonnes Max Tonnes  \\\n",
       "0                         25 July 2020       1300       4300   \n",
       "1                         14 June 2020      118.5     184.87   \n",
       "2                          29 May 2020      17500      17500   \n",
       "3                        30 March 2020        1.7        1.7   \n",
       "4                        30 March 2020    unknown    unknown   \n",
       "..                                 ...        ...        ...   \n",
       "255            February 1944 – present    unknown    unknown   \n",
       "256                       6 March 1937       8870       8870   \n",
       "257  14 March 1910 – 10 September 1911    1230000    1230000   \n",
       "258                   14 December 1907       7400       7400   \n",
       "259                   30 November 1903       1300       1300   \n",
       "\n",
       "                                                 Owner     Link(s)  \n",
       "0    Wakashio Suisan Company Limited, Kagoshima, Japan     [1] [2]  \n",
       "1                                       Trans Mountain         [3]  \n",
       "2                                            Nornickel      [4][5]  \n",
       "3                                                  NaN      [6][7]  \n",
       "4                                    Fortune Resources         [8]  \n",
       "..                                                 ...         ...  \n",
       "255                                                NaN       [300]  \n",
       "256                                                NaN  [273][301]  \n",
       "257                                                NaN       [302]  \n",
       "258                                                NaN       [303]  \n",
       "259                          Asiatic Petroleum Company       [304]  \n",
       "\n",
       "[260 rows x 7 columns]"
      ]
     },
     "execution_count": 5,
     "metadata": {},
     "output_type": "execute_result"
    }
   ],
   "source": [
    "tables[0]"
   ]
  },
  {
   "cell_type": "code",
   "execution_count": 6,
   "metadata": {},
   "outputs": [
    {
     "ename": "ValueError",
     "evalue": "could not convert string to float: 'unkown'",
     "output_type": "error",
     "traceback": [
      "\u001b[0;31m---------------------------------------------------------------------------\u001b[0m",
      "\u001b[0;31mValueError\u001b[0m                                Traceback (most recent call last)",
      "\u001b[0;32m<ipython-input-6-7ef3a346b792>\u001b[0m in \u001b[0;36m<module>\u001b[0;34m\u001b[0m\n\u001b[0;32m----> 1\u001b[0;31m \u001b[0mfloat\u001b[0m\u001b[0;34m(\u001b[0m\u001b[0;34m'unkown'\u001b[0m\u001b[0;34m)\u001b[0m\u001b[0;34m\u001b[0m\u001b[0;34m\u001b[0m\u001b[0m\n\u001b[0m",
      "\u001b[0;31mValueError\u001b[0m: could not convert string to float: 'unkown'"
     ]
    }
   ],
   "source": [
    "float('unkown')"
   ]
  },
  {
   "cell_type": "code",
   "execution_count": 7,
   "metadata": {},
   "outputs": [],
   "source": [
    "def robust_float(x):\n",
    "    try:\n",
    "        return float(x)\n",
    "    except ValueError:\n",
    "        return float('nan')"
   ]
  },
  {
   "cell_type": "code",
   "execution_count": 8,
   "metadata": {},
   "outputs": [],
   "source": [
    "tonnes = tables[0]['Max Tonnes'].apply(robust_float)"
   ]
  },
  {
   "cell_type": "code",
   "execution_count": 9,
   "metadata": {},
   "outputs": [],
   "source": [
    "import re"
   ]
  },
  {
   "cell_type": "code",
   "execution_count": 14,
   "metadata": {},
   "outputs": [
    {
     "data": {
      "text/plain": [
       "2020"
      ]
     },
     "execution_count": 14,
     "metadata": {},
     "output_type": "execute_result"
    }
   ],
   "source": [
    "int(re.search('\\d{4}', \"30 March 2020\").group())"
   ]
  },
  {
   "cell_type": "code",
   "execution_count": 10,
   "metadata": {},
   "outputs": [],
   "source": [
    "y = tables[0]['Dates'].apply(lambda x: int(re.search('\\d{4}', x).group()))"
   ]
  },
  {
   "cell_type": "code",
   "execution_count": 15,
   "metadata": {},
   "outputs": [],
   "source": [
    "total_tonnes = tonnes.groupby(y).sum()"
   ]
  },
  {
   "cell_type": "code",
   "execution_count": 16,
   "metadata": {},
   "outputs": [],
   "source": [
    "total_tonnes = total_tonnes[total_tonnes.index > 1970]"
   ]
  },
  {
   "cell_type": "code",
   "execution_count": 18,
   "metadata": {},
   "outputs": [
    {
     "data": {
      "text/plain": [
       "<AxesSubplot:xlabel='Dates'>"
      ]
     },
     "execution_count": 18,
     "metadata": {},
     "output_type": "execute_result"
    },
    {
     "data": {
      "image/png": "[encoded data removed]",
      "text/plain": [
       "<Figure size 432x288 with 1 Axes>"
      ]
     },
     "metadata": {
      "needs_background": "light"
     },
     "output_type": "display_data"
    }
   ],
   "source": [
    "total_tonnes.plot(marker='o', ls='')"
   ]
  },
  {
   "cell_type": "code",
   "execution_count": 19,
   "metadata": {},
   "outputs": [],
   "source": [
    "spills = y.groupby(y).size()"
   ]
  },
  {
   "cell_type": "code",
   "execution_count": 21,
   "metadata": {},
   "outputs": [],
   "source": [
    "spills = spills[spills.index > 1970]"
   ]
  },
  {
   "cell_type": "code",
   "execution_count": 27,
   "metadata": {},
   "outputs": [
    {
     "data": {
      "text/plain": [
       "<AxesSubplot:xlabel='Dates'>"
      ]
     },
     "execution_count": 27,
     "metadata": {},
     "output_type": "execute_result"
    },
    {
     "data": {
      "image/png": "[encoded data removed]",
      "text/plain": [
       "<Figure size 432x288 with 1 Axes>"
      ]
     },
     "metadata": {
      "needs_background": "light"
     },
     "output_type": "display_data"
    }
   ],
   "source": [
    "spills.plot(marker='o', ls='')"
   ]
  },
  {
   "cell_type": "code",
   "execution_count": 30,
   "metadata": {},
   "outputs": [],
   "source": [
    "years = spills.index"
   ]
  },
  {
   "cell_type": "code",
   "execution_count": 29,
   "metadata": {},
   "outputs": [],
   "source": [
    "import tensorflow as tf\n",
    "import tensorflow_probability as tfp\n",
    "\n",
    "tfd = tfp.distributions"
   ]
  },
  {
   "cell_type": "code",
   "execution_count": 121,
   "metadata": {},
   "outputs": [],
   "source": [
    "def spill_count_model(rate_fn):\n",
    "    count_model = tfd.JointDistributionNamed({\n",
    "        \"e\": tfd.Exponential(rate=1.0),\n",
    "        \"l\": tfd.Exponential(rate=1.0),\n",
    "        \"s\": tfd.Uniform(float(years.min()), float(years.max())),\n",
    "        \"d_t\": lambda s, l, e: tfd.Independent(\n",
    "            tfd.Poisson(rate = rate_fn(\n",
    "                tf.constant(years, dtype=tf.float32),\n",
    "                s[...,tf.newaxis], l[...,tf.newaxis], e[...,tf.newaxis])\n",
    "            ),\n",
    "        reinterpreted_batch_ndims=1)\n",
    "    })\n",
    "    return count_model"
   ]
  },
  {
   "cell_type": "code",
   "execution_count": 47,
   "metadata": {},
   "outputs": [
    {
     "data": {
      "text/plain": [
       "<tf.Tensor: shape=(3,), dtype=int32, numpy=array([ 1,  1, 12], dtype=int32)>"
      ]
     },
     "execution_count": 47,
     "metadata": {},
     "output_type": "execute_result"
    }
   ],
   "source": [
    "tf.where([True, True, False], 1, 12)"
   ]
  },
  {
   "cell_type": "code",
   "execution_count": 95,
   "metadata": {},
   "outputs": [],
   "source": [
    "def rate_fn_switch(years, s, l, e):\n",
    "    return tf.where(years < s, e, l)"
   ]
  },
  {
   "cell_type": "code",
   "execution_count": 96,
   "metadata": {},
   "outputs": [],
   "source": [
    "def rate_fn_sigmoid(years, s, l, e):\n",
    "    return e + tf.sigmoid(years - s) * (l - e)"
   ]
  },
  {
   "cell_type": "code",
   "execution_count": 113,
   "metadata": {},
   "outputs": [
    {
     "data": {
      "text/plain": [
       "<tf.Tensor: shape=(49,), dtype=int32, numpy=\n",
       "array([ 1,  1,  1,  1,  1,  1,  1,  1,  1,  1,  1,  1,  1,  1,  1,  1,  1,\n",
       "        1, 10, 10, 10, 10, 10, 10, 10, 10, 10, 10, 10, 10, 10, 10, 10, 10,\n",
       "       10, 10, 10, 10, 10, 10, 10, 10, 10, 10, 10, 10, 10, 10, 10],\n",
       "      dtype=int32)>"
      ]
     },
     "execution_count": 113,
     "metadata": {},
     "output_type": "execute_result"
    }
   ],
   "source": [
    "rate_fn_switch(years, 1990, 10, 1)"
   ]
  },
  {
   "cell_type": "code",
   "execution_count": 118,
   "metadata": {},
   "outputs": [
    {
     "data": {
      "text/plain": [
       "[<matplotlib.lines.Line2D at 0x15b354dc0>]"
      ]
     },
     "execution_count": 118,
     "metadata": {},
     "output_type": "execute_result"
    },
    {
     "data": {
      "image/png": "[encoded data removed]",
      "text/plain": [
       "<Figure size 432x288 with 1 Axes>"
      ]
     },
     "metadata": {
      "needs_background": "light"
     },
     "output_type": "display_data"
    }
   ],
   "source": [
    "plt.plot(years, rate_fn_sigmoid(years, 1990., 10, 1).numpy(), marker='o', ls='')"
   ]
  },
  {
   "cell_type": "code",
   "execution_count": 122,
   "metadata": {},
   "outputs": [],
   "source": [
    "model_switch = spill_count_model(rate_fn_switch)\n",
    "model_sigmoid = spill_count_model(rate_fn_sigmoid)"
   ]
  },
  {
   "cell_type": "code",
   "execution_count": 111,
   "metadata": {},
   "outputs": [
    {
     "data": {
      "text/plain": [
       "(('s', ()), ('l', ()), ('e', ()), ('d_t', ('s', 'l', 'e')))"
      ]
     },
     "execution_count": 111,
     "metadata": {},
     "output_type": "execute_result"
    }
   ],
   "source": [
    "model_sigmoid.resolve_graph()"
   ]
  },
  {
   "cell_type": "code",
   "execution_count": 50,
   "metadata": {},
   "outputs": [],
   "source": [
    "import matplotlib.pyplot as plt"
   ]
  },
  {
   "cell_type": "code",
   "execution_count": 51,
   "metadata": {},
   "outputs": [
    {
     "data": {
      "text/plain": [
       "[<matplotlib.lines.Line2D at 0x15a92d250>]"
      ]
     },
     "execution_count": 51,
     "metadata": {},
     "output_type": "execute_result"
    },
    {
     "data": {
      "image/png": "[encoded data removed]",
      "text/plain": [
       "<Figure size 432x288 with 1 Axes>"
      ]
     },
     "metadata": {
      "needs_background": "light"
     },
     "output_type": "display_data"
    }
   ],
   "source": [
    "plt.plot(years, model_switch.sample()['d_t'])"
   ]
  },
  {
   "cell_type": "code",
   "execution_count": 52,
   "metadata": {},
   "outputs": [],
   "source": [
    "def target_log_prob(model, s, e, l):\n",
    "    return model.log_prob(s=s, e=e, l=l, d_t=spills)"
   ]
  },
  {
   "cell_type": "code",
   "execution_count": 53,
   "metadata": {},
   "outputs": [
    {
     "data": {
      "text/plain": [
       "<tf.Tensor: shape=(), dtype=float32, numpy=-127.52641>"
      ]
     },
     "execution_count": 53,
     "metadata": {},
     "output_type": "execute_result"
    }
   ],
   "source": [
    "target_log_prob(model_switch, 2000, 4, 8)"
   ]
  },
  {
   "cell_type": "markdown",
   "metadata": {},
   "source": [
    "# MAP estimate"
   ]
  },
  {
   "cell_type": "code",
   "execution_count": 69,
   "metadata": {},
   "outputs": [],
   "source": [
    "s, e, l = tf.Variable(1990.), tf.Variable(1.0), tf.Variable(1.0)"
   ]
  },
  {
   "cell_type": "code",
   "execution_count": 76,
   "metadata": {},
   "outputs": [],
   "source": [
    "loss = lambda: -target_log_prob(model_sigmoid, s, e, l)"
   ]
  },
  {
   "cell_type": "code",
   "execution_count": 77,
   "metadata": {},
   "outputs": [
    {
     "data": {
      "text/plain": [
       "<tf.Tensor: shape=(), dtype=float32, numpy=300.3353>"
      ]
     },
     "execution_count": 77,
     "metadata": {},
     "output_type": "execute_result"
    }
   ],
   "source": [
    "loss()"
   ]
  },
  {
   "cell_type": "code",
   "execution_count": 78,
   "metadata": {},
   "outputs": [],
   "source": [
    "opt = tf.optimizers.SGD(learning_rate=0.2)\n",
    "loss_hist = []\n",
    "var_hist = {v: [] for v in ['s', 'e', 'l']}\n",
    "for _ in range(50):\n",
    "    opt.minimize(loss, [s, e, l])\n",
    "    loss_hist.append(loss().numpy())\n",
    "    var_hist['e'].append(e.numpy())    \n",
    "    var_hist['s'].append(s.numpy())    \n",
    "    var_hist['l'].append(l.numpy())    "
   ]
  },
  {
   "cell_type": "code",
   "execution_count": 79,
   "metadata": {},
   "outputs": [
    {
     "data": {
      "text/plain": [
       "[<matplotlib.lines.Line2D at 0x15a98f400>]"
      ]
     },
     "execution_count": 79,
     "metadata": {},
     "output_type": "execute_result"
    },
    {
     "data": {
      "image/png": "[encoded data removed]",
      "text/plain": [
       "<Figure size 432x288 with 1 Axes>"
      ]
     },
     "metadata": {
      "needs_background": "light"
     },
     "output_type": "display_data"
    }
   ],
   "source": [
    "plt.plot(loss_hist)"
   ]
  },
  {
   "cell_type": "code",
   "execution_count": 80,
   "metadata": {},
   "outputs": [
    {
     "data": {
      "text/plain": [
       "(<tf.Variable 'Variable:0' shape=() dtype=float32, numpy=2002.2244>,\n",
       " <tf.Variable 'Variable:0' shape=() dtype=float32, numpy=3.3495784>,\n",
       " <tf.Variable 'Variable:0' shape=() dtype=float32, numpy=6.461434>)"
      ]
     },
     "execution_count": 80,
     "metadata": {},
     "output_type": "execute_result"
    }
   ],
   "source": [
    "s, e, l"
   ]
  },
  {
   "cell_type": "markdown",
   "metadata": {},
   "source": [
    "# Refresher"
   ]
  },
  {
   "cell_type": "code",
   "execution_count": 153,
   "metadata": {},
   "outputs": [],
   "source": [
    "# let's look again at our simple model with 50 coin tosses\n",
    "thetas = tf.linspace(0.0, 1.0, 200)\n",
    "simple_model = tfd.Binomial(total_count=50, probs=thetas)"
   ]
  },
  {
   "cell_type": "code",
   "execution_count": 154,
   "metadata": {},
   "outputs": [
    {
     "data": {
      "text/plain": [
       "[<matplotlib.lines.Line2D at 0x15d005940>]"
      ]
     },
     "execution_count": 154,
     "metadata": {},
     "output_type": "execute_result"
    },
    {
     "data": {
      "image/png": "[encoded data removed]",
      "text/plain": [
       "<Figure size 432x288 with 1 Axes>"
      ]
     },
     "metadata": {
      "needs_background": "light"
     },
     "output_type": "display_data"
    }
   ],
   "source": [
    "# given that we get 20 times 'heads', what is the likelihood of each theta?\n",
    "plt.plot(thetas, simple_model.prob(20))"
   ]
  },
  {
   "cell_type": "code",
   "execution_count": 151,
   "metadata": {},
   "outputs": [],
   "source": [
    "# sample from our thetas, with probability given by the model\n",
    "idx = tf.random.categorical([simple_model.log_prob(20)], num_samples=10000)[0]\n",
    "theta_sample = tf.gather(thetas, idx).numpy()"
   ]
  },
  {
   "cell_type": "code",
   "execution_count": 152,
   "metadata": {},
   "outputs": [
    {
     "data": {
      "image/png": "[encoded data removed]",
      "text/plain": [
       "<Figure size 432x288 with 1 Axes>"
      ]
     },
     "metadata": {
      "needs_background": "light"
     },
     "output_type": "display_data"
    }
   ],
   "source": [
    "plt.hist(theta_sample, bins=20)\n",
    "None"
   ]
  },
  {
   "cell_type": "code",
   "execution_count": 159,
   "metadata": {},
   "outputs": [
    {
     "name": "stdout",
     "output_type": "stream",
     "text": [
      "0.9201 of samples is below 0.5\n"
     ]
    }
   ],
   "source": [
    "# whith this sample, we can now answer questions, like how certain we are that the coin is unfair?\n",
    "print(f\"{(theta_sample < 0.5).mean()} of samples is below 0.5\")"
   ]
  },
  {
   "cell_type": "markdown",
   "metadata": {},
   "source": [
    "## Grid approximation"
   ]
  },
  {
   "cell_type": "code",
   "execution_count": 255,
   "metadata": {},
   "outputs": [],
   "source": [
    "es = tf.linspace(0., 6., 60)\n",
    "ls = tf.linspace(1., 12., 60)\n",
    "switches = tf.linspace(1990., 2015., 60)"
   ]
  },
  {
   "cell_type": "code",
   "execution_count": 256,
   "metadata": {},
   "outputs": [],
   "source": [
    "grid = tf.meshgrid(switches, es, ls)"
   ]
  },
  {
   "cell_type": "code",
   "execution_count": 257,
   "metadata": {},
   "outputs": [
    {
     "data": {
      "text/plain": [
       "<tf.Tensor: shape=(216000,), dtype=float32, numpy=array([1990., 1990., 1990., ..., 2015., 2015., 2015.], dtype=float32)>"
      ]
     },
     "execution_count": 257,
     "metadata": {},
     "output_type": "execute_result"
    }
   ],
   "source": [
    "tf.reshape(grid[0], [-1])"
   ]
  },
  {
   "cell_type": "code",
   "execution_count": 258,
   "metadata": {},
   "outputs": [],
   "source": [
    "log_probs = target_log_prob(model_sigmoid, *[tf.reshape(grid[i], [-1]) for i in range(3)])"
   ]
  },
  {
   "cell_type": "code",
   "execution_count": 259,
   "metadata": {},
   "outputs": [],
   "source": [
    "log_probs = tf.reshape(log_probs, [len(switches), len(es), len(ls)])"
   ]
  },
  {
   "cell_type": "code",
   "execution_count": 260,
   "metadata": {},
   "outputs": [
    {
     "data": {
      "text/plain": [
       "[<matplotlib.lines.Line2D at 0x161ad27c0>]"
      ]
     },
     "execution_count": 260,
     "metadata": {},
     "output_type": "execute_result"
    },
    {
     "data": {
      "image/png": "[encoded data removed]",
      "text/plain": [
       "<Figure size 432x288 with 1 Axes>"
      ]
     },
     "metadata": {
      "needs_background": "light"
     },
     "output_type": "display_data"
    }
   ],
   "source": [
    "plt.plot(switches, log_probs[:,20,20])"
   ]
  },
  {
   "cell_type": "code",
   "execution_count": 261,
   "metadata": {},
   "outputs": [
    {
     "data": {
      "text/plain": [
       "(<tf.Tensor: shape=(), dtype=float32, numpy=2.0338984>,\n",
       " <tf.Tensor: shape=(), dtype=float32, numpy=4.7288136>)"
      ]
     },
     "execution_count": 261,
     "metadata": {},
     "output_type": "execute_result"
    }
   ],
   "source": [
    "es[20], ls[20]"
   ]
  },
  {
   "cell_type": "code",
   "execution_count": 262,
   "metadata": {},
   "outputs": [
    {
     "data": {
      "text/plain": [
       "(<tf.Tensor: shape=(), dtype=float32, numpy=0.5084746>,\n",
       " <tf.Tensor: shape=(), dtype=float32, numpy=7.5254235>)"
      ]
     },
     "execution_count": 262,
     "metadata": {},
     "output_type": "execute_result"
    }
   ],
   "source": [
    "es[5], ls[35]"
   ]
  },
  {
   "cell_type": "code",
   "execution_count": 263,
   "metadata": {},
   "outputs": [
    {
     "data": {
      "text/plain": [
       "[<matplotlib.lines.Line2D at 0x161b26b80>]"
      ]
     },
     "execution_count": 263,
     "metadata": {},
     "output_type": "execute_result"
    },
    {
     "data": {
      "image/png": "[encoded data removed]",
      "text/plain": [
       "<Figure size 432x288 with 1 Axes>"
      ]
     },
     "metadata": {
      "needs_background": "light"
     },
     "output_type": "display_data"
    }
   ],
   "source": [
    "plt.plot(switches, log_probs[:,5,5])"
   ]
  },
  {
   "cell_type": "code",
   "execution_count": 264,
   "metadata": {},
   "outputs": [
    {
     "data": {
      "text/plain": [
       "<tf.Tensor: shape=(), dtype=float32, numpy=-119.73487>"
      ]
     },
     "execution_count": 264,
     "metadata": {},
     "output_type": "execute_result"
    }
   ],
   "source": [
    "tf.reduce_max(log_probs)"
   ]
  },
  {
   "cell_type": "code",
   "execution_count": 265,
   "metadata": {},
   "outputs": [
    {
     "data": {
      "text/plain": [
       "[<matplotlib.lines.Line2D at 0x161b4b850>]"
      ]
     },
     "execution_count": 265,
     "metadata": {},
     "output_type": "execute_result"
    },
    {
     "data": {
      "image/png": "[encoded data removed]",
      "text/plain": [
       "<Figure size 432x288 with 1 Axes>"
      ]
     },
     "metadata": {
      "needs_background": "light"
     },
     "output_type": "display_data"
    }
   ],
   "source": [
    "plt.plot(es, log_probs[10,:,10])"
   ]
  },
  {
   "cell_type": "code",
   "execution_count": 266,
   "metadata": {},
   "outputs": [
    {
     "data": {
      "text/plain": [
       "[<matplotlib.lines.Line2D at 0x161bd60d0>]"
      ]
     },
     "execution_count": 266,
     "metadata": {},
     "output_type": "execute_result"
    },
    {
     "data": {
      "image/png": "[encoded data removed]",
      "text/plain": [
       "<Figure size 432x288 with 1 Axes>"
      ]
     },
     "metadata": {
      "needs_background": "light"
     },
     "output_type": "display_data"
    }
   ],
   "source": [
    "plt.plot(ls, log_probs[10,10,:])"
   ]
  },
  {
   "cell_type": "code",
   "execution_count": 267,
   "metadata": {},
   "outputs": [],
   "source": [
    "idx = tf.random.categorical(logits=tf.reshape(log_probs, [1,-1]), num_samples=10000)[0]"
   ]
  },
  {
   "cell_type": "code",
   "execution_count": 268,
   "metadata": {},
   "outputs": [
    {
     "data": {
      "image/png": "[encoded data removed]",
      "text/plain": [
       "<Figure size 432x288 with 1 Axes>"
      ]
     },
     "metadata": {
      "needs_background": "light"
     },
     "output_type": "display_data"
    }
   ],
   "source": [
    "plt.hist(tf.gather(tf.reshape(grid[0], [-1]), idx).numpy(), bins=15)\n",
    "None"
   ]
  },
  {
   "cell_type": "code",
   "execution_count": 269,
   "metadata": {},
   "outputs": [
    {
     "data": {
      "image/png": "[encoded data removed]",
      "text/plain": [
       "<Figure size 432x288 with 1 Axes>"
      ]
     },
     "metadata": {
      "needs_background": "light"
     },
     "output_type": "display_data"
    }
   ],
   "source": [
    "plt.hist(tf.gather(tf.reshape(grid[1], [-1]), idx).numpy(), bins=15)\n",
    "None"
   ]
  },
  {
   "cell_type": "code",
   "execution_count": 270,
   "metadata": {},
   "outputs": [
    {
     "data": {
      "image/png": "[encoded data removed]",
      "text/plain": [
       "<Figure size 432x288 with 1 Axes>"
      ]
     },
     "metadata": {
      "needs_background": "light"
     },
     "output_type": "display_data"
    }
   ],
   "source": [
    "plt.hist(tf.gather(tf.reshape(grid[2], [-1]), idx).numpy(), bins=15)\n",
    "None"
   ]
  },
  {
   "cell_type": "code",
   "execution_count": null,
   "metadata": {},
   "outputs": [],
   "source": []
  }
 ],
 "metadata": {
  "kernelspec": {
   "display_name": "Python 3",
   "language": "python",
   "name": "python3"
  },
  "language_info": {
   "codemirror_mode": {
    "name": "ipython",
    "version": 3
   },
   "file_extension": ".py",
   "mimetype": "text/x-python",
   "name": "python",
   "nbconvert_exporter": "python",
   "pygments_lexer": "ipython3",
   "version": "3.8.5"
  }
 },
 "nbformat": 4,
 "nbformat_minor": 4
}
