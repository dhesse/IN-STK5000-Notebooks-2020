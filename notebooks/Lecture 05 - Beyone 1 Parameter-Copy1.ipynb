{
 "cells": [
  {
   "cell_type": "code",
   "execution_count": 21,
   "metadata": {},
   "outputs": [],
   "source": [
    "import pandas\n",
    "import matplotlib.pyplot as plt"
   ]
  },
  {
   "cell_type": "code",
   "execution_count": 2,
   "metadata": {},
   "outputs": [],
   "source": [
    "tables = pandas.read_html('https://en.wikipedia.org/wiki/List_of_oil_spills')"
   ]
  },
  {
   "cell_type": "code",
   "execution_count": 3,
   "metadata": {},
   "outputs": [],
   "source": [
    "def robust_float(x):\n",
    "    try:\n",
    "        return float(x)\n",
    "    except ValueError:\n",
    "        return float('nan')"
   ]
  },
  {
   "cell_type": "code",
   "execution_count": 4,
   "metadata": {},
   "outputs": [],
   "source": [
    "tonnes = tables[0]['Max Tonnes'].apply(robust_float)"
   ]
  },
  {
   "cell_type": "code",
   "execution_count": 5,
   "metadata": {},
   "outputs": [],
   "source": [
    "import re"
   ]
  },
  {
   "cell_type": "code",
   "execution_count": 6,
   "metadata": {},
   "outputs": [],
   "source": [
    "y = tables[0]['Dates'].apply(lambda x: int(re.search('\\d{4}', x).group()))"
   ]
  },
  {
   "cell_type": "code",
   "execution_count": 7,
   "metadata": {},
   "outputs": [],
   "source": [
    "total_tonnes = tonnes.groupby(y).sum()"
   ]
  },
  {
   "cell_type": "code",
   "execution_count": 8,
   "metadata": {},
   "outputs": [],
   "source": [
    "total_tonnes = total_tonnes[total_tonnes.index > 1970]"
   ]
  },
  {
   "cell_type": "code",
   "execution_count": 9,
   "metadata": {},
   "outputs": [
    {
     "data": {
      "text/plain": [
       "<AxesSubplot:xlabel='Dates'>"
      ]
     },
     "execution_count": 9,
     "metadata": {},
     "output_type": "execute_result"
    },
    {
     "data": {
      "image/png": "[encoded data removed]",
      "text/plain": [
       "<Figure size 432x288 with 1 Axes>"
      ]
     },
     "metadata": {
      "needs_background": "light"
     },
     "output_type": "display_data"
    }
   ],
   "source": [
    "total_tonnes.plot(marker='o', ls='')"
   ]
  },
  {
   "cell_type": "code",
   "execution_count": 10,
   "metadata": {},
   "outputs": [],
   "source": [
    "spills = y.groupby(y).size()"
   ]
  },
  {
   "cell_type": "code",
   "execution_count": 11,
   "metadata": {},
   "outputs": [],
   "source": [
    "spills = spills[spills.index > 1970]"
   ]
  },
  {
   "cell_type": "code",
   "execution_count": 12,
   "metadata": {},
   "outputs": [
    {
     "data": {
      "text/plain": [
       "<AxesSubplot:xlabel='Dates'>"
      ]
     },
     "execution_count": 12,
     "metadata": {},
     "output_type": "execute_result"
    },
    {
     "data": {
      "image/png": "[encoded data removed]",
      "text/plain": [
       "<Figure size 432x288 with 1 Axes>"
      ]
     },
     "metadata": {
      "needs_background": "light"
     },
     "output_type": "display_data"
    }
   ],
   "source": [
    "spills.plot(marker='o', ls='')"
   ]
  },
  {
   "cell_type": "code",
   "execution_count": 13,
   "metadata": {},
   "outputs": [],
   "source": [
    "years = spills.index"
   ]
  },
  {
   "cell_type": "code",
   "execution_count": 14,
   "metadata": {},
   "outputs": [],
   "source": [
    "import tensorflow as tf\n",
    "import tensorflow_probability as tfp\n",
    "\n",
    "tfd = tfp.distributions"
   ]
  },
  {
   "cell_type": "code",
   "execution_count": 30,
   "metadata": {},
   "outputs": [],
   "source": [
    "def spill_count_model(rate_fn):\n",
    "    count_model = tfd.JointDistributionNamed({\n",
    "        \"e\": tfd.Exponential(rate=1.0),\n",
    "        \"l\": tfd.Exponential(rate=5.0),\n",
    "        \"s\": tfd.Uniform(float(years.min()), float(years.max())),\n",
    "        \"d_t\": lambda s, l, e: tfd.Independent(\n",
    "            tfd.Poisson(rate = rate_fn(\n",
    "                tf.constant(years, dtype=tf.float32),\n",
    "                s[...,tf.newaxis], l[...,tf.newaxis], e[...,tf.newaxis])\n",
    "            ),\n",
    "        reinterpreted_batch_ndims=1)\n",
    "    })\n",
    "    return count_model"
   ]
  },
  {
   "cell_type": "code",
   "execution_count": 16,
   "metadata": {},
   "outputs": [
    {
     "data": {
      "text/plain": [
       "<tf.Tensor: shape=(3,), dtype=int32, numpy=array([ 1,  1, 12], dtype=int32)>"
      ]
     },
     "execution_count": 16,
     "metadata": {},
     "output_type": "execute_result"
    }
   ],
   "source": [
    "tf.where([True, True, False], 1, 12)"
   ]
  },
  {
   "cell_type": "code",
   "execution_count": 17,
   "metadata": {},
   "outputs": [],
   "source": [
    "def rate_fn_switch(years, s, l, e):\n",
    "    return tf.where(years < s, e, l)"
   ]
  },
  {
   "cell_type": "code",
   "execution_count": 18,
   "metadata": {},
   "outputs": [],
   "source": [
    "def rate_fn_sigmoid(years, s, l, e):\n",
    "    return e + tf.sigmoid(years - s) * (l - e)"
   ]
  },
  {
   "cell_type": "code",
   "execution_count": 19,
   "metadata": {},
   "outputs": [
    {
     "data": {
      "text/plain": [
       "<tf.Tensor: shape=(49,), dtype=int32, numpy=\n",
       "array([ 1,  1,  1,  1,  1,  1,  1,  1,  1,  1,  1,  1,  1,  1,  1,  1,  1,\n",
       "        1, 10, 10, 10, 10, 10, 10, 10, 10, 10, 10, 10, 10, 10, 10, 10, 10,\n",
       "       10, 10, 10, 10, 10, 10, 10, 10, 10, 10, 10, 10, 10, 10, 10],\n",
       "      dtype=int32)>"
      ]
     },
     "execution_count": 19,
     "metadata": {},
     "output_type": "execute_result"
    }
   ],
   "source": [
    "rate_fn_switch(years, 1990, 10, 1)"
   ]
  },
  {
   "cell_type": "code",
   "execution_count": 22,
   "metadata": {},
   "outputs": [
    {
     "data": {
      "text/plain": [
       "[<matplotlib.lines.Line2D at 0x153b63a30>]"
      ]
     },
     "execution_count": 22,
     "metadata": {},
     "output_type": "execute_result"
    },
    {
     "data": {
      "image/png": "[encoded data removed]",
      "text/plain": [
       "<Figure size 432x288 with 1 Axes>"
      ]
     },
     "metadata": {
      "needs_background": "light"
     },
     "output_type": "display_data"
    }
   ],
   "source": [
    "plt.plot(years, rate_fn_sigmoid(years, 1990., 10, 1).numpy(), marker='o', ls='')"
   ]
  },
  {
   "cell_type": "code",
   "execution_count": 23,
   "metadata": {},
   "outputs": [],
   "source": [
    "model_sigmoid = spill_count_model(rate_fn_sigmoid)"
   ]
  },
  {
   "cell_type": "code",
   "execution_count": 24,
   "metadata": {},
   "outputs": [
    {
     "data": {
      "text/plain": [
       "(('s', ()), ('l', ()), ('e', ()), ('d_t', ('s', 'l', 'e')))"
      ]
     },
     "execution_count": 24,
     "metadata": {},
     "output_type": "execute_result"
    }
   ],
   "source": [
    "model_sigmoid.resolve_graph()"
   ]
  },
  {
   "cell_type": "code",
   "execution_count": 25,
   "metadata": {},
   "outputs": [],
   "source": [
    "import matplotlib.pyplot as plt"
   ]
  },
  {
   "cell_type": "code",
   "execution_count": 31,
   "metadata": {},
   "outputs": [
    {
     "data": {
      "text/plain": [
       "{'s': <tf.Tensor: shape=(), dtype=float32, numpy=1985.3718>,\n",
       " 'l': <tf.Tensor: shape=(), dtype=float32, numpy=0.1719291>,\n",
       " 'e': <tf.Tensor: shape=(), dtype=float32, numpy=0.10839252>,\n",
       " 'd_t': <tf.Tensor: shape=(49,), dtype=float32, numpy=\n",
       " array([0., 0., 0., 0., 0., 0., 0., 0., 0., 0., 0., 0., 0., 0., 0., 0., 2.,\n",
       "        1., 0., 0., 0., 0., 0., 0., 0., 0., 0., 0., 0., 0., 0., 0., 0., 0.,\n",
       "        0., 0., 0., 0., 0., 0., 1., 0., 0., 0., 0., 0., 0., 1., 0.],\n",
       "       dtype=float32)>}"
      ]
     },
     "execution_count": 31,
     "metadata": {},
     "output_type": "execute_result"
    }
   ],
   "source": [
    "model_sigmoid.sample()"
   ]
  },
  {
   "cell_type": "code",
   "execution_count": 34,
   "metadata": {},
   "outputs": [
    {
     "data": {
      "text/plain": [
       "[<matplotlib.lines.Line2D at 0x153d7a8e0>]"
      ]
     },
     "execution_count": 34,
     "metadata": {},
     "output_type": "execute_result"
    },
    {
     "data": {
      "image/png": "[encoded data removed]",
      "text/plain": [
       "<Figure size 432x288 with 1 Axes>"
      ]
     },
     "metadata": {
      "needs_background": "light"
     },
     "output_type": "display_data"
    }
   ],
   "source": [
    "plt.plot(years, model_sigmoid.sample()['d_t'], marker='o', ls='')"
   ]
  },
  {
   "cell_type": "code",
   "execution_count": 40,
   "metadata": {},
   "outputs": [],
   "source": [
    "def target_log_prob(s, e, l):\n",
    "    return model_sigmoid.log_prob(s=s, e=e, l=l, d_t=spills)"
   ]
  },
  {
   "cell_type": "code",
   "execution_count": 42,
   "metadata": {},
   "outputs": [
    {
     "data": {
      "text/plain": [
       "<tf.Tensor: shape=(), dtype=float32, numpy=-127.27393>"
      ]
     },
     "execution_count": 42,
     "metadata": {},
     "output_type": "execute_result"
    }
   ],
   "source": [
    "target_log_prob(2000, 4, 8) # P(s, e, l| data)"
   ]
  },
  {
   "cell_type": "code",
   "execution_count": 44,
   "metadata": {},
   "outputs": [],
   "source": [
    "tfb = tfp.bijectors\n",
    "\n",
    "@tf.function\n",
    "def make_chain(target_log_prob, n_chains, num_results, num_burin_steps):\n",
    "    kernel = tfp.mcmc.HamiltonianMonteCarlo(\n",
    "        target_log_prob_fn=target_log_prob,\n",
    "        step_size=0.05,\n",
    "        num_leapfrog_steps=3\n",
    "    )\n",
    "    states = tfp.mcmc.sample_chain(\n",
    "        num_results=num_results,\n",
    "        num_burnin_steps=num_burin_steps,\n",
    "        kernel=kernel,\n",
    "        current_state=[\n",
    "            tfd.Uniform(float(years.min()), float(years.max())).sample(n_chains),\n",
    "            tf.ones([n_chains]), # TODO: Randomize\n",
    "            tf.ones([n_chains]) # TODO: Randomizee\n",
    "        ]\n",
    "    )\n",
    "    return states"
   ]
  },
  {
   "cell_type": "code",
   "execution_count": 46,
   "metadata": {},
   "outputs": [],
   "source": [
    "samples = make_chain(target_log_prob, 4, 10000, 3000)"
   ]
  },
  {
   "cell_type": "code",
   "execution_count": 55,
   "metadata": {},
   "outputs": [
    {
     "data": {
      "image/png": "[encoded data removed]",
      "text/plain": [
       "<Figure size 432x288 with 1 Axes>"
      ]
     },
     "metadata": {
      "needs_background": "light"
     },
     "output_type": "display_data"
    }
   ],
   "source": [
    "for i in range(4):\n",
    "    plt.hist(samples[0][0][:,i].numpy(), alpha=0.5)"
   ]
  },
  {
   "cell_type": "code",
   "execution_count": 56,
   "metadata": {},
   "outputs": [
    {
     "data": {
      "image/png": "[encoded data removed]",
      "text/plain": [
       "<Figure size 432x288 with 1 Axes>"
      ]
     },
     "metadata": {
      "needs_background": "light"
     },
     "output_type": "display_data"
    }
   ],
   "source": [
    "for i in range(4):\n",
    "    plt.hist(samples[0][1][:,i].numpy(), alpha=0.5)"
   ]
  },
  {
   "cell_type": "code",
   "execution_count": 57,
   "metadata": {},
   "outputs": [
    {
     "data": {
      "image/png": "[encoded data removed]",
      "text/plain": [
       "<Figure size 432x288 with 1 Axes>"
      ]
     },
     "metadata": {
      "needs_background": "light"
     },
     "output_type": "display_data"
    }
   ],
   "source": [
    "for i in range(4):\n",
    "    plt.hist(samples[0][2][:,i].numpy(), alpha=0.5)"
   ]
  },
  {
   "cell_type": "code",
   "execution_count": 58,
   "metadata": {},
   "outputs": [
    {
     "data": {
      "image/png": "[encoded data removed]",
      "text/plain": [
       "<Figure size 432x288 with 1 Axes>"
      ]
     },
     "metadata": {
      "needs_background": "light"
     },
     "output_type": "display_data"
    }
   ],
   "source": [
    "for i in range(4):\n",
    "    plt.hist(samples[0][1][:,i].numpy(), alpha=0.5)\n",
    "    plt.hist(samples[0][2][:,i].numpy(), alpha=0.5)"
   ]
  },
  {
   "cell_type": "code",
   "execution_count": 61,
   "metadata": {},
   "outputs": [
    {
     "name": "stdout",
     "output_type": "stream",
     "text": [
      "Rhat for switchpoint: 1.1700975894927979\n",
      "Rhat for early rate: 1.014410138130188\n",
      "Rhat for late rate: 1.025351881980896\n"
     ]
    }
   ],
   "source": [
    "for i, name in enumerate(['switchpoint', 'early rate', 'late rate']):\n",
    "    print(f\"Rhat for {name}: {tfp.mcmc.potential_scale_reduction(samples[0][i])}\")"
   ]
  },
  {
   "cell_type": "code",
   "execution_count": 62,
   "metadata": {},
   "outputs": [
    {
     "data": {
      "text/plain": [
       "\u001b[0;31mSignature:\u001b[0m\n",
       "\u001b[0mtfp\u001b[0m\u001b[0;34m.\u001b[0m\u001b[0mmcmc\u001b[0m\u001b[0;34m.\u001b[0m\u001b[0mpotential_scale_reduction\u001b[0m\u001b[0;34m(\u001b[0m\u001b[0;34m\u001b[0m\n",
       "\u001b[0;34m\u001b[0m    \u001b[0mchains_states\u001b[0m\u001b[0;34m,\u001b[0m\u001b[0;34m\u001b[0m\n",
       "\u001b[0;34m\u001b[0m    \u001b[0mindependent_chain_ndims\u001b[0m\u001b[0;34m=\u001b[0m\u001b[0;36m1\u001b[0m\u001b[0;34m,\u001b[0m\u001b[0;34m\u001b[0m\n",
       "\u001b[0;34m\u001b[0m    \u001b[0msplit_chains\u001b[0m\u001b[0;34m=\u001b[0m\u001b[0;32mFalse\u001b[0m\u001b[0;34m,\u001b[0m\u001b[0;34m\u001b[0m\n",
       "\u001b[0;34m\u001b[0m    \u001b[0mvalidate_args\u001b[0m\u001b[0;34m=\u001b[0m\u001b[0;32mFalse\u001b[0m\u001b[0;34m,\u001b[0m\u001b[0;34m\u001b[0m\n",
       "\u001b[0;34m\u001b[0m    \u001b[0mname\u001b[0m\u001b[0;34m=\u001b[0m\u001b[0;32mNone\u001b[0m\u001b[0;34m,\u001b[0m\u001b[0;34m\u001b[0m\n",
       "\u001b[0;34m\u001b[0m\u001b[0;34m)\u001b[0m\u001b[0;34m\u001b[0m\u001b[0;34m\u001b[0m\u001b[0m\n",
       "\u001b[0;31mDocstring:\u001b[0m\n",
       "Gelman and Rubin (1992)'s potential scale reduction for chain convergence.\n",
       "\n",
       "Given `N > 1` states from each of `C > 1` independent chains, the potential\n",
       "scale reduction factor, commonly referred to as R-hat, measures convergence of\n",
       "the chains (to the same target) by testing for equality of means.\n",
       "Specifically, R-hat measures the degree to which variance (of the means)\n",
       "between chains exceeds what one would expect if the chains were identically\n",
       "distributed. See [Gelman and Rubin (1992)][1]; [Brooks and Gelman (1998)][2].\n",
       "\n",
       "Some guidelines:\n",
       "\n",
       "* The initial state of the chains should be drawn from a distribution\n",
       "  overdispersed with respect to the target.\n",
       "* If all chains converge to the target, then as `N --> infinity`, R-hat --> 1.\n",
       "  Before that, R-hat > 1 (except in pathological cases, e.g. if the chain\n",
       "  paths were identical).\n",
       "* The above holds for any number of chains `C > 1`.  Increasing `C` does\n",
       "  improve effectiveness of the diagnostic.\n",
       "* Sometimes, R-hat < 1.2 is used to indicate approximate convergence, but of\n",
       "  course this is problem-dependent. See [Brooks and Gelman (1998)][2].\n",
       "* R-hat only measures non-convergence of the mean. If higher moments, or\n",
       "  other statistics are desired, a different diagnostic should be used. See\n",
       "  [Brooks and Gelman (1998)][2].\n",
       "\n",
       "Args:\n",
       "  chains_states:  `Tensor` or Python `list` of `Tensor`s representing the\n",
       "    states of a Markov Chain at each result step.  The `ith` state is\n",
       "    assumed to have shape `[Ni, Ci1, Ci2,...,CiD] + A`.\n",
       "    Dimension `0` indexes the `Ni > 1` result steps of the Markov Chain.\n",
       "    Dimensions `1` through `D` index the `Ci1 x ... x CiD` independent\n",
       "    chains to be tested for convergence to the same target.\n",
       "    The remaining dimensions, `A`, can have any shape (even empty).\n",
       "  independent_chain_ndims: Integer type `Tensor` with value `>= 1` giving the\n",
       "    number of dimensions, from `dim = 1` to `dim = D`, holding independent\n",
       "    chain results to be tested for convergence.\n",
       "  split_chains: Python `bool`. If `True`, divide samples from each chain into\n",
       "    first and second halves, treating these as separate chains.  This makes\n",
       "    R-hat more robust to non-stationary chains, and is recommended in [3].\n",
       "  validate_args: Whether to add runtime checks of argument validity. If False,\n",
       "    and arguments are incorrect, correct behavior is not guaranteed.\n",
       "  name: `String` name to prepend to created tf.  Default:\n",
       "    `potential_scale_reduction`.\n",
       "\n",
       "Returns:\n",
       "  `Tensor` or Python `list` of `Tensor`s representing the R-hat statistic for\n",
       "  the state(s).  Same `dtype` as `state`, and shape equal to\n",
       "  `state.shape[1 + independent_chain_ndims:]`.\n",
       "\n",
       "Raises:\n",
       "  ValueError:  If `independent_chain_ndims < 1`.\n",
       "\n",
       "#### Examples\n",
       "\n",
       "Diagnosing convergence by monitoring 10 chains that each attempt to\n",
       "sample from a 2-variate normal.\n",
       "\n",
       "```python\n",
       "import tensorflow as tf\n",
       "import tensorflow_probability as tfp\n",
       "tfd = tfp.distributions\n",
       "\n",
       "target = tfd.MultivariateNormalDiag(scale_diag=[1., 2.])\n",
       "\n",
       "# Get 10 (2x) overdispersed initial states.\n",
       "initial_state = target.sample(10) * 2.\n",
       "==> (10, 2)\n",
       "\n",
       "# Get 1000 samples from the 10 independent chains.\n",
       "chains_states = tfp.mcmc.sample_chain(\n",
       "    num_burnin_steps=200,\n",
       "    num_results=1000,\n",
       "    current_state=initial_state,\n",
       "    trace_fn=None,\n",
       "    kernel=tfp.mcmc.HamiltonianMonteCarlo(\n",
       "        target_log_prob_fn=target.log_prob,\n",
       "        step_size=0.05,\n",
       "        num_leapfrog_steps=20))\n",
       "chains_states.shape\n",
       "==> (1000, 10, 2)\n",
       "\n",
       "rhat = tfp.mcmc.diagnostic.potential_scale_reduction(\n",
       "    chains_states, independent_chain_ndims=1)\n",
       "\n",
       "# The second dimension needed a longer burn-in.\n",
       "rhat.eval()\n",
       "==> [1.05, 1.3]\n",
       "```\n",
       "\n",
       "To see why R-hat is reasonable, let `X` be a random variable drawn uniformly\n",
       "from the combined states (combined over all chains).  Then, in the limit\n",
       "`N, C --> infinity`, with `E`, `Var` denoting expectation and variance,\n",
       "\n",
       "```R-hat = ( E[Var[X | chain]] + Var[E[X | chain]] ) / E[Var[X | chain]].```\n",
       "\n",
       "Using the law of total variance, the numerator is the variance of the combined\n",
       "states, and the denominator is the total variance minus the variance of the\n",
       "the individual chain means.  If the chains are all drawing from the same\n",
       "distribution, they will have the same mean, and thus the ratio should be one.\n",
       "\n",
       "#### References\n",
       "\n",
       "[1]: Stephen P. Brooks and Andrew Gelman. General Methods for Monitoring\n",
       "     Convergence of Iterative Simulations. _Journal of Computational and\n",
       "     Graphical Statistics_, 7(4), 1998.\n",
       "\n",
       "[2]: Andrew Gelman and Donald B. Rubin. Inference from Iterative Simulation\n",
       "     Using Multiple Sequences. _Statistical Science_, 7(4):457-472, 1992.\n",
       "\n",
       "[3]: Aki Vehtari, Andrew Gelman, Daniel Simpson, Bob Carpenter, Paul-Christian\n",
       "     Burkner. Rank-normalization, folding, and localization: An improved R-hat\n",
       "     for assessing convergence of MCMC, 2019. Retrieved from\n",
       "     http://arxiv.org/abs/1903.08008\n",
       "\u001b[0;31mFile:\u001b[0m      ~/.venv/venv/lib/python3.8/site-packages/tensorflow_probability/python/mcmc/diagnostic.py\n",
       "\u001b[0;31mType:\u001b[0m      function\n"
      ]
     },
     "metadata": {},
     "output_type": "display_data"
    }
   ],
   "source": [
    "?tfp.mcmc.potential_scale_reduction"
   ]
  },
  {
   "cell_type": "code",
   "execution_count": null,
   "metadata": {},
   "outputs": [],
   "source": []
  }
 ],
 "metadata": {
  "kernelspec": {
   "display_name": "Python 3",
   "language": "python",
   "name": "python3"
  },
  "language_info": {
   "codemirror_mode": {
    "name": "ipython",
    "version": 3
   },
   "file_extension": ".py",
   "mimetype": "text/x-python",
   "name": "python",
   "nbconvert_exporter": "python",
   "pygments_lexer": "ipython3",
   "version": "3.8.5"
  }
 },
 "nbformat": 4,
 "nbformat_minor": 4
}
