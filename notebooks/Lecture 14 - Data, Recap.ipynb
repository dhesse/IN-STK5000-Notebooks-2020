{
 "cells": [
  {
   "cell_type": "code",
   "execution_count": 1,
   "metadata": {},
   "outputs": [],
   "source": [
    "import requests\n",
    "from requests_oauthlib import OAuth1"
   ]
  },
  {
   "cell_type": "code",
   "execution_count": 2,
   "metadata": {},
   "outputs": [],
   "source": [
    "from donthackme import *"
   ]
  },
  {
   "cell_type": "code",
   "execution_count": 3,
   "metadata": {},
   "outputs": [],
   "source": [
    "auth = OAuth1(API_KEY, API_KEY_SECRET, ACCESS_TOKEN, ACCESS_TOKEN_SECRET)"
   ]
  },
  {
   "cell_type": "code",
   "execution_count": 4,
   "metadata": {},
   "outputs": [],
   "source": [
    "url = 'https://api.twitter.com/1.1/account/verify_credentials.json'"
   ]
  },
  {
   "cell_type": "code",
   "execution_count": 5,
   "metadata": {},
   "outputs": [],
   "source": [
    "verify_response = requests.get(url, auth=auth)"
   ]
  },
  {
   "cell_type": "code",
   "execution_count": 6,
   "metadata": {},
   "outputs": [
    {
     "data": {
      "text/plain": [
       "<Response [200]>"
      ]
     },
     "execution_count": 6,
     "metadata": {},
     "output_type": "execute_result"
    }
   ],
   "source": [
    "verify_response"
   ]
  },
  {
   "cell_type": "code",
   "execution_count": 8,
   "metadata": {},
   "outputs": [
    {
     "data": {
      "text/plain": [
       "{'cache-control': 'no-cache, no-store, must-revalidate, pre-check=0, post-check=0', 'content-disposition': 'attachment; filename=json.json', 'content-encoding': 'gzip', 'content-length': '1163', 'content-type': 'application/json;charset=utf-8', 'date': 'Thu, 19 Nov 2020 09:24:40 GMT', 'expires': 'Tue, 31 Mar 1981 05:00:00 GMT', 'last-modified': 'Thu, 19 Nov 2020 09:24:40 GMT', 'pragma': 'no-cache', 'server': 'tsa_o', 'set-cookie': 'personalization_id=\"v1_ObEtS0HmkSvJj3lvb4/jgg==\"; Max-Age=63072000; Expires=Sat, 19 Nov 2022 09:24:40 GMT; Path=/; Domain=.twitter.com; Secure; SameSite=None, lang=en-gb; Path=/, guest_id=v1%3A160577788045204356; Max-Age=63072000; Expires=Sat, 19 Nov 2022 09:24:40 GMT; Path=/; Domain=.twitter.com; Secure; SameSite=None', 'status': '200 OK', 'strict-transport-security': 'max-age=631138519', 'x-access-level': 'read', 'x-connection-hash': '7625277be65a32f16ba869c8054e9cf6', 'x-content-type-options': 'nosniff', 'x-frame-options': 'SAMEORIGIN', 'x-rate-limit-limit': '75', 'x-rate-limit-remaining': '74', 'x-rate-limit-reset': '1605778780', 'x-response-time': '159', 'x-transaction': '00da75e000698652', 'x-twitter-response-tags': 'BouncerExempt, BouncerCompliant', 'x-xss-protection': '0'}"
      ]
     },
     "execution_count": 8,
     "metadata": {},
     "output_type": "execute_result"
    }
   ],
   "source": [
    "verify_response.headers"
   ]
  },
  {
   "cell_type": "code",
   "execution_count": 10,
   "metadata": {},
   "outputs": [
    {
     "data": {
      "text/plain": [
       "{'id': 626122134,\n",
       " 'id_str': '626122134',\n",
       " 'name': 'Dirk Hesse',\n",
       " 'screen_name': 'NotDirkHesse',\n",
       " 'location': 'Oslo',\n",
       " 'description': 'Doing digital safety, security, and sustainability at Equinor, Associate Professor at UiO, part-time nerd, excited about lots of stuff. Opinions are my own.',\n",
       " 'url': 'https://t.co/r0Ewmk26cg',\n",
       " 'entities': {'url': {'urls': [{'url': 'https://t.co/r0Ewmk26cg',\n",
       "     'expanded_url': 'https://data-adventures.com',\n",
       "     'display_url': 'data-adventures.com',\n",
       "     'indices': [0, 23]}]},\n",
       "  'description': {'urls': []}},\n",
       " 'protected': False,\n",
       " 'followers_count': 81,\n",
       " 'friends_count': 136,\n",
       " 'listed_count': 16,\n",
       " 'created_at': 'Wed Jul 04 01:16:15 +0000 2012',\n",
       " 'favourites_count': 44,\n",
       " 'utc_offset': None,\n",
       " 'time_zone': None,\n",
       " 'geo_enabled': True,\n",
       " 'verified': False,\n",
       " 'statuses_count': 155,\n",
       " 'lang': None,\n",
       " 'status': {'created_at': 'Thu Nov 12 12:53:12 +0000 2020',\n",
       "  'id': 1326870663068573698,\n",
       "  'id_str': '1326870663068573698',\n",
       "  'text': \"@markawest Codenames. It's awesome. Trust me. You need at least 6 or so people though. https://t.co/nCrlFVOIPy\",\n",
       "  'truncated': False,\n",
       "  'entities': {'hashtags': [],\n",
       "   'symbols': [],\n",
       "   'user_mentions': [{'screen_name': 'markawest',\n",
       "     'name': 'Mark West',\n",
       "     'id': 267334310,\n",
       "     'id_str': '267334310',\n",
       "     'indices': [0, 10]}],\n",
       "   'urls': [{'url': 'https://t.co/nCrlFVOIPy',\n",
       "     'expanded_url': 'https://codenames.game/',\n",
       "     'display_url': 'codenames.game',\n",
       "     'indices': [87, 110]}]},\n",
       "  'source': '<a href=\"https://mobile.twitter.com\" rel=\"nofollow\">Twitter Web App</a>',\n",
       "  'in_reply_to_status_id': 1326863330573766658,\n",
       "  'in_reply_to_status_id_str': '1326863330573766658',\n",
       "  'in_reply_to_user_id': 267334310,\n",
       "  'in_reply_to_user_id_str': '267334310',\n",
       "  'in_reply_to_screen_name': 'markawest',\n",
       "  'geo': None,\n",
       "  'coordinates': None,\n",
       "  'place': None,\n",
       "  'contributors': None,\n",
       "  'is_quote_status': False,\n",
       "  'retweet_count': 0,\n",
       "  'favorite_count': 1,\n",
       "  'favorited': False,\n",
       "  'retweeted': False,\n",
       "  'possibly_sensitive': False,\n",
       "  'lang': 'en'},\n",
       " 'contributors_enabled': False,\n",
       " 'is_translator': False,\n",
       " 'is_translation_enabled': False,\n",
       " 'profile_background_color': '000000',\n",
       " 'profile_background_image_url': 'http://abs.twimg.com/images/themes/theme1/bg.png',\n",
       " 'profile_background_image_url_https': 'https://abs.twimg.com/images/themes/theme1/bg.png',\n",
       " 'profile_background_tile': False,\n",
       " 'profile_image_url': 'http://pbs.twimg.com/profile_images/446533000629858305/vw7gIH3i_normal.jpeg',\n",
       " 'profile_image_url_https': 'https://pbs.twimg.com/profile_images/446533000629858305/vw7gIH3i_normal.jpeg',\n",
       " 'profile_banner_url': 'https://pbs.twimg.com/profile_banners/626122134/1395296691',\n",
       " 'profile_link_color': 'ABB8C2',\n",
       " 'profile_sidebar_border_color': '000000',\n",
       " 'profile_sidebar_fill_color': '000000',\n",
       " 'profile_text_color': '000000',\n",
       " 'profile_use_background_image': False,\n",
       " 'has_extended_profile': False,\n",
       " 'default_profile': False,\n",
       " 'default_profile_image': False,\n",
       " 'following': False,\n",
       " 'follow_request_sent': False,\n",
       " 'notifications': False,\n",
       " 'translator_type': 'none',\n",
       " 'suspended': False,\n",
       " 'needs_phone_verification': False}"
      ]
     },
     "execution_count": 10,
     "metadata": {},
     "output_type": "execute_result"
    }
   ],
   "source": [
    "verify_response.json()"
   ]
  },
  {
   "cell_type": "code",
   "execution_count": 14,
   "metadata": {},
   "outputs": [],
   "source": [
    "search_url = 'https://api.twitter.com/1.1/search/tweets.json'"
   ]
  },
  {
   "cell_type": "code",
   "execution_count": 12,
   "metadata": {},
   "outputs": [],
   "source": [
    "params = {'q': 'election',\n",
    "          'result_type': 'recent'} # 'popular' also works"
   ]
  },
  {
   "cell_type": "code",
   "execution_count": 15,
   "metadata": {},
   "outputs": [],
   "source": [
    "search_response = requests.get(search_url, auth=auth, params=params)"
   ]
  },
  {
   "cell_type": "code",
   "execution_count": 16,
   "metadata": {},
   "outputs": [
    {
     "data": {
      "text/plain": [
       "<Response [200]>"
      ]
     },
     "execution_count": 16,
     "metadata": {},
     "output_type": "execute_result"
    }
   ],
   "source": [
    "search_response"
   ]
  },
  {
   "cell_type": "code",
   "execution_count": 18,
   "metadata": {},
   "outputs": [
    {
     "data": {
      "text/plain": [
       "dict_keys(['statuses', 'search_metadata'])"
      ]
     },
     "execution_count": 18,
     "metadata": {},
     "output_type": "execute_result"
    }
   ],
   "source": [
    "search_response.json().keys()"
   ]
  },
  {
   "cell_type": "code",
   "execution_count": 19,
   "metadata": {},
   "outputs": [
    {
     "data": {
      "text/plain": [
       "{'completed_in': 0.089,\n",
       " 'max_id': 1329356311729893376,\n",
       " 'max_id_str': '1329356311729893376',\n",
       " 'next_results': '?max_id=1329356307200159743&q=election&include_entities=1&result_type=recent',\n",
       " 'query': 'election',\n",
       " 'refresh_url': '?since_id=1329356311729893376&q=election&result_type=recent&include_entities=1',\n",
       " 'count': 15,\n",
       " 'since_id': 0,\n",
       " 'since_id_str': '0'}"
      ]
     },
     "execution_count": 19,
     "metadata": {},
     "output_type": "execute_result"
    }
   ],
   "source": [
    "search_response.json().get('search_metadata')"
   ]
  },
  {
   "cell_type": "code",
   "execution_count": 23,
   "metadata": {},
   "outputs": [
    {
     "data": {
      "text/plain": [
       "dict_keys(['created_at', 'id', 'id_str', 'text', 'truncated', 'entities', 'metadata', 'source', 'in_reply_to_status_id', 'in_reply_to_status_id_str', 'in_reply_to_user_id', 'in_reply_to_user_id_str', 'in_reply_to_screen_name', 'user', 'geo', 'coordinates', 'place', 'contributors', 'retweeted_status', 'is_quote_status', 'retweet_count', 'favorite_count', 'favorited', 'retweeted', 'lang'])"
      ]
     },
     "execution_count": 23,
     "metadata": {},
     "output_type": "execute_result"
    }
   ],
   "source": [
    "search_response.json().get('statuses')[0].keys()"
   ]
  },
  {
   "cell_type": "code",
   "execution_count": 26,
   "metadata": {},
   "outputs": [
    {
     "data": {
      "text/plain": [
       "'1329356311729893376'"
      ]
     },
     "execution_count": 26,
     "metadata": {},
     "output_type": "execute_result"
    }
   ],
   "source": [
    "search_response.json().get('statuses')[0].get('id_str')"
   ]
  },
  {
   "cell_type": "code",
   "execution_count": 27,
   "metadata": {},
   "outputs": [
    {
     "data": {
      "text/plain": [
       "'RT @shoe0nhead: imagine being a conservative that doesn’t believe the election was rigged RIP. it’s the cult of personality party now, baby…'"
      ]
     },
     "execution_count": 27,
     "metadata": {},
     "output_type": "execute_result"
    }
   ],
   "source": [
    "search_response.json().get('statuses')[0].get('text')"
   ]
  },
  {
   "cell_type": "code",
   "execution_count": 28,
   "metadata": {},
   "outputs": [
    {
     "data": {
      "text/plain": [
       "{'hashtags': [],\n",
       " 'symbols': [],\n",
       " 'user_mentions': [{'screen_name': 'shoe0nhead',\n",
       "   'name': 'shoe',\n",
       "   'id': 1733467884,\n",
       "   'id_str': '1733467884',\n",
       "   'indices': [3, 14]}],\n",
       " 'urls': []}"
      ]
     },
     "execution_count": 28,
     "metadata": {},
     "output_type": "execute_result"
    }
   ],
   "source": [
    "search_response.json().get('statuses')[0].get('entities')"
   ]
  },
  {
   "cell_type": "code",
   "execution_count": 30,
   "metadata": {},
   "outputs": [
    {
     "data": {
      "text/plain": [
       "0"
      ]
     },
     "execution_count": 30,
     "metadata": {},
     "output_type": "execute_result"
    }
   ],
   "source": [
    "search_response.json().get('statuses')[0].get('favorite_count')"
   ]
  },
  {
   "cell_type": "code",
   "execution_count": 31,
   "metadata": {},
   "outputs": [
    {
     "data": {
      "text/plain": [
       "547"
      ]
     },
     "execution_count": 31,
     "metadata": {},
     "output_type": "execute_result"
    }
   ],
   "source": [
    "search_response.json().get('statuses')[0].get('retweet_count')"
   ]
  },
  {
   "cell_type": "markdown",
   "metadata": {},
   "source": [
    "# Web scraping"
   ]
  },
  {
   "cell_type": "code",
   "execution_count": 32,
   "metadata": {},
   "outputs": [],
   "source": [
    "finn_url = 'https://www.finn.no/realestate/newbuildings/ad.html?finnkode=198934226'"
   ]
  },
  {
   "cell_type": "code",
   "execution_count": 34,
   "metadata": {},
   "outputs": [],
   "source": [
    "finn_response = requests.get(finn_url)"
   ]
  },
  {
   "cell_type": "code",
   "execution_count": 36,
   "metadata": {},
   "outputs": [],
   "source": [
    "from bs4 import BeautifulSoup"
   ]
  },
  {
   "cell_type": "code",
   "execution_count": 37,
   "metadata": {},
   "outputs": [],
   "source": [
    "soup = BeautifulSoup(finn_response.text)"
   ]
  },
  {
   "cell_type": "code",
   "execution_count": 39,
   "metadata": {},
   "outputs": [
    {
     "data": {
      "text/plain": [
       "[<h1 class=\"u-t2\">Ny Enebolig i Moderne still med garasje bygges i etablert boligfelt.</h1>,\n",
       " <h1 class=\"footer-content__branding\"> <a aria-label=\"FINN.no\" data-automation-id=\"frontpage-link\" href=\"//www.finn.no/\"> <svg focusable=\"false\" height=\"32\" viewbox=\"0 0 184 64\" width=\"92\"> <title>        FINN.no    </title> <path d=\"M179.8 58V6c0-1-.8-1.9-1.9-1.9H66c-1 0-1.9.8-1.9 1.9v53.8H178c1 0 1.8-.8 1.8-1.8\" fill=\"#06bffc\"></path> <path d=\"M22.5 4.2H6C5 4.2 4.2 5 4.2 6v52c0 1 .8 1.9 1.9 1.9H60V41.5C59.9 20.9 43.2 4.2 22.5 4.2\" fill=\"#0063fc\"></path> <path d=\"M178 0H66c-3.3 0-6 2.7-6 6v17.4C53.2 9.6 38.9 0 22.5 0H6C2.7 0 0 2.7 0 6v52c0 3.3 2.7 6 6 6h172c3.3 0 6-2.7 6-6V6c0-3.3-2.7-6-6-6m1.8 58c0 1-.8 1.9-1.9 1.9H64.1V6c0-1 .8-1.9 1.9-1.9h112c1 0 1.9.8 1.9 1.9v52zM4.2 58V6C4.2 5 5 4.2 6 4.2h16.5c20.6 0 37.4 16.8 37.4 37.4v18.3H6c-1-.1-1.8-.9-1.8-1.9\" fill=\"#fff\"></path> <path d=\"M110.1 21.1h-4.2c-.7 0-1.2.5-1.2 1.2v19.3c0 .7.5 1.2 1.2 1.2h4.2c.7 0 1.2-.5 1.2-1.2V22.3c0-.6-.6-1.2-1.2-1.2m-12 0H83c-.7 0-1.2.5-1.2 1.2v19.3c0 .7.5 1.2 1.2 1.2h4.2c.7 0 1.2-.5 1.2-1.2v-4h7.7c.7 0 1.2-.5 1.2-1.2v-3.2c0-.7-.5-1.2-1.2-1.2h-7.7v-4.9h9.7c.7 0 1.2-.5 1.2-1.2v-3.7c0-.5-.6-1.1-1.2-1.1m62.8 0h-4.2c-.7 0-1.2.5-1.2 1.2v9.5l-6.6-10c-.3-.4-.8-.7-1.3-.7h-3.2c-.7 0-1.2.5-1.2 1.2v19.3c0 .7.5 1.2 1.2 1.2h4.2c.7 0 1.2-.5 1.2-1.2v-9.4l6.5 9.8c.3.4.8.7 1.3.7h3.4c.7 0 1.2-.5 1.2-1.2V22.3c-.1-.6-.6-1.2-1.3-1.2m-25.4 0h-4.2c-.7 0-1.2.5-1.2 1.2v9.5l-6.6-10c-.3-.4-.8-.7-1.3-.7H119c-.7 0-1.2.5-1.2 1.2v19.3c0 .7.5 1.2 1.2 1.2h4.2c.7 0 1.2-.5 1.2-1.2v-9.4l6.5 9.8c.3.4.8.7 1.3.7h3.4c.7 0 1.2-.5 1.2-1.2V22.3c-.1-.6-.6-1.2-1.3-1.2\" fill=\"#fff\"></path></svg> <span>Mulighetenes marked</span> </a> </h1>]"
      ]
     },
     "execution_count": 39,
     "metadata": {},
     "output_type": "execute_result"
    }
   ],
   "source": [
    "soup('h1')"
   ]
  },
  {
   "cell_type": "code",
   "execution_count": 42,
   "metadata": {},
   "outputs": [
    {
     "data": {
      "text/plain": [
       "<dl class=\"definition-list definition-list--inline\">\n",
       "<dt>Primærrom</dt>\n",
       "<dd>\n",
       "                117 m²\n",
       "                    </dd>\n",
       "<dt>Bruksareal</dt>\n",
       "<dd>\n",
       "                145 m²\n",
       "                    </dd>\n",
       "<dt>Soverom</dt>\n",
       "<dd>\n",
       "                3</dd>\n",
       "<dt>Boligtype</dt>\n",
       "<dd>Enebolig</dd>\n",
       "<dt>Eieform</dt>\n",
       "<dd>Eier (Selveier)</dd>\n",
       "</dl>"
      ]
     },
     "execution_count": 42,
     "metadata": {},
     "output_type": "execute_result"
    }
   ],
   "source": [
    "soup('dl')[1]"
   ]
  },
  {
   "cell_type": "code",
   "execution_count": 44,
   "metadata": {},
   "outputs": [
    {
     "data": {
      "text/plain": [
       "[<dd>\n",
       "                 117 m²\n",
       "                     </dd>,\n",
       " <dd>\n",
       "                 145 m²\n",
       "                     </dd>,\n",
       " <dd>\n",
       "                 3</dd>,\n",
       " <dd>Enebolig</dd>,\n",
       " <dd>Eier (Selveier)</dd>]"
      ]
     },
     "execution_count": 44,
     "metadata": {},
     "output_type": "execute_result"
    }
   ],
   "source": [
    "soup('dl')[1]('dd')"
   ]
  },
  {
   "cell_type": "code",
   "execution_count": 45,
   "metadata": {},
   "outputs": [
    {
     "data": {
      "text/plain": [
       "[<dt>Primærrom</dt>,\n",
       " <dt>Bruksareal</dt>,\n",
       " <dt>Soverom</dt>,\n",
       " <dt>Boligtype</dt>,\n",
       " <dt>Eieform</dt>]"
      ]
     },
     "execution_count": 45,
     "metadata": {},
     "output_type": "execute_result"
    }
   ],
   "source": [
    "soup('dl')[1]('dt')"
   ]
  },
  {
   "cell_type": "markdown",
   "metadata": {},
   "source": [
    "# Recap\n",
    "\n",
    "- Python\n",
    "  - Tools of the trade\n",
    "    - Testing\n",
    "    - Git/github\n",
    "      - Pull requests\n",
    "      - Github actions\n",
    "    - Coding practices (The clean coder)\n",
    "- Pandas\n",
    "  - Advanced functions\n",
    "    - Groupby\n",
    "    - Stack/pivot\n",
    "    - Moving averages\n",
    "- Scikit-learn\n",
    "  - Workhorse for ML\n",
    "  - Maybe less interesting for statisticians\n",
    "    - Statsmodels\n",
    "  - Productionalize ML\n",
    "    - Pipelines\n",
    "    - Grid search\n",
    "    - CV\n",
    "- Tensorflow probability\n",
    "  - Today STAN is more popular\n",
    "  - TF prob not super easy to use\n",
    "- Keras\n",
    "  - Simplified interace to make NNs in TF\n",
    "- Spark\n",
    "  - Extremely popular with big data community\n",
    "  - Same interface on laptop as on a cluster\n",
    "  - Okay for the stats community\n",
    "- Data\n",
    "  - APIs, Scraping"
   ]
  },
  {
   "cell_type": "code",
   "execution_count": null,
   "metadata": {},
   "outputs": [],
   "source": []
  }
 ],
 "metadata": {
  "kernelspec": {
   "display_name": "Python 3",
   "language": "python",
   "name": "python3"
  },
  "language_info": {
   "codemirror_mode": {
    "name": "ipython",
    "version": 3
   },
   "file_extension": ".py",
   "mimetype": "text/x-python",
   "name": "python",
   "nbconvert_exporter": "python",
   "pygments_lexer": "ipython3",
   "version": "3.8.5"
  }
 },
 "nbformat": 4,
 "nbformat_minor": 4
}
