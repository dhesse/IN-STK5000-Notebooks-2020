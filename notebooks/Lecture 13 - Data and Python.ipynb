{
 "cells": [
  {
   "cell_type": "code",
   "execution_count": 1,
   "metadata": {},
   "outputs": [],
   "source": [
    "import pandas\n",
    "from sklearn.metrics import r2_score, mean_squared_error\n",
    "from sklearn.model_selection import train_test_split\n",
    "from sklearn.tree import DecisionTreeRegressor"
   ]
  },
  {
   "cell_type": "code",
   "execution_count": 2,
   "metadata": {},
   "outputs": [],
   "source": [
    "df = pandas.read_csv(\"http://archive.ics.uci.edu/ml/machine-learning-databases/wine-quality/winequality-red.csv\",\n",
    "                    sep=';')"
   ]
  },
  {
   "cell_type": "code",
   "execution_count": 3,
   "metadata": {},
   "outputs": [
    {
     "data": {
      "text/html": [
       "<div>\n",
       "<style scoped>\n",
       "    .dataframe tbody tr th:only-of-type {\n",
       "        vertical-align: middle;\n",
       "    }\n",
       "\n",
       "    .dataframe tbody tr th {\n",
       "        vertical-align: top;\n",
       "    }\n",
       "\n",
       "    .dataframe thead th {\n",
       "        text-align: right;\n",
       "    }\n",
       "</style>\n",
       "<table border=\"1\" class=\"dataframe\">\n",
       "  <thead>\n",
       "    <tr style=\"text-align: right;\">\n",
       "      <th></th>\n",
       "      <th>fixed acidity</th>\n",
       "      <th>volatile acidity</th>\n",
       "      <th>citric acid</th>\n",
       "      <th>residual sugar</th>\n",
       "      <th>chlorides</th>\n",
       "      <th>free sulfur dioxide</th>\n",
       "      <th>total sulfur dioxide</th>\n",
       "      <th>density</th>\n",
       "      <th>pH</th>\n",
       "      <th>sulphates</th>\n",
       "      <th>alcohol</th>\n",
       "      <th>quality</th>\n",
       "    </tr>\n",
       "  </thead>\n",
       "  <tbody>\n",
       "    <tr>\n",
       "      <th>0</th>\n",
       "      <td>7.4</td>\n",
       "      <td>0.700</td>\n",
       "      <td>0.00</td>\n",
       "      <td>1.9</td>\n",
       "      <td>0.076</td>\n",
       "      <td>11.0</td>\n",
       "      <td>34.0</td>\n",
       "      <td>0.99780</td>\n",
       "      <td>3.51</td>\n",
       "      <td>0.56</td>\n",
       "      <td>9.4</td>\n",
       "      <td>5</td>\n",
       "    </tr>\n",
       "    <tr>\n",
       "      <th>1</th>\n",
       "      <td>7.8</td>\n",
       "      <td>0.880</td>\n",
       "      <td>0.00</td>\n",
       "      <td>2.6</td>\n",
       "      <td>0.098</td>\n",
       "      <td>25.0</td>\n",
       "      <td>67.0</td>\n",
       "      <td>0.99680</td>\n",
       "      <td>3.20</td>\n",
       "      <td>0.68</td>\n",
       "      <td>9.8</td>\n",
       "      <td>5</td>\n",
       "    </tr>\n",
       "    <tr>\n",
       "      <th>2</th>\n",
       "      <td>7.8</td>\n",
       "      <td>0.760</td>\n",
       "      <td>0.04</td>\n",
       "      <td>2.3</td>\n",
       "      <td>0.092</td>\n",
       "      <td>15.0</td>\n",
       "      <td>54.0</td>\n",
       "      <td>0.99700</td>\n",
       "      <td>3.26</td>\n",
       "      <td>0.65</td>\n",
       "      <td>9.8</td>\n",
       "      <td>5</td>\n",
       "    </tr>\n",
       "    <tr>\n",
       "      <th>3</th>\n",
       "      <td>11.2</td>\n",
       "      <td>0.280</td>\n",
       "      <td>0.56</td>\n",
       "      <td>1.9</td>\n",
       "      <td>0.075</td>\n",
       "      <td>17.0</td>\n",
       "      <td>60.0</td>\n",
       "      <td>0.99800</td>\n",
       "      <td>3.16</td>\n",
       "      <td>0.58</td>\n",
       "      <td>9.8</td>\n",
       "      <td>6</td>\n",
       "    </tr>\n",
       "    <tr>\n",
       "      <th>4</th>\n",
       "      <td>7.4</td>\n",
       "      <td>0.700</td>\n",
       "      <td>0.00</td>\n",
       "      <td>1.9</td>\n",
       "      <td>0.076</td>\n",
       "      <td>11.0</td>\n",
       "      <td>34.0</td>\n",
       "      <td>0.99780</td>\n",
       "      <td>3.51</td>\n",
       "      <td>0.56</td>\n",
       "      <td>9.4</td>\n",
       "      <td>5</td>\n",
       "    </tr>\n",
       "    <tr>\n",
       "      <th>...</th>\n",
       "      <td>...</td>\n",
       "      <td>...</td>\n",
       "      <td>...</td>\n",
       "      <td>...</td>\n",
       "      <td>...</td>\n",
       "      <td>...</td>\n",
       "      <td>...</td>\n",
       "      <td>...</td>\n",
       "      <td>...</td>\n",
       "      <td>...</td>\n",
       "      <td>...</td>\n",
       "      <td>...</td>\n",
       "    </tr>\n",
       "    <tr>\n",
       "      <th>1594</th>\n",
       "      <td>6.2</td>\n",
       "      <td>0.600</td>\n",
       "      <td>0.08</td>\n",
       "      <td>2.0</td>\n",
       "      <td>0.090</td>\n",
       "      <td>32.0</td>\n",
       "      <td>44.0</td>\n",
       "      <td>0.99490</td>\n",
       "      <td>3.45</td>\n",
       "      <td>0.58</td>\n",
       "      <td>10.5</td>\n",
       "      <td>5</td>\n",
       "    </tr>\n",
       "    <tr>\n",
       "      <th>1595</th>\n",
       "      <td>5.9</td>\n",
       "      <td>0.550</td>\n",
       "      <td>0.10</td>\n",
       "      <td>2.2</td>\n",
       "      <td>0.062</td>\n",
       "      <td>39.0</td>\n",
       "      <td>51.0</td>\n",
       "      <td>0.99512</td>\n",
       "      <td>3.52</td>\n",
       "      <td>0.76</td>\n",
       "      <td>11.2</td>\n",
       "      <td>6</td>\n",
       "    </tr>\n",
       "    <tr>\n",
       "      <th>1596</th>\n",
       "      <td>6.3</td>\n",
       "      <td>0.510</td>\n",
       "      <td>0.13</td>\n",
       "      <td>2.3</td>\n",
       "      <td>0.076</td>\n",
       "      <td>29.0</td>\n",
       "      <td>40.0</td>\n",
       "      <td>0.99574</td>\n",
       "      <td>3.42</td>\n",
       "      <td>0.75</td>\n",
       "      <td>11.0</td>\n",
       "      <td>6</td>\n",
       "    </tr>\n",
       "    <tr>\n",
       "      <th>1597</th>\n",
       "      <td>5.9</td>\n",
       "      <td>0.645</td>\n",
       "      <td>0.12</td>\n",
       "      <td>2.0</td>\n",
       "      <td>0.075</td>\n",
       "      <td>32.0</td>\n",
       "      <td>44.0</td>\n",
       "      <td>0.99547</td>\n",
       "      <td>3.57</td>\n",
       "      <td>0.71</td>\n",
       "      <td>10.2</td>\n",
       "      <td>5</td>\n",
       "    </tr>\n",
       "    <tr>\n",
       "      <th>1598</th>\n",
       "      <td>6.0</td>\n",
       "      <td>0.310</td>\n",
       "      <td>0.47</td>\n",
       "      <td>3.6</td>\n",
       "      <td>0.067</td>\n",
       "      <td>18.0</td>\n",
       "      <td>42.0</td>\n",
       "      <td>0.99549</td>\n",
       "      <td>3.39</td>\n",
       "      <td>0.66</td>\n",
       "      <td>11.0</td>\n",
       "      <td>6</td>\n",
       "    </tr>\n",
       "  </tbody>\n",
       "</table>\n",
       "<p>1599 rows × 12 columns</p>\n",
       "</div>"
      ],
      "text/plain": [
       "      fixed acidity  volatile acidity  citric acid  residual sugar  chlorides  \\\n",
       "0               7.4             0.700         0.00             1.9      0.076   \n",
       "1               7.8             0.880         0.00             2.6      0.098   \n",
       "2               7.8             0.760         0.04             2.3      0.092   \n",
       "3              11.2             0.280         0.56             1.9      0.075   \n",
       "4               7.4             0.700         0.00             1.9      0.076   \n",
       "...             ...               ...          ...             ...        ...   \n",
       "1594            6.2             0.600         0.08             2.0      0.090   \n",
       "1595            5.9             0.550         0.10             2.2      0.062   \n",
       "1596            6.3             0.510         0.13             2.3      0.076   \n",
       "1597            5.9             0.645         0.12             2.0      0.075   \n",
       "1598            6.0             0.310         0.47             3.6      0.067   \n",
       "\n",
       "      free sulfur dioxide  total sulfur dioxide  density    pH  sulphates  \\\n",
       "0                    11.0                  34.0  0.99780  3.51       0.56   \n",
       "1                    25.0                  67.0  0.99680  3.20       0.68   \n",
       "2                    15.0                  54.0  0.99700  3.26       0.65   \n",
       "3                    17.0                  60.0  0.99800  3.16       0.58   \n",
       "4                    11.0                  34.0  0.99780  3.51       0.56   \n",
       "...                   ...                   ...      ...   ...        ...   \n",
       "1594                 32.0                  44.0  0.99490  3.45       0.58   \n",
       "1595                 39.0                  51.0  0.99512  3.52       0.76   \n",
       "1596                 29.0                  40.0  0.99574  3.42       0.75   \n",
       "1597                 32.0                  44.0  0.99547  3.57       0.71   \n",
       "1598                 18.0                  42.0  0.99549  3.39       0.66   \n",
       "\n",
       "      alcohol  quality  \n",
       "0         9.4        5  \n",
       "1         9.8        5  \n",
       "2         9.8        5  \n",
       "3         9.8        6  \n",
       "4         9.4        5  \n",
       "...       ...      ...  \n",
       "1594     10.5        5  \n",
       "1595     11.2        6  \n",
       "1596     11.0        6  \n",
       "1597     10.2        5  \n",
       "1598     11.0        6  \n",
       "\n",
       "[1599 rows x 12 columns]"
      ]
     },
     "execution_count": 3,
     "metadata": {},
     "output_type": "execute_result"
    }
   ],
   "source": [
    "df"
   ]
  },
  {
   "cell_type": "code",
   "execution_count": 5,
   "metadata": {},
   "outputs": [
    {
     "data": {
      "text/plain": [
       "<AxesSubplot:xlabel='quality'>"
      ]
     },
     "execution_count": 5,
     "metadata": {},
     "output_type": "execute_result"
    },
    {
     "data": {
      "image/png": "[encoded data removed]",
      "text/plain": [
       "<Figure size 432x288 with 1 Axes>"
      ]
     },
     "metadata": {
      "needs_background": "light"
     },
     "output_type": "display_data"
    }
   ],
   "source": [
    "df.groupby('quality').size().plot.bar()"
   ]
  },
  {
   "cell_type": "code",
   "execution_count": 6,
   "metadata": {},
   "outputs": [],
   "source": [
    "labels = df.pop('quality') # removes the quality column"
   ]
  },
  {
   "cell_type": "code",
   "execution_count": 18,
   "metadata": {},
   "outputs": [
    {
     "name": "stderr",
     "output_type": "stream",
     "text": [
      "/Users/dirkhesse/.venv/venv/lib/python3.8/site-packages/ipykernel/ipkernel.py:287: DeprecationWarning: `should_run_async` will not call `transform_cell` automatically in the future. Please pass the result to `transformed_cell` argument and any exception that happen during thetransform in `preprocessing_exc_tuple` in IPython 7.17 and above.\n",
      "  and should_run_async(code)\n"
     ]
    }
   ],
   "source": [
    "Xtr, Xte, ytr, yte = train_test_split(df, labels, test_size=0.3)"
   ]
  },
  {
   "cell_type": "code",
   "execution_count": 13,
   "metadata": {},
   "outputs": [
    {
     "name": "stderr",
     "output_type": "stream",
     "text": [
      "/Users/dirkhesse/.venv/venv/lib/python3.8/site-packages/ipykernel/ipkernel.py:287: DeprecationWarning: `should_run_async` will not call `transform_cell` automatically in the future. Please pass the result to `transformed_cell` argument and any exception that happen during thetransform in `preprocessing_exc_tuple` in IPython 7.17 and above.\n",
      "  and should_run_async(code)\n"
     ]
    }
   ],
   "source": [
    "depth, min_leaf = 5, 20"
   ]
  },
  {
   "cell_type": "code",
   "execution_count": 10,
   "metadata": {},
   "outputs": [],
   "source": [
    "import mlflow\n",
    "import mlflow.sklearn"
   ]
  },
  {
   "cell_type": "code",
   "execution_count": 11,
   "metadata": {},
   "outputs": [
    {
     "name": "stderr",
     "output_type": "stream",
     "text": [
      "/Users/dirkhesse/.venv/venv/lib/python3.8/site-packages/ipykernel/ipkernel.py:287: DeprecationWarning: `should_run_async` will not call `transform_cell` automatically in the future. Please pass the result to `transformed_cell` argument and any exception that happen during thetransform in `preprocessing_exc_tuple` in IPython 7.17 and above.\n",
      "  and should_run_async(code)\n"
     ]
    }
   ],
   "source": [
    "mlflow.set_registry_uri('sqlite:///models.db')"
   ]
  },
  {
   "cell_type": "code",
   "execution_count": 19,
   "metadata": {},
   "outputs": [
    {
     "name": "stderr",
     "output_type": "stream",
     "text": [
      "Registered model 'decision_tree_model' already exists. Creating a new version of this model...\n",
      "Created version '3' of model 'decision_tree_model'.\n"
     ]
    }
   ],
   "source": [
    "with mlflow.start_run(run_name='tree_run'):\n",
    "    model = DecisionTreeRegressor(max_depth=depth, min_samples_leaf=min_leaf)\n",
    "    model.fit(Xtr, ytr)\n",
    "    mlflow.log_params({\n",
    "        'depth': depth,\n",
    "        'min_leaf': min_leaf\n",
    "    })\n",
    "    predictions = model.predict(Xte)\n",
    "    mlflow.log_metrics({\n",
    "        'r_squared': r2_score(yte, predictions),\n",
    "        'mse': mean_squared_error(yte, predictions)\n",
    "    })\n",
    "    mlflow.sklearn.log_model(model, 'model', registered_model_name='decision_tree_model')"
   ]
  },
  {
   "cell_type": "code",
   "execution_count": null,
   "metadata": {},
   "outputs": [],
   "source": [
    "# run in a console: mlflow ui"
   ]
  },
  {
   "cell_type": "code",
   "execution_count": 15,
   "metadata": {},
   "outputs": [
    {
     "name": "stderr",
     "output_type": "stream",
     "text": [
      "/Users/dirkhesse/.venv/venv/lib/python3.8/site-packages/ipykernel/ipkernel.py:287: DeprecationWarning: `should_run_async` will not call `transform_cell` automatically in the future. Please pass the result to `transformed_cell` argument and any exception that happen during thetransform in `preprocessing_exc_tuple` in IPython 7.17 and above.\n",
      "  and should_run_async(code)\n"
     ]
    }
   ],
   "source": [
    "retrieved_model = mlflow.pyfunc.load_model(\n",
    "    model_uri=\"models:/decision_tree_model/2\"\n",
    ")"
   ]
  },
  {
   "cell_type": "code",
   "execution_count": 16,
   "metadata": {},
   "outputs": [
    {
     "name": "stderr",
     "output_type": "stream",
     "text": [
      "/Users/dirkhesse/.venv/venv/lib/python3.8/site-packages/ipykernel/ipkernel.py:287: DeprecationWarning: `should_run_async` will not call `transform_cell` automatically in the future. Please pass the result to `transformed_cell` argument and any exception that happen during thetransform in `preprocessing_exc_tuple` in IPython 7.17 and above.\n",
      "  and should_run_async(code)\n"
     ]
    },
    {
     "data": {
      "text/plain": [
       "mlflow.pyfunc.loaded_model:\n",
       "  artifact_path: model\n",
       "  flavor: mlflow.sklearn\n",
       "  run_id: ecc35fd06d4e4b9c80c17c025c17215e"
      ]
     },
     "execution_count": 16,
     "metadata": {},
     "output_type": "execute_result"
    }
   ],
   "source": [
    "retrieved_model"
   ]
  },
  {
   "cell_type": "code",
   "execution_count": 17,
   "metadata": {
    "collapsed": true,
    "jupyter": {
     "outputs_hidden": true
    }
   },
   "outputs": [
    {
     "name": "stderr",
     "output_type": "stream",
     "text": [
      "/Users/dirkhesse/.venv/venv/lib/python3.8/site-packages/ipykernel/ipkernel.py:287: DeprecationWarning: `should_run_async` will not call `transform_cell` automatically in the future. Please pass the result to `transformed_cell` argument and any exception that happen during thetransform in `preprocessing_exc_tuple` in IPython 7.17 and above.\n",
      "  and should_run_async(code)\n"
     ]
    },
    {
     "data": {
      "text/plain": [
       "array([5.48175182, 5.48175182, 6.05128205, 5.89705882, 5.48175182,\n",
       "       4.98648649, 5.48175182, 5.89705882, 6.05128205, 5.48175182,\n",
       "       6.37931034, 5.48175182, 7.        , 5.48175182, 6.2       ,\n",
       "       5.48175182, 5.48175182, 7.        , 4.98648649, 5.27058824,\n",
       "       4.98648649, 5.32352941, 4.64285714, 6.05128205, 5.48175182,\n",
       "       6.2       , 5.48175182, 4.96551724, 5.27058824, 5.48175182,\n",
       "       5.82758621, 6.37931034, 5.82758621, 4.98648649, 5.41666667,\n",
       "       6.37931034, 6.37931034, 5.3908046 , 5.05555556, 5.41666667,\n",
       "       5.3908046 , 5.32352941, 6.05128205, 5.89705882, 7.        ,\n",
       "       7.        , 5.48175182, 5.3908046 , 6.05128205, 5.89705882,\n",
       "       5.05555556, 6.66666667, 5.89705882, 6.37931034, 5.3908046 ,\n",
       "       5.48175182, 6.37931034, 4.96551724, 5.32352941, 6.05128205,\n",
       "       5.89705882, 5.3908046 , 5.27058824, 5.27058824, 7.        ,\n",
       "       5.89705882, 5.3908046 , 4.98648649, 5.48175182, 6.05128205,\n",
       "       5.05555556, 5.3908046 , 4.75      , 5.3908046 , 5.27058824,\n",
       "       5.27058824, 7.        , 5.05555556, 5.27058824, 6.45833333,\n",
       "       6.37931034, 6.37931034, 5.32352941, 5.89473684, 5.48175182,\n",
       "       5.32352941, 5.82758621, 5.3908046 , 5.48175182, 5.89473684,\n",
       "       6.05128205, 5.48175182, 6.2       , 5.89473684, 5.48175182,\n",
       "       5.3908046 , 6.71428571, 4.64285714, 5.48175182, 6.45833333,\n",
       "       5.89705882, 6.66666667, 5.48175182, 5.48175182, 5.48175182,\n",
       "       6.45833333, 6.2       , 6.66666667, 5.32352941, 4.98648649,\n",
       "       5.27058824, 6.2       , 5.05555556, 5.48175182, 5.27058824,\n",
       "       5.48175182, 5.82758621, 4.98648649, 5.27058824, 5.48175182,\n",
       "       5.89705882, 5.48175182, 4.75      , 5.27058824, 5.05555556,\n",
       "       5.32352941, 5.89705882, 5.3       , 5.48175182, 5.3       ,\n",
       "       5.48175182, 5.48175182, 5.89705882, 7.        , 5.89705882,\n",
       "       5.48175182, 5.48175182, 6.45833333, 6.37931034, 5.27058824,\n",
       "       6.2       , 4.98648649, 5.89705882, 6.66666667, 6.45833333,\n",
       "       4.98648649, 6.2       , 5.48175182, 6.05128205, 5.48175182,\n",
       "       5.48175182, 5.48175182, 5.48175182, 5.48175182, 5.32352941,\n",
       "       4.98648649, 5.89705882, 7.        , 6.2       , 5.48175182,\n",
       "       6.37931034, 5.48175182, 5.41666667, 5.48175182, 4.96551724,\n",
       "       5.3908046 , 5.9047619 , 5.48175182, 5.89705882, 5.48175182,\n",
       "       4.64285714, 5.82758621, 4.98648649, 5.3908046 , 5.3908046 ,\n",
       "       5.27058824, 5.48175182, 5.3       , 5.48175182, 5.48175182,\n",
       "       5.48175182, 6.66666667, 5.32352941, 5.48175182, 5.3       ,\n",
       "       5.27058824, 6.05128205, 5.89705882, 5.48175182, 4.96551724,\n",
       "       5.9047619 , 5.3908046 , 5.48175182, 5.48175182, 6.71428571,\n",
       "       5.89705882, 5.89705882, 5.05555556, 5.48175182, 5.27058824,\n",
       "       5.89473684, 5.9047619 , 5.3908046 , 5.27058824, 4.75      ,\n",
       "       5.48175182, 6.37931034, 4.98648649, 4.96551724, 5.89473684,\n",
       "       6.66666667, 5.27058824, 5.89705882, 5.27058824, 6.2       ,\n",
       "       5.89473684, 5.27058824, 5.27058824, 5.32352941, 4.98648649,\n",
       "       5.41666667, 5.32352941, 4.98648649, 4.75      , 5.89473684,\n",
       "       5.3908046 , 6.66666667, 4.98648649, 5.48175182, 4.96551724,\n",
       "       5.82758621, 5.27058824, 5.89473684, 4.64285714, 5.48175182,\n",
       "       4.64285714, 5.48175182, 5.27058824, 4.98648649, 5.27058824,\n",
       "       5.32352941, 4.96551724, 5.9047619 , 5.89473684, 5.05555556,\n",
       "       4.64285714, 5.3908046 , 5.48175182, 5.89705882, 5.48175182,\n",
       "       5.32352941, 6.45833333, 5.48175182, 5.27058824, 5.27058824,\n",
       "       7.        , 4.64285714, 5.89473684, 5.48175182, 5.48175182,\n",
       "       5.89705882, 5.48175182, 5.05555556, 5.89473684, 5.48175182,\n",
       "       5.3908046 , 6.37931034, 5.89705882, 6.66666667, 5.27058824,\n",
       "       5.89705882, 5.48175182, 5.48175182, 5.48175182, 4.64285714,\n",
       "       4.98648649, 6.2       , 7.        , 5.89705882, 5.89705882,\n",
       "       5.3908046 , 5.05555556, 6.2       , 4.96551724, 5.27058824,\n",
       "       5.89705882, 5.48175182, 4.98648649, 6.05128205, 5.27058824,\n",
       "       5.89473684, 7.        , 6.2       , 6.71428571, 6.37931034,\n",
       "       4.64285714, 6.45833333, 5.3908046 , 5.3908046 , 5.48175182,\n",
       "       5.05555556, 5.89705882, 6.37931034, 4.98648649, 5.48175182,\n",
       "       5.48175182, 5.89705882, 5.48175182, 4.98648649, 5.27058824,\n",
       "       5.48175182, 5.89473684, 5.05555556, 4.96551724, 4.96551724,\n",
       "       5.3908046 , 6.37931034, 6.71428571, 5.89705882, 5.89705882,\n",
       "       6.37931034, 5.48175182, 6.05128205, 5.48175182, 5.48175182,\n",
       "       6.2       , 6.37931034, 5.32352941, 5.41666667, 5.48175182,\n",
       "       5.9047619 , 6.37931034, 5.89705882, 5.9047619 , 6.45833333,\n",
       "       5.48175182, 5.48175182, 5.48175182, 5.27058824, 4.96551724,\n",
       "       6.05128205, 4.98648649, 6.37931034, 5.48175182, 5.3       ,\n",
       "       6.2       , 6.37931034, 5.48175182, 5.89473684, 5.3908046 ,\n",
       "       5.27058824, 6.2       , 5.48175182, 5.82758621, 5.48175182,\n",
       "       6.37931034, 6.2       , 5.3908046 , 5.48175182, 5.32352941,\n",
       "       4.98648649, 6.2       , 6.37931034, 4.98648649, 5.89705882,\n",
       "       5.3908046 , 5.89473684, 5.89705882, 5.48175182, 6.2       ,\n",
       "       5.48175182, 5.32352941, 6.05128205, 6.05128205, 6.05128205,\n",
       "       5.82758621, 5.89705882, 6.05128205, 4.98648649, 5.89705882,\n",
       "       5.48175182, 6.2       , 6.66666667, 5.32352941, 6.37931034,\n",
       "       5.48175182, 5.3908046 , 5.48175182, 5.05555556, 5.3908046 ,\n",
       "       5.48175182, 5.27058824, 6.2       , 4.96551724, 7.        ,\n",
       "       5.82758621, 5.3908046 , 5.27058824, 5.48175182, 6.37931034,\n",
       "       5.05555556, 5.48175182, 5.3908046 , 5.05555556, 6.37931034,\n",
       "       6.37931034, 5.32352941, 5.48175182, 5.3908046 , 4.98648649,\n",
       "       6.2       , 5.48175182, 5.48175182, 4.64285714, 5.05555556,\n",
       "       5.48175182, 5.41666667, 5.3908046 , 7.        , 7.        ,\n",
       "       5.48175182, 5.41666667, 6.37931034, 5.89705882, 6.37931034,\n",
       "       4.98648649, 6.2       , 5.48175182, 6.2       , 5.48175182,\n",
       "       5.48175182, 7.        , 5.9047619 , 7.        , 5.48175182,\n",
       "       5.27058824, 5.48175182, 6.45833333, 5.3908046 , 5.48175182,\n",
       "       5.05555556, 4.98648649, 5.89705882, 5.48175182, 5.48175182,\n",
       "       5.48175182, 5.05555556, 5.48175182, 5.48175182, 5.3908046 ,\n",
       "       5.48175182, 6.71428571, 5.82758621, 5.48175182, 6.05128205,\n",
       "       5.89705882, 6.37931034, 5.82758621, 5.27058824, 5.27058824,\n",
       "       6.2       , 5.89473684, 5.27058824, 5.89705882, 5.05555556,\n",
       "       6.2       , 5.3908046 , 5.27058824, 4.75      , 6.2       ,\n",
       "       6.37931034, 5.3908046 , 4.75      , 5.48175182, 6.37931034,\n",
       "       5.48175182, 6.37931034, 5.89473684, 5.3       , 5.89705882])"
      ]
     },
     "execution_count": 17,
     "metadata": {},
     "output_type": "execute_result"
    }
   ],
   "source": [
    "retrieved_model.predict(Xte)"
   ]
  },
  {
   "cell_type": "code",
   "execution_count": 1,
   "metadata": {},
   "outputs": [],
   "source": [
    "import attr"
   ]
  },
  {
   "cell_type": "code",
   "execution_count": 16,
   "metadata": {},
   "outputs": [],
   "source": [
    "@attr.s\n",
    "class MyBanker:\n",
    "    \n",
    "    model = attr.ib()\n",
    "    interest = attr.ib(default=0.05)\n",
    "    \n",
    "    def fit(self, X, y):\n",
    "        self.model.fit(X, y)\n",
    "        return self"
   ]
  },
  {
   "cell_type": "code",
   "execution_count": 5,
   "metadata": {},
   "outputs": [
    {
     "data": {
      "text/plain": [
       "MyBaker(model=None, interest=0.05)"
      ]
     },
     "execution_count": 5,
     "metadata": {},
     "output_type": "execute_result"
    }
   ],
   "source": [
    "MyBanker(None)"
   ]
  },
  {
   "cell_type": "code",
   "execution_count": 7,
   "metadata": {},
   "outputs": [
    {
     "ename": "TypeError",
     "evalue": "__init__() missing 1 required positional argument: 'model'",
     "output_type": "error",
     "traceback": [
      "\u001b[0;31m---------------------------------------------------------------------------\u001b[0m",
      "\u001b[0;31mTypeError\u001b[0m                                 Traceback (most recent call last)",
      "\u001b[0;32m<ipython-input-7-d202bca7a441>\u001b[0m in \u001b[0;36m<module>\u001b[0;34m\u001b[0m\n\u001b[0;32m----> 1\u001b[0;31m \u001b[0mMyBanker\u001b[0m\u001b[0;34m(\u001b[0m\u001b[0;34m)\u001b[0m\u001b[0;34m\u001b[0m\u001b[0;34m\u001b[0m\u001b[0m\n\u001b[0m",
      "\u001b[0;31mTypeError\u001b[0m: __init__() missing 1 required positional argument: 'model'"
     ]
    }
   ],
   "source": [
    "MyBanker()"
   ]
  },
  {
   "cell_type": "code",
   "execution_count": 10,
   "metadata": {},
   "outputs": [],
   "source": [
    "import unittest\n",
    "import unittest.mock"
   ]
  },
  {
   "cell_type": "code",
   "execution_count": 21,
   "metadata": {},
   "outputs": [],
   "source": [
    "class MyBankerTest(unittest.TestCase):\n",
    "    \n",
    "    def test_fit(self):\n",
    "        mock_model = unittest.mock.Mock()\n",
    "        banker = MyBanker(mock_model)\n",
    "        banker.fit('X', 'y')\n",
    "        mock_model.fit.assert_called_with('X', 'y')"
   ]
  },
  {
   "cell_type": "code",
   "execution_count": 22,
   "metadata": {},
   "outputs": [
    {
     "name": "stderr",
     "output_type": "stream",
     "text": [
      ".\n",
      "----------------------------------------------------------------------\n",
      "Ran 1 test in 0.003s\n",
      "\n",
      "OK\n"
     ]
    },
    {
     "data": {
      "text/plain": [
       "<unittest.main.TestProgram at 0x111966fd0>"
      ]
     },
     "execution_count": 22,
     "metadata": {},
     "output_type": "execute_result"
    }
   ],
   "source": [
    "unittest.main(argv=[''], exit=False)"
   ]
  },
  {
   "cell_type": "code",
   "execution_count": 23,
   "metadata": {},
   "outputs": [],
   "source": [
    "# Refer to 'Clean code' and 'The clean Coder' by Robert Martin"
   ]
  },
  {
   "cell_type": "markdown",
   "metadata": {},
   "source": [
    "# Command line arguments"
   ]
  },
  {
   "cell_type": "code",
   "execution_count": 25,
   "metadata": {},
   "outputs": [],
   "source": [
    "# I want to call my script like so:\n",
    "# test_lending.py --interest 0.05 --model tree"
   ]
  },
  {
   "cell_type": "code",
   "execution_count": 26,
   "metadata": {},
   "outputs": [],
   "source": [
    "import argparse"
   ]
  },
  {
   "cell_type": "code",
   "execution_count": 31,
   "metadata": {},
   "outputs": [],
   "source": [
    "parser = argparse.ArgumentParser(description='One line descripption of my program.')"
   ]
  },
  {
   "cell_type": "code",
   "execution_count": null,
   "metadata": {},
   "outputs": [],
   "source": [
    "# Normally:\n",
    "# if __name__ == '__main__':\n",
    "#   parser.parse_args()"
   ]
  },
  {
   "cell_type": "code",
   "execution_count": 28,
   "metadata": {},
   "outputs": [
    {
     "name": "stdout",
     "output_type": "stream",
     "text": [
      "usage: ipykernel_launcher.py [-h]\n",
      "\n",
      "One line descripption of my program.\n",
      "\n",
      "optional arguments:\n",
      "  -h, --help  show this help message and exit\n"
     ]
    }
   ],
   "source": [
    "try:\n",
    "    parser.parse_args(['-h'])\n",
    "except:\n",
    "    pass"
   ]
  },
  {
   "cell_type": "code",
   "execution_count": 32,
   "metadata": {},
   "outputs": [
    {
     "data": {
      "text/plain": [
       "_StoreAction(option_strings=['--interest'], dest='interest', nargs=None, const=None, default=0.05, type=<class 'float'>, choices=None, help=None, metavar=None)"
      ]
     },
     "execution_count": 32,
     "metadata": {},
     "output_type": "execute_result"
    }
   ],
   "source": [
    "parser.add_argument('--interest', default=0.05, type=float)"
   ]
  },
  {
   "cell_type": "code",
   "execution_count": 33,
   "metadata": {},
   "outputs": [
    {
     "data": {
      "text/plain": [
       "Namespace(interest=0.05)"
      ]
     },
     "execution_count": 33,
     "metadata": {},
     "output_type": "execute_result"
    }
   ],
   "source": [
    "parser.parse_args(['--interest',  '0.05'])"
   ]
  },
  {
   "cell_type": "markdown",
   "metadata": {},
   "source": [
    "# Creating a model"
   ]
  },
  {
   "cell_type": "code",
   "execution_count": 35,
   "metadata": {},
   "outputs": [],
   "source": [
    "from sklearn.linear_model import LogisticRegression"
   ]
  },
  {
   "cell_type": "code",
   "execution_count": 36,
   "metadata": {},
   "outputs": [],
   "source": [
    "@attr.s\n",
    "class MyBanker:\n",
    "    \n",
    "    model = attr.ib(factory=LogisticRegression)"
   ]
  },
  {
   "cell_type": "code",
   "execution_count": 37,
   "metadata": {},
   "outputs": [
    {
     "data": {
      "text/plain": [
       "MyBanker(model=LogisticRegression())"
      ]
     },
     "execution_count": 37,
     "metadata": {},
     "output_type": "execute_result"
    }
   ],
   "source": [
    "MyBanker()"
   ]
  },
  {
   "cell_type": "code",
   "execution_count": 38,
   "metadata": {},
   "outputs": [],
   "source": [
    "def model_factory(model_name, **args):\n",
    "    if model_name == 'logistic':\n",
    "        return LogisticRegression(**args)"
   ]
  },
  {
   "cell_type": "code",
   "execution_count": 39,
   "metadata": {},
   "outputs": [
    {
     "data": {
      "text/plain": [
       "LogisticRegression(C=0.5)"
      ]
     },
     "execution_count": 39,
     "metadata": {},
     "output_type": "execute_result"
    }
   ],
   "source": [
    "model_factory('logistic', C=0.5)"
   ]
  },
  {
   "cell_type": "code",
   "execution_count": 40,
   "metadata": {},
   "outputs": [],
   "source": [
    "model_factory('lostic', C=0.5)"
   ]
  },
  {
   "cell_type": "code",
   "execution_count": 46,
   "metadata": {},
   "outputs": [],
   "source": [
    "def model_factory(model_name, **args):\n",
    "    classes = {'logistic': LogisticRegression}\n",
    "    model_class = classes.get(model_name)\n",
    "    if model_class:\n",
    "        return model_class(**args)\n",
    "    else:\n",
    "        raise NotImplementedError(f\"Model class {model_name} unknow. \"\n",
    "                                  f\"Possible models are {classes.keys()}.\")"
   ]
  },
  {
   "cell_type": "code",
   "execution_count": 47,
   "metadata": {},
   "outputs": [
    {
     "data": {
      "text/plain": [
       "LogisticRegression(C=0.5)"
      ]
     },
     "execution_count": 47,
     "metadata": {},
     "output_type": "execute_result"
    }
   ],
   "source": [
    "model_factory('logistic', C=0.5)"
   ]
  },
  {
   "cell_type": "code",
   "execution_count": 48,
   "metadata": {},
   "outputs": [
    {
     "ename": "NotImplementedError",
     "evalue": "Model class tree unknow. Possible models are dict_keys(['logistic']).",
     "output_type": "error",
     "traceback": [
      "\u001b[0;31m---------------------------------------------------------------------------\u001b[0m",
      "\u001b[0;31mNotImplementedError\u001b[0m                       Traceback (most recent call last)",
      "\u001b[0;32m<ipython-input-48-a1041004b8dd>\u001b[0m in \u001b[0;36m<module>\u001b[0;34m\u001b[0m\n\u001b[0;32m----> 1\u001b[0;31m \u001b[0mmodel_factory\u001b[0m\u001b[0;34m(\u001b[0m\u001b[0;34m'tree'\u001b[0m\u001b[0;34m,\u001b[0m \u001b[0mdepth\u001b[0m\u001b[0;34m=\u001b[0m\u001b[0;36m5\u001b[0m\u001b[0;34m)\u001b[0m\u001b[0;34m\u001b[0m\u001b[0;34m\u001b[0m\u001b[0m\n\u001b[0m",
      "\u001b[0;32m<ipython-input-46-7a6ef482b900>\u001b[0m in \u001b[0;36mmodel_factory\u001b[0;34m(model_name, **args)\u001b[0m\n\u001b[1;32m      5\u001b[0m         \u001b[0;32mreturn\u001b[0m \u001b[0mmodel_class\u001b[0m\u001b[0;34m(\u001b[0m\u001b[0;34m**\u001b[0m\u001b[0margs\u001b[0m\u001b[0;34m)\u001b[0m\u001b[0;34m\u001b[0m\u001b[0;34m\u001b[0m\u001b[0m\n\u001b[1;32m      6\u001b[0m     \u001b[0;32melse\u001b[0m\u001b[0;34m:\u001b[0m\u001b[0;34m\u001b[0m\u001b[0;34m\u001b[0m\u001b[0m\n\u001b[0;32m----> 7\u001b[0;31m         raise NotImplementedError(f\"Model class {model_name} unknow. \"\n\u001b[0m\u001b[1;32m      8\u001b[0m                                   f\"Possible models are {classes.keys()}.\")\n",
      "\u001b[0;31mNotImplementedError\u001b[0m: Model class tree unknow. Possible models are dict_keys(['logistic'])."
     ]
    }
   ],
   "source": [
    "model_factory('tree', depth=5)"
   ]
  },
  {
   "cell_type": "markdown",
   "metadata": {},
   "source": [
    "# YAML"
   ]
  },
  {
   "cell_type": "code",
   "execution_count": 49,
   "metadata": {},
   "outputs": [],
   "source": [
    "import yaml"
   ]
  },
  {
   "cell_type": "code",
   "execution_count": 50,
   "metadata": {},
   "outputs": [
    {
     "data": {
      "text/plain": [
       "{'params': {'C': 0.75, 'interest': 0.06},\n",
       " 'list': [1, 2, 3],\n",
       " 'other_list': ['this', 'is', 'a', 'list']}"
      ]
     },
     "execution_count": 50,
     "metadata": {},
     "output_type": "execute_result"
    }
   ],
   "source": [
    "yaml.full_load(\"\"\"\n",
    "params:\n",
    "    C: 0.75\n",
    "    interest: 0.06\n",
    "list: [1, 2, 3]\n",
    "other_list:\n",
    "  - this\n",
    "  - is \n",
    "  - a\n",
    "  - list\n",
    "\"\"\")"
   ]
  },
  {
   "cell_type": "code",
   "execution_count": 53,
   "metadata": {},
   "outputs": [],
   "source": [
    "@attr.s\n",
    "class Evaluator(yaml.YAMLObject):\n",
    "    \n",
    "    yaml_tag = u\"!Evaluator\"\n",
    "    \n",
    "    interest = attr.ib()\n",
    "    folds = attr.ib()"
   ]
  },
  {
   "cell_type": "code",
   "execution_count": 55,
   "metadata": {},
   "outputs": [
    {
     "data": {
      "text/plain": [
       "[Evaluator(interest=0.06, folds=10)]"
      ]
     },
     "execution_count": 55,
     "metadata": {},
     "output_type": "execute_result"
    }
   ],
   "source": [
    "yaml.full_load(\"\"\"\n",
    "- !Evaluator\n",
    " interest: 0.06\n",
    " folds: 10\n",
    "\"\"\")"
   ]
  },
  {
   "cell_type": "code",
   "execution_count": 58,
   "metadata": {},
   "outputs": [
    {
     "data": {
      "text/plain": [
       "{'interest': 0.03, 'folds': 5}"
      ]
     },
     "execution_count": 58,
     "metadata": {},
     "output_type": "execute_result"
    }
   ],
   "source": [
    "attr.asdict(Evaluator(0.03, 5))"
   ]
  },
  {
   "cell_type": "code",
   "execution_count": 59,
   "metadata": {},
   "outputs": [],
   "source": [
    "import json"
   ]
  },
  {
   "cell_type": "code",
   "execution_count": 60,
   "metadata": {},
   "outputs": [],
   "source": [
    "d = attr.asdict(Evaluator(0.03, 5))"
   ]
  },
  {
   "cell_type": "code",
   "execution_count": 65,
   "metadata": {},
   "outputs": [
    {
     "name": "stdout",
     "output_type": "stream",
     "text": [
      "{\n",
      "  \"interest\": 0.03,\n",
      "  \"folds\": 5\n",
      "}\n"
     ]
    }
   ],
   "source": [
    "print(json.dumps(d, indent=2))"
   ]
  },
  {
   "cell_type": "code",
   "execution_count": 69,
   "metadata": {},
   "outputs": [
    {
     "data": {
      "text/plain": [
       "{'a': [1, 2, 3]}"
      ]
     },
     "execution_count": 69,
     "metadata": {},
     "output_type": "execute_result"
    }
   ],
   "source": [
    "json.loads('{\"a\": [1,2,3]}') # stirng to python object"
   ]
  },
  {
   "cell_type": "code",
   "execution_count": 70,
   "metadata": {},
   "outputs": [],
   "source": [
    "import tinydb"
   ]
  },
  {
   "cell_type": "code",
   "execution_count": 72,
   "metadata": {},
   "outputs": [],
   "source": [
    "db = tinydb.TinyDB('tinydb.json')"
   ]
  },
  {
   "cell_type": "code",
   "execution_count": 73,
   "metadata": {},
   "outputs": [
    {
     "data": {
      "text/plain": [
       "1"
      ]
     },
     "execution_count": 73,
     "metadata": {},
     "output_type": "execute_result"
    }
   ],
   "source": [
    "db.insert({'name': {'last': 'Lennon', 'first': 'John'}, 'born': 1940, 'band': 'Beatles, The'})"
   ]
  },
  {
   "cell_type": "code",
   "execution_count": 74,
   "metadata": {},
   "outputs": [],
   "source": [
    "Artist = tinydb.Query()"
   ]
  },
  {
   "cell_type": "code",
   "execution_count": 76,
   "metadata": {},
   "outputs": [
    {
     "data": {
      "text/plain": [
       "[{'name': {'last': 'Lennon', 'first': 'John'},\n",
       "  'born': 1940,\n",
       "  'band': 'Beatles, The'}]"
      ]
     },
     "execution_count": 76,
     "metadata": {},
     "output_type": "execute_result"
    }
   ],
   "source": [
    "db.search(Artist.band == 'Beatles, The')"
   ]
  },
  {
   "cell_type": "code",
   "execution_count": 77,
   "metadata": {},
   "outputs": [
    {
     "data": {
      "text/plain": [
       "1"
      ]
     },
     "execution_count": 77,
     "metadata": {},
     "output_type": "execute_result"
    }
   ],
   "source": [
    "db.count(Artist.band == 'Beatles, The')"
   ]
  },
  {
   "cell_type": "code",
   "execution_count": 78,
   "metadata": {},
   "outputs": [
    {
     "data": {
      "text/plain": [
       "True"
      ]
     },
     "execution_count": 78,
     "metadata": {},
     "output_type": "execute_result"
    }
   ],
   "source": [
    "db.contains(Artist.band == 'Beatles, The')"
   ]
  },
  {
   "cell_type": "code",
   "execution_count": 79,
   "metadata": {},
   "outputs": [
    {
     "data": {
      "text/plain": [
       "[1]"
      ]
     },
     "execution_count": 79,
     "metadata": {},
     "output_type": "execute_result"
    }
   ],
   "source": [
    "db.update({'name': {'last': 'Lennon', 'middle': 'Winston', 'first': 'John'}}, \n",
    "          Artist.name.last == 'Lennon')"
   ]
  },
  {
   "cell_type": "code",
   "execution_count": 80,
   "metadata": {},
   "outputs": [
    {
     "data": {
      "text/plain": [
       "[{'name': {'last': 'Lennon', 'middle': 'Winston', 'first': 'John'},\n",
       "  'born': 1940,\n",
       "  'band': 'Beatles, The'}]"
      ]
     },
     "execution_count": 80,
     "metadata": {},
     "output_type": "execute_result"
    }
   ],
   "source": [
    "db.search(Artist.band == 'Beatles, The')"
   ]
  },
  {
   "cell_type": "markdown",
   "metadata": {},
   "source": [
    "# Twitter"
   ]
  },
  {
   "cell_type": "code",
   "execution_count": 81,
   "metadata": {},
   "outputs": [],
   "source": [
    "import requests\n",
    "from requests_oauthlib import OAuth1"
   ]
  },
  {
   "cell_type": "code",
   "execution_count": 82,
   "metadata": {},
   "outputs": [],
   "source": [
    "from donthackme import *"
   ]
  },
  {
   "cell_type": "code",
   "execution_count": 83,
   "metadata": {},
   "outputs": [],
   "source": [
    "auth = OAuth1(API_KEY, API_KEY_SECRET, ACCESS_TOKEN, ACCESS_TOKEN_SECRET)"
   ]
  },
  {
   "cell_type": "code",
   "execution_count": 84,
   "metadata": {},
   "outputs": [],
   "source": [
    "url = 'https://api.twitter.com/1.1/account/verify_credentials.json'"
   ]
  },
  {
   "cell_type": "code",
   "execution_count": 85,
   "metadata": {},
   "outputs": [],
   "source": [
    "verify_response = requests.get(url, auth=auth)"
   ]
  },
  {
   "cell_type": "code",
   "execution_count": 86,
   "metadata": {},
   "outputs": [
    {
     "data": {
      "text/plain": [
       "<Response [200]>"
      ]
     },
     "execution_count": 86,
     "metadata": {},
     "output_type": "execute_result"
    }
   ],
   "source": [
    "verify_response"
   ]
  },
  {
   "cell_type": "code",
   "execution_count": 87,
   "metadata": {},
   "outputs": [
    {
     "data": {
      "text/plain": [
       "{'cache-control': 'no-cache, no-store, must-revalidate, pre-check=0, post-check=0', 'content-disposition': 'attachment; filename=json.json', 'content-encoding': 'gzip', 'content-length': '1360', 'content-type': 'application/json;charset=utf-8', 'date': 'Thu, 12 Nov 2020 10:36:49 GMT', 'expires': 'Tue, 31 Mar 1981 05:00:00 GMT', 'last-modified': 'Thu, 12 Nov 2020 10:36:48 GMT', 'pragma': 'no-cache', 'server': 'tsa_o', 'set-cookie': 'personalization_id=\"v1_yIbGLHkiqghS0j4td9W5Yw==\"; Max-Age=63072000; Expires=Sat, 12 Nov 2022 10:36:48 GMT; Path=/; Domain=.twitter.com; Secure; SameSite=None, lang=en-gb; Path=/, guest_id=v1%3A160517740896472587; Max-Age=63072000; Expires=Sat, 12 Nov 2022 10:36:48 GMT; Path=/; Domain=.twitter.com; Secure; SameSite=None', 'status': '200 OK', 'strict-transport-security': 'max-age=631138519', 'x-access-level': 'read', 'x-connection-hash': '2bba7301420c01408543c1b356c90fcc', 'x-content-type-options': 'nosniff', 'x-frame-options': 'SAMEORIGIN', 'x-rate-limit-limit': '75', 'x-rate-limit-remaining': '74', 'x-rate-limit-reset': '1605178308', 'x-response-time': '144', 'x-transaction': '004df33c00087880', 'x-twitter-response-tags': 'BouncerExempt, BouncerCompliant', 'x-xss-protection': '0'}"
      ]
     },
     "execution_count": 87,
     "metadata": {},
     "output_type": "execute_result"
    }
   ],
   "source": [
    "verify_response.headers"
   ]
  },
  {
   "cell_type": "code",
   "execution_count": 91,
   "metadata": {},
   "outputs": [
    {
     "data": {
      "text/plain": [
       "'Dirk Hesse'"
      ]
     },
     "execution_count": 91,
     "metadata": {},
     "output_type": "execute_result"
    }
   ],
   "source": [
    "verify_response.json()['name']"
   ]
  },
  {
   "cell_type": "code",
   "execution_count": 92,
   "metadata": {},
   "outputs": [
    {
     "data": {
      "text/plain": [
       "'NotDirkHesse'"
      ]
     },
     "execution_count": 92,
     "metadata": {},
     "output_type": "execute_result"
    }
   ],
   "source": [
    "verify_response.json()['screen_name']"
   ]
  },
  {
   "cell_type": "code",
   "execution_count": 93,
   "metadata": {},
   "outputs": [
    {
     "data": {
      "text/plain": [
       "dict_keys(['id', 'id_str', 'name', 'screen_name', 'location', 'description', 'url', 'entities', 'protected', 'followers_count', 'friends_count', 'listed_count', 'created_at', 'favourites_count', 'utc_offset', 'time_zone', 'geo_enabled', 'verified', 'statuses_count', 'lang', 'status', 'contributors_enabled', 'is_translator', 'is_translation_enabled', 'profile_background_color', 'profile_background_image_url', 'profile_background_image_url_https', 'profile_background_tile', 'profile_image_url', 'profile_image_url_https', 'profile_banner_url', 'profile_link_color', 'profile_sidebar_border_color', 'profile_sidebar_fill_color', 'profile_text_color', 'profile_use_background_image', 'has_extended_profile', 'default_profile', 'default_profile_image', 'following', 'follow_request_sent', 'notifications', 'translator_type', 'suspended', 'needs_phone_verification'])"
      ]
     },
     "execution_count": 93,
     "metadata": {},
     "output_type": "execute_result"
    }
   ],
   "source": [
    "verify_response.json().keys()"
   ]
  },
  {
   "cell_type": "code",
   "execution_count": null,
   "metadata": {},
   "outputs": [],
   "source": []
  },
  {
   "cell_type": "code",
   "execution_count": null,
   "metadata": {},
   "outputs": [],
   "source": []
  }
 ],
 "metadata": {
  "kernelspec": {
   "display_name": "Python 3",
   "language": "python",
   "name": "python3"
  },
  "language_info": {
   "codemirror_mode": {
    "name": "ipython",
    "version": 3
   },
   "file_extension": ".py",
   "mimetype": "text/x-python",
   "name": "python",
   "nbconvert_exporter": "python",
   "pygments_lexer": "ipython3",
   "version": "3.8.5"
  }
 },
 "nbformat": 4,
 "nbformat_minor": 4
}
