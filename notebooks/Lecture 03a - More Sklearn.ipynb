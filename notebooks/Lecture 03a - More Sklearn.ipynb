{
 "cells": [
  {
   "cell_type": "code",
   "execution_count": 1,
   "metadata": {},
   "outputs": [],
   "source": [
    "import pandas\n",
    "import sklearn\n",
    "import matplotlib.pyplot as plt\n",
    "%matplotlib inline"
   ]
  },
  {
   "cell_type": "code",
   "execution_count": 5,
   "metadata": {},
   "outputs": [
    {
     "name": "stdout",
     "output_type": "stream",
     "text": [
      "\"age\",\n",
      "\"workclass\",\n",
      "\"fnlwgt\",\n",
      "\"education\",\n",
      "\"education-num\",\n",
      "\"marital-status\",\n",
      "\"occupation\",\n",
      "\"relationship\",\n",
      "\"race\",\n",
      "\"sex\",\n",
      "\"capital-gain\",\n",
      "\"capital-loss\",\n",
      "\"hours-per-week\",\n",
      "\"native-country\",\n"
     ]
    }
   ],
   "source": [
    "!tail -n 14 ../data/adult.names | awk -F: '{print \"\\x22\"$1\"\\x22,\"}'"
   ]
  },
  {
   "cell_type": "code",
   "execution_count": 10,
   "metadata": {},
   "outputs": [],
   "source": [
    "def read_data(n=None):\n",
    "    colnames = [\"age\",\n",
    "\"workclass\",\n",
    "\"fnlwgt\",\n",
    "\"education\",\n",
    "\"education-num\",\n",
    "\"marital-status\",\n",
    "\"occupation\",\n",
    "\"relationship\",\n",
    "\"race\",\n",
    "\"sex\",\n",
    "\"capital-gain\",\n",
    "\"capital-loss\",\n",
    "\"hours-per-week\",\n",
    "\"native-country\",\n",
    "\"income\"]\n",
    "    df = pandas.read_csv('../data/adult.data.gz', names=colnames)\n",
    "    if n:\n",
    "        df = df.sample(n)\n",
    "        df.index = range(n)\n",
    "    target = (df['income'] == \" >50K\")*1\n",
    "    df.pop('income')\n",
    "    return df, target"
   ]
  },
  {
   "cell_type": "code",
   "execution_count": 11,
   "metadata": {},
   "outputs": [],
   "source": [
    "features, target = read_data(2000)"
   ]
  },
  {
   "cell_type": "code",
   "execution_count": 12,
   "metadata": {},
   "outputs": [],
   "source": [
    "cat_columns = ['sex', 'education', 'race']\n",
    "cont_columns = ['age', 'education-num']"
   ]
  },
  {
   "cell_type": "code",
   "execution_count": 13,
   "metadata": {},
   "outputs": [],
   "source": [
    "from sklearn.pipeline import Pipeline\n",
    "from sklearn.compose import ColumnTransformer\n",
    "from sklearn.neighbors import KNeighborsClassifier\n",
    "from sklearn.preprocessing import OneHotEncoder, StandardScaler"
   ]
  },
  {
   "cell_type": "code",
   "execution_count": 15,
   "metadata": {},
   "outputs": [],
   "source": [
    "cat_trans = Pipeline(steps=[('onehot', OneHotEncoder(drop='first'))])\n",
    "cont_trans = Pipeline(steps=[('scale', StandardScaler())])\n",
    "\n",
    "feature_trans = ColumnTransformer(\n",
    "    transformers=[('categorical', cat_trans, cat_columns),\n",
    "                 ('continuous', cont_trans, cont_columns)])\n",
    "\n",
    "classifier = Pipeline(steps=[('feature_tranform', feature_trans),\n",
    "                             ('classifier', KNeighborsClassifier(n_neighbors=35))])"
   ]
  },
  {
   "cell_type": "code",
   "execution_count": 16,
   "metadata": {},
   "outputs": [
    {
     "data": {
      "text/plain": [
       "Pipeline(steps=[('feature_tranform',\n",
       "                 ColumnTransformer(transformers=[('categorical',\n",
       "                                                  Pipeline(steps=[('onehot',\n",
       "                                                                   OneHotEncoder(drop='first'))]),\n",
       "                                                  ['sex', 'education', 'race']),\n",
       "                                                 ('continuous',\n",
       "                                                  Pipeline(steps=[('scale',\n",
       "                                                                   StandardScaler())]),\n",
       "                                                  ['age', 'education-num'])])),\n",
       "                ('classifier', KNeighborsClassifier(n_neighbors=35))])"
      ]
     },
     "execution_count": 16,
     "metadata": {},
     "output_type": "execute_result"
    }
   ],
   "source": [
    "classifier"
   ]
  },
  {
   "cell_type": "code",
   "execution_count": 17,
   "metadata": {},
   "outputs": [],
   "source": [
    "from sklearn import set_config\n",
    "set_config(display='diagram')"
   ]
  },
  {
   "cell_type": "code",
   "execution_count": 18,
   "metadata": {},
   "outputs": [
    {
     "data": {
      "text/html": [
       "<style>div.sk-top-container {color: black;background-color: white;}div.sk-toggleable {background-color: white;}label.sk-toggleable__label {cursor: pointer;display: block;width: 100%;margin-bottom: 0;padding: 0.2em 0.3em;box-sizing: border-box;text-align: center;}div.sk-toggleable__content {max-height: 0;max-width: 0;overflow: hidden;text-align: left;background-color: #f0f8ff;}div.sk-toggleable__content pre {margin: 0.2em;color: black;border-radius: 0.25em;background-color: #f0f8ff;}input.sk-toggleable__control:checked~div.sk-toggleable__content {max-height: 200px;max-width: 100%;overflow: auto;}div.sk-estimator input.sk-toggleable__control:checked~label.sk-toggleable__label {background-color: #d4ebff;}div.sk-label input.sk-toggleable__control:checked~label.sk-toggleable__label {background-color: #d4ebff;}input.sk-hidden--visually {border: 0;clip: rect(1px 1px 1px 1px);clip: rect(1px, 1px, 1px, 1px);height: 1px;margin: -1px;overflow: hidden;padding: 0;position: absolute;width: 1px;}div.sk-estimator {font-family: monospace;background-color: #f0f8ff;margin: 0.25em 0.25em;border: 1px dotted black;border-radius: 0.25em;box-sizing: border-box;}div.sk-estimator:hover {background-color: #d4ebff;}div.sk-parallel-item::after {content: \"\";width: 100%;border-bottom: 1px solid gray;flex-grow: 1;}div.sk-label:hover label.sk-toggleable__label {background-color: #d4ebff;}div.sk-serial::before {content: \"\";position: absolute;border-left: 1px solid gray;box-sizing: border-box;top: 2em;bottom: 0;left: 50%;}div.sk-serial {display: flex;flex-direction: column;align-items: center;background-color: white;}div.sk-item {z-index: 1;}div.sk-parallel {display: flex;align-items: stretch;justify-content: center;background-color: white;}div.sk-parallel-item {display: flex;flex-direction: column;position: relative;background-color: white;}div.sk-parallel-item:first-child::after {align-self: flex-end;width: 50%;}div.sk-parallel-item:last-child::after {align-self: flex-start;width: 50%;}div.sk-parallel-item:only-child::after {width: 0;}div.sk-dashed-wrapped {border: 1px dashed gray;margin: 0.2em;box-sizing: border-box;padding-bottom: 0.1em;background-color: white;position: relative;}div.sk-label label {font-family: monospace;font-weight: bold;background-color: white;display: inline-block;line-height: 1.2em;}div.sk-label-container {position: relative;z-index: 2;text-align: center;}div.sk-container {display: inline-block;position: relative;}</style><div class=\"sk-top-container\"><div class=\"sk-container\"><div class=\"sk-item sk-dashed-wrapped\"><div class=\"sk-label-container\"><div class=\"sk-label sk-toggleable\"><input class=\"sk-toggleable__control sk-hidden--visually\" id=\"5e07ea25-d689-4314-94e1-8290d4120d32\" type=\"checkbox\" ><label class=\"sk-toggleable__label\" for=\"5e07ea25-d689-4314-94e1-8290d4120d32\">Pipeline</label><div class=\"sk-toggleable__content\"><pre>Pipeline(steps=[('feature_tranform',\n",
       "                 ColumnTransformer(transformers=[('categorical',\n",
       "                                                  Pipeline(steps=[('onehot',\n",
       "                                                                   OneHotEncoder(drop='first'))]),\n",
       "                                                  ['sex', 'education', 'race']),\n",
       "                                                 ('continuous',\n",
       "                                                  Pipeline(steps=[('scale',\n",
       "                                                                   StandardScaler())]),\n",
       "                                                  ['age', 'education-num'])])),\n",
       "                ('classifier', KNeighborsClassifier(n_neighbors=35))])</pre></div></div></div><div class=\"sk-serial\"><div class=\"sk-item sk-dashed-wrapped\"><div class=\"sk-label-container\"><div class=\"sk-label sk-toggleable\"><input class=\"sk-toggleable__control sk-hidden--visually\" id=\"632107a3-54d4-490b-ab8b-eba847aa3191\" type=\"checkbox\" ><label class=\"sk-toggleable__label\" for=\"632107a3-54d4-490b-ab8b-eba847aa3191\">feature_tranform: ColumnTransformer</label><div class=\"sk-toggleable__content\"><pre>ColumnTransformer(transformers=[('categorical',\n",
       "                                 Pipeline(steps=[('onehot',\n",
       "                                                  OneHotEncoder(drop='first'))]),\n",
       "                                 ['sex', 'education', 'race']),\n",
       "                                ('continuous',\n",
       "                                 Pipeline(steps=[('scale', StandardScaler())]),\n",
       "                                 ['age', 'education-num'])])</pre></div></div></div><div class=\"sk-parallel\"><div class=\"sk-parallel-item\"><div class=\"sk-item\"><div class=\"sk-label-container\"><div class=\"sk-label sk-toggleable\"><input class=\"sk-toggleable__control sk-hidden--visually\" id=\"07cdee8b-075d-4710-b2e6-7dc19022cdc8\" type=\"checkbox\" ><label class=\"sk-toggleable__label\" for=\"07cdee8b-075d-4710-b2e6-7dc19022cdc8\">categorical</label><div class=\"sk-toggleable__content\"><pre>['sex', 'education', 'race']</pre></div></div></div><div class=\"sk-serial\"><div class=\"sk-item\"><div class=\"sk-serial\"><div class=\"sk-item\"><div class=\"sk-estimator sk-toggleable\"><input class=\"sk-toggleable__control sk-hidden--visually\" id=\"9d8759a4-662e-443e-bebd-30abc61749a0\" type=\"checkbox\" ><label class=\"sk-toggleable__label\" for=\"9d8759a4-662e-443e-bebd-30abc61749a0\">OneHotEncoder</label><div class=\"sk-toggleable__content\"><pre>OneHotEncoder(drop='first')</pre></div></div></div></div></div></div></div></div><div class=\"sk-parallel-item\"><div class=\"sk-item\"><div class=\"sk-label-container\"><div class=\"sk-label sk-toggleable\"><input class=\"sk-toggleable__control sk-hidden--visually\" id=\"98d64e67-b8b3-464a-817b-9875a7463784\" type=\"checkbox\" ><label class=\"sk-toggleable__label\" for=\"98d64e67-b8b3-464a-817b-9875a7463784\">continuous</label><div class=\"sk-toggleable__content\"><pre>['age', 'education-num']</pre></div></div></div><div class=\"sk-serial\"><div class=\"sk-item\"><div class=\"sk-serial\"><div class=\"sk-item\"><div class=\"sk-estimator sk-toggleable\"><input class=\"sk-toggleable__control sk-hidden--visually\" id=\"ea0b820c-aa6a-446d-8a0c-a1b4d83e3e70\" type=\"checkbox\" ><label class=\"sk-toggleable__label\" for=\"ea0b820c-aa6a-446d-8a0c-a1b4d83e3e70\">StandardScaler</label><div class=\"sk-toggleable__content\"><pre>StandardScaler()</pre></div></div></div></div></div></div></div></div></div></div><div class=\"sk-item\"><div class=\"sk-estimator sk-toggleable\"><input class=\"sk-toggleable__control sk-hidden--visually\" id=\"15c176b5-43e0-426d-9f02-62702ed07a6c\" type=\"checkbox\" ><label class=\"sk-toggleable__label\" for=\"15c176b5-43e0-426d-9f02-62702ed07a6c\">KNeighborsClassifier</label><div class=\"sk-toggleable__content\"><pre>KNeighborsClassifier(n_neighbors=35)</pre></div></div></div></div></div></div></div>"
      ],
      "text/plain": [
       "Pipeline(steps=[('feature_tranform',\n",
       "                 ColumnTransformer(transformers=[('categorical',\n",
       "                                                  Pipeline(steps=[('onehot',\n",
       "                                                                   OneHotEncoder(drop='first'))]),\n",
       "                                                  ['sex', 'education', 'race']),\n",
       "                                                 ('continuous',\n",
       "                                                  Pipeline(steps=[('scale',\n",
       "                                                                   StandardScaler())]),\n",
       "                                                  ['age', 'education-num'])])),\n",
       "                ('classifier', KNeighborsClassifier(n_neighbors=35))])"
      ]
     },
     "execution_count": 18,
     "metadata": {},
     "output_type": "execute_result"
    }
   ],
   "source": [
    "classifier"
   ]
  },
  {
   "cell_type": "code",
   "execution_count": 19,
   "metadata": {},
   "outputs": [],
   "source": [
    "from sklearn.model_selection import cross_val_score"
   ]
  },
  {
   "cell_type": "code",
   "execution_count": 27,
   "metadata": {},
   "outputs": [],
   "source": [
    "cv_scores = cross_val_score(classifier, features, target, cv=20)"
   ]
  },
  {
   "cell_type": "code",
   "execution_count": 32,
   "metadata": {},
   "outputs": [
    {
     "data": {
      "text/plain": [
       "array([0.82, 0.81, 0.83, 0.81, 0.79, 0.79, 0.77, 0.75, 0.83, 0.79, 0.81,\n",
       "       0.75, 0.77, 0.78, 0.84, 0.78, 0.78, 0.79, 0.8 , 0.74])"
      ]
     },
     "execution_count": 32,
     "metadata": {},
     "output_type": "execute_result"
    }
   ],
   "source": [
    "cv_scores"
   ]
  },
  {
   "cell_type": "code",
   "execution_count": 33,
   "metadata": {},
   "outputs": [
    {
     "data": {
      "text/plain": [
       "0.7915"
      ]
     },
     "execution_count": 33,
     "metadata": {},
     "output_type": "execute_result"
    }
   ],
   "source": [
    "cv_scores.mean()"
   ]
  },
  {
   "cell_type": "code",
   "execution_count": 34,
   "metadata": {},
   "outputs": [
    {
     "data": {
      "text/plain": [
       "(array([3., 2., 7., 4., 4.]),\n",
       " array([0.74, 0.76, 0.78, 0.8 , 0.82, 0.84]),\n",
       " <BarContainer object of 5 artists>)"
      ]
     },
     "execution_count": 34,
     "metadata": {},
     "output_type": "execute_result"
    },
    {
     "data": {
      "image/png": "[encoded data removed]",
      "text/plain": [
       "<Figure size 432x288 with 1 Axes>"
      ]
     },
     "metadata": {
      "needs_background": "light"
     },
     "output_type": "display_data"
    }
   ],
   "source": [
    "plt.hist(cv_scores, bins=5)"
   ]
  },
  {
   "cell_type": "code",
   "execution_count": 29,
   "metadata": {},
   "outputs": [],
   "source": [
    "from sklearn.utils import resample"
   ]
  },
  {
   "cell_type": "code",
   "execution_count": 35,
   "metadata": {},
   "outputs": [
    {
     "data": {
      "image/png": "[encoded data removed]",
      "text/plain": [
       "<Figure size 432x288 with 1 Axes>"
      ]
     },
     "metadata": {
      "needs_background": "light"
     },
     "output_type": "display_data"
    }
   ],
   "source": [
    "plt.hist([resample(cv_scores).mean() for _ in range(1000)])\n",
    "None"
   ]
  },
  {
   "cell_type": "code",
   "execution_count": 37,
   "metadata": {},
   "outputs": [],
   "source": [
    "ks = list(range(10, 100, 10))"
   ]
  },
  {
   "cell_type": "code",
   "execution_count": 39,
   "metadata": {},
   "outputs": [],
   "source": [
    "score_results = [cross_val_score(Pipeline(steps=[('feature_tranform', feature_trans),\n",
    "                             ('classifier', KNeighborsClassifier(n_neighbors=k))]), features, target, cv=5)\n",
    "                for k in ks]"
   ]
  },
  {
   "cell_type": "code",
   "execution_count": 40,
   "metadata": {},
   "outputs": [
    {
     "data": {
      "text/plain": [
       "[array([0.7875, 0.75  , 0.76  , 0.765 , 0.765 ]),\n",
       " array([0.805 , 0.7775, 0.79  , 0.7875, 0.7475]),\n",
       " array([0.8125, 0.78  , 0.7925, 0.8075, 0.775 ]),\n",
       " array([0.8025, 0.79  , 0.7925, 0.7975, 0.765 ]),\n",
       " array([0.805 , 0.785 , 0.79  , 0.795 , 0.7575]),\n",
       " array([0.81  , 0.7825, 0.795 , 0.7875, 0.75  ]),\n",
       " array([0.8075, 0.785 , 0.79  , 0.795 , 0.765 ]),\n",
       " array([0.815 , 0.7825, 0.78  , 0.8   , 0.7625]),\n",
       " array([0.81  , 0.7875, 0.775 , 0.7975, 0.7675])]"
      ]
     },
     "execution_count": 40,
     "metadata": {},
     "output_type": "execute_result"
    }
   ],
   "source": [
    "score_results"
   ]
  },
  {
   "cell_type": "code",
   "execution_count": 41,
   "metadata": {},
   "outputs": [
    {
     "data": {
      "text/plain": [
       "[<matplotlib.lines.Line2D at 0x140c1ca60>]"
      ]
     },
     "execution_count": 41,
     "metadata": {},
     "output_type": "execute_result"
    },
    {
     "data": {
      "image/png": "[encoded data removed]",
      "text/plain": [
       "<Figure size 432x288 with 1 Axes>"
      ]
     },
     "metadata": {
      "needs_background": "light"
     },
     "output_type": "display_data"
    }
   ],
   "source": [
    "plt.plot(ks, [s.mean() for s in score_results])"
   ]
  },
  {
   "cell_type": "code",
   "execution_count": 42,
   "metadata": {},
   "outputs": [
    {
     "data": {
      "text/plain": [
       "[<matplotlib.lines.Line2D at 0x140f66d60>]"
      ]
     },
     "execution_count": 42,
     "metadata": {},
     "output_type": "execute_result"
    },
    {
     "data": {
      "image/png": "[encoded data removed]",
      "text/plain": [
       "<Figure size 432x288 with 1 Axes>"
      ]
     },
     "metadata": {
      "needs_background": "light"
     },
     "output_type": "display_data"
    }
   ],
   "source": [
    "plt.plot(ks, [s.mean() for s in score_results])\n",
    "plt.plot(ks, [s.min() for s in score_results])\n",
    "plt.plot(ks, [s.max() for s in score_results])"
   ]
  },
  {
   "cell_type": "code",
   "execution_count": 43,
   "metadata": {},
   "outputs": [],
   "source": [
    "from sklearn.model_selection import GridSearchCV"
   ]
  },
  {
   "cell_type": "code",
   "execution_count": 44,
   "metadata": {},
   "outputs": [],
   "source": [
    "param_grid = {'classifier__n_neighbors': ks}\n",
    "grid_search = GridSearchCV(classifier, param_grid, cv=10)"
   ]
  },
  {
   "cell_type": "code",
   "execution_count": 45,
   "metadata": {},
   "outputs": [],
   "source": [
    "fit_result = grid_search.fit(features, target)"
   ]
  },
  {
   "cell_type": "code",
   "execution_count": 47,
   "metadata": {},
   "outputs": [
    {
     "data": {
      "text/plain": [
       "[('feature_tranform',\n",
       "  ColumnTransformer(transformers=[('categorical',\n",
       "                                   Pipeline(steps=[('onehot',\n",
       "                                                    OneHotEncoder(drop='first'))]),\n",
       "                                   ['sex', 'education', 'race']),\n",
       "                                  ('continuous',\n",
       "                                   Pipeline(steps=[('scale', StandardScaler())]),\n",
       "                                   ['age', 'education-num'])])),\n",
       " ('classifier', KNeighborsClassifier(n_neighbors=30))]"
      ]
     },
     "execution_count": 47,
     "metadata": {},
     "output_type": "execute_result"
    }
   ],
   "source": [
    "fit_result.best_estimator_.get_params()['steps']"
   ]
  },
  {
   "cell_type": "code",
   "execution_count": null,
   "metadata": {},
   "outputs": [],
   "source": []
  }
 ],
 "metadata": {
  "kernelspec": {
   "display_name": "Python 3",
   "language": "python",
   "name": "python3"
  },
  "language_info": {
   "codemirror_mode": {
    "name": "ipython",
    "version": 3
   },
   "file_extension": ".py",
   "mimetype": "text/x-python",
   "name": "python",
   "nbconvert_exporter": "python",
   "pygments_lexer": "ipython3",
   "version": "3.8.5"
  }
 },
 "nbformat": 4,
 "nbformat_minor": 4
}
