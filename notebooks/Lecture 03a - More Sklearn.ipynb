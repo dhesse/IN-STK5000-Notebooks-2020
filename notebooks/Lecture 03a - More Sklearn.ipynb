{
 "cells": [
  {
   "cell_type": "code",
   "execution_count": 1,
   "metadata": {},
   "outputs": [],
   "source": [
    "import pandas\n",
    "import sklearn\n",
    "import matplotlib.pyplot as plt\n",
    "%matplotlib inline"
   ]
  },
  {
   "cell_type": "code",
   "execution_count": 5,
   "metadata": {},
   "outputs": [
    {
     "name": "stdout",
     "output_type": "stream",
     "text": [
      "\"age\",\n",
      "\"workclass\",\n",
      "\"fnlwgt\",\n",
      "\"education\",\n",
      "\"education-num\",\n",
      "\"marital-status\",\n",
      "\"occupation\",\n",
      "\"relationship\",\n",
      "\"race\",\n",
      "\"sex\",\n",
      "\"capital-gain\",\n",
      "\"capital-loss\",\n",
      "\"hours-per-week\",\n",
      "\"native-country\",\n"
     ]
    }
   ],
   "source": [
    "!tail -n 14 ../data/adult.names | awk -F: '{print \"\\x22\"$1\"\\x22,\"}'"
   ]
  },
  {
   "cell_type": "code",
   "execution_count": 10,
   "metadata": {},
   "outputs": [],
   "source": [
    "def read_data(n=None):\n",
    "    colnames = [\"age\",\n",
    "\"workclass\",\n",
    "\"fnlwgt\",\n",
    "\"education\",\n",
    "\"education-num\",\n",
    "\"marital-status\",\n",
    "\"occupation\",\n",
    "\"relationship\",\n",
    "\"race\",\n",
    "\"sex\",\n",
    "\"capital-gain\",\n",
    "\"capital-loss\",\n",
    "\"hours-per-week\",\n",
    "\"native-country\",\n",
    "\"income\"]\n",
    "    df = pandas.read_csv('../data/adult.data.gz', names=colnames)\n",
    "    if n:\n",
    "        df = df.sample(n)\n",
    "        df.index = range(n)\n",
    "    target = (df['income'] == \" >50K\")*1\n",
    "    df.pop('income')\n",
    "    return df, target"
   ]
  },
  {
   "cell_type": "code",
   "execution_count": 11,
   "metadata": {},
   "outputs": [],
   "source": [
    "features, target = read_data(2000)"
   ]
  },
  {
   "cell_type": "code",
   "execution_count": 12,
   "metadata": {},
   "outputs": [],
   "source": [
    "cat_columns = ['sex', 'education', 'race']\n",
    "cont_columns = ['age', 'education-num']"
   ]
  },
  {
   "cell_type": "code",
   "execution_count": 13,
   "metadata": {},
   "outputs": [],
   "source": [
    "from sklearn.pipeline import Pipeline\n",
    "from sklearn.compose import ColumnTransformer\n",
    "from sklearn.neighbors import KNeighborsClassifier\n",
    "from sklearn.preprocessing import OneHotEncoder, StandardScaler"
   ]
  },
  {
   "cell_type": "code",
   "execution_count": 15,
   "metadata": {},
   "outputs": [],
   "source": [
    "cat_trans = Pipeline(steps=[('onehot', OneHotEncoder(drop='first'))])\n",
    "cont_trans = Pipeline(steps=[('scale', StandardScaler())])\n",
    "\n",
    "feature_trans = ColumnTransformer(\n",
    "    transformers=[('categorical', cat_trans, cat_columns),\n",
    "                 ('continuous', cont_trans, cont_columns)])\n",
    "\n",
    "classifier = Pipeline(steps=[('feature_tranform', feature_trans),\n",
    "                             ('classifier', KNeighborsClassifier(n_neighbors=35))])"
   ]
  },
  {
   "cell_type": "code",
   "execution_count": 16,
   "metadata": {},
   "outputs": [
    {
     "data": {
      "text/plain": [
       "Pipeline(steps=[('feature_tranform',\n",
       "                 ColumnTransformer(transformers=[('categorical',\n",
       "                                                  Pipeline(steps=[('onehot',\n",
       "                                                                   OneHotEncoder(drop='first'))]),\n",
       "                                                  ['sex', 'education', 'race']),\n",
       "                                                 ('continuous',\n",
       "                                                  Pipeline(steps=[('scale',\n",
       "                                                                   StandardScaler())]),\n",
       "                                                  ['age', 'education-num'])])),\n",
       "                ('classifier', KNeighborsClassifier(n_neighbors=35))])"
      ]
     },
     "execution_count": 16,
     "metadata": {},
     "output_type": "execute_result"
    }
   ],
   "source": [
    "classifier"
   ]
  },
  {
   "cell_type": "code",
   "execution_count": 17,
   "metadata": {},
   "outputs": [],
   "source": [
    "from sklearn import set_config\n",
    "set_config(display='diagram')"
   ]
  },
  {
   "cell_type": "code",
   "execution_count": 18,
   "metadata": {},
   "outputs": [
    {
     "data": {
      "text/html": [
       "<style>div.sk-top-container {color: black;background-color: white;}div.sk-toggleable {background-color: white;}label.sk-toggleable__label {cursor: pointer;display: block;width: 100%;margin-bottom: 0;padding: 0.2em 0.3em;box-sizing: border-box;text-align: center;}div.sk-toggleable__content {max-height: 0;max-width: 0;overflow: hidden;text-align: left;background-color: #f0f8ff;}div.sk-toggleable__content pre {margin: 0.2em;color: black;border-radius: 0.25em;background-color: #f0f8ff;}input.sk-toggleable__control:checked~div.sk-toggleable__content {max-height: 200px;max-width: 100%;overflow: auto;}div.sk-estimator input.sk-toggleable__control:checked~label.sk-toggleable__label {background-color: #d4ebff;}div.sk-label input.sk-toggleable__control:checked~label.sk-toggleable__label {background-color: #d4ebff;}input.sk-hidden--visually {border: 0;clip: rect(1px 1px 1px 1px);clip: rect(1px, 1px, 1px, 1px);height: 1px;margin: -1px;overflow: hidden;padding: 0;position: absolute;width: 1px;}div.sk-estimator {font-family: monospace;background-color: #f0f8ff;margin: 0.25em 0.25em;border: 1px dotted black;border-radius: 0.25em;box-sizing: border-box;}div.sk-estimator:hover {background-color: #d4ebff;}div.sk-parallel-item::after {content: \"\";width: 100%;border-bottom: 1px solid gray;flex-grow: 1;}div.sk-label:hover label.sk-toggleable__label {background-color: #d4ebff;}div.sk-serial::before {content: \"\";position: absolute;border-left: 1px solid gray;box-sizing: border-box;top: 2em;bottom: 0;left: 50%;}div.sk-serial {display: flex;flex-direction: column;align-items: center;background-color: white;}div.sk-item {z-index: 1;}div.sk-parallel {display: flex;align-items: stretch;justify-content: center;background-color: white;}div.sk-parallel-item {display: flex;flex-direction: column;position: relative;background-color: white;}div.sk-parallel-item:first-child::after {align-self: flex-end;width: 50%;}div.sk-parallel-item:last-child::after {align-self: flex-start;width: 50%;}div.sk-parallel-item:only-child::after {width: 0;}div.sk-dashed-wrapped {border: 1px dashed gray;margin: 0.2em;box-sizing: border-box;padding-bottom: 0.1em;background-color: white;position: relative;}div.sk-label label {font-family: monospace;font-weight: bold;background-color: white;display: inline-block;line-height: 1.2em;}div.sk-label-container {position: relative;z-index: 2;text-align: center;}div.sk-container {display: inline-block;position: relative;}</style><div class=\"sk-top-container\"><div class=\"sk-container\"><div class=\"sk-item sk-dashed-wrapped\"><div class=\"sk-label-container\"><div class=\"sk-label sk-toggleable\"><input class=\"sk-toggleable__control sk-hidden--visually\" id=\"5e07ea25-d689-4314-94e1-8290d4120d32\" type=\"checkbox\" ><label class=\"sk-toggleable__label\" for=\"5e07ea25-d689-4314-94e1-8290d4120d32\">Pipeline</label><div class=\"sk-toggleable__content\"><pre>Pipeline(steps=[('feature_tranform',\n",
       "                 ColumnTransformer(transformers=[('categorical',\n",
       "                                                  Pipeline(steps=[('onehot',\n",
       "                                                                   OneHotEncoder(drop='first'))]),\n",
       "                                                  ['sex', 'education', 'race']),\n",
       "                                                 ('continuous',\n",
       "                                                  Pipeline(steps=[('scale',\n",
       "                                                                   StandardScaler())]),\n",
       "                                                  ['age', 'education-num'])])),\n",
       "                ('classifier', KNeighborsClassifier(n_neighbors=35))])</pre></div></div></div><div class=\"sk-serial\"><div class=\"sk-item sk-dashed-wrapped\"><div class=\"sk-label-container\"><div class=\"sk-label sk-toggleable\"><input class=\"sk-toggleable__control sk-hidden--visually\" id=\"632107a3-54d4-490b-ab8b-eba847aa3191\" type=\"checkbox\" ><label class=\"sk-toggleable__label\" for=\"632107a3-54d4-490b-ab8b-eba847aa3191\">feature_tranform: ColumnTransformer</label><div class=\"sk-toggleable__content\"><pre>ColumnTransformer(transformers=[('categorical',\n",
       "                                 Pipeline(steps=[('onehot',\n",
       "                                                  OneHotEncoder(drop='first'))]),\n",
       "                                 ['sex', 'education', 'race']),\n",
       "                                ('continuous',\n",
       "                                 Pipeline(steps=[('scale', StandardScaler())]),\n",
       "                                 ['age', 'education-num'])])</pre></div></div></div><div class=\"sk-parallel\"><div class=\"sk-parallel-item\"><div class=\"sk-item\"><div class=\"sk-label-container\"><div class=\"sk-label sk-toggleable\"><input class=\"sk-toggleable__control sk-hidden--visually\" id=\"07cdee8b-075d-4710-b2e6-7dc19022cdc8\" type=\"checkbox\" ><label class=\"sk-toggleable__label\" for=\"07cdee8b-075d-4710-b2e6-7dc19022cdc8\">categorical</label><div class=\"sk-toggleable__content\"><pre>['sex', 'education', 'race']</pre></div></div></div><div class=\"sk-serial\"><div class=\"sk-item\"><div class=\"sk-serial\"><div class=\"sk-item\"><div class=\"sk-estimator sk-toggleable\"><input class=\"sk-toggleable__control sk-hidden--visually\" id=\"9d8759a4-662e-443e-bebd-30abc61749a0\" type=\"checkbox\" ><label class=\"sk-toggleable__label\" for=\"9d8759a4-662e-443e-bebd-30abc61749a0\">OneHotEncoder</label><div class=\"sk-toggleable__content\"><pre>OneHotEncoder(drop='first')</pre></div></div></div></div></div></div></div></div><div class=\"sk-parallel-item\"><div class=\"sk-item\"><div class=\"sk-label-container\"><div class=\"sk-label sk-toggleable\"><input class=\"sk-toggleable__control sk-hidden--visually\" id=\"98d64e67-b8b3-464a-817b-9875a7463784\" type=\"checkbox\" ><label class=\"sk-toggleable__label\" for=\"98d64e67-b8b3-464a-817b-9875a7463784\">continuous</label><div class=\"sk-toggleable__content\"><pre>['age', 'education-num']</pre></div></div></div><div class=\"sk-serial\"><div class=\"sk-item\"><div class=\"sk-serial\"><div class=\"sk-item\"><div class=\"sk-estimator sk-toggleable\"><input class=\"sk-toggleable__control sk-hidden--visually\" id=\"ea0b820c-aa6a-446d-8a0c-a1b4d83e3e70\" type=\"checkbox\" ><label class=\"sk-toggleable__label\" for=\"ea0b820c-aa6a-446d-8a0c-a1b4d83e3e70\">StandardScaler</label><div class=\"sk-toggleable__content\"><pre>StandardScaler()</pre></div></div></div></div></div></div></div></div></div></div><div class=\"sk-item\"><div class=\"sk-estimator sk-toggleable\"><input class=\"sk-toggleable__control sk-hidden--visually\" id=\"15c176b5-43e0-426d-9f02-62702ed07a6c\" type=\"checkbox\" ><label class=\"sk-toggleable__label\" for=\"15c176b5-43e0-426d-9f02-62702ed07a6c\">KNeighborsClassifier</label><div class=\"sk-toggleable__content\"><pre>KNeighborsClassifier(n_neighbors=35)</pre></div></div></div></div></div></div></div>"
      ],
      "text/plain": [
       "Pipeline(steps=[('feature_tranform',\n",
       "                 ColumnTransformer(transformers=[('categorical',\n",
       "                                                  Pipeline(steps=[('onehot',\n",
       "                                                                   OneHotEncoder(drop='first'))]),\n",
       "                                                  ['sex', 'education', 'race']),\n",
       "                                                 ('continuous',\n",
       "                                                  Pipeline(steps=[('scale',\n",
       "                                                                   StandardScaler())]),\n",
       "                                                  ['age', 'education-num'])])),\n",
       "                ('classifier', KNeighborsClassifier(n_neighbors=35))])"
      ]
     },
     "execution_count": 18,
     "metadata": {},
     "output_type": "execute_result"
    }
   ],
   "source": [
    "classifier"
   ]
  },
  {
   "cell_type": "code",
   "execution_count": 19,
   "metadata": {},
   "outputs": [],
   "source": [
    "from sklearn.model_selection import cross_val_score"
   ]
  },
  {
   "cell_type": "code",
   "execution_count": 27,
   "metadata": {},
   "outputs": [],
   "source": [
    "cv_scores = cross_val_score(classifier, features, target, cv=20)"
   ]
  },
  {
   "cell_type": "code",
   "execution_count": 32,
   "metadata": {},
   "outputs": [
    {
     "data": {
      "text/plain": [
       "array([0.82, 0.81, 0.83, 0.81, 0.79, 0.79, 0.77, 0.75, 0.83, 0.79, 0.81,\n",
       "       0.75, 0.77, 0.78, 0.84, 0.78, 0.78, 0.79, 0.8 , 0.74])"
      ]
     },
     "execution_count": 32,
     "metadata": {},
     "output_type": "execute_result"
    }
   ],
   "source": [
    "cv_scores"
   ]
  },
  {
   "cell_type": "code",
   "execution_count": 33,
   "metadata": {},
   "outputs": [
    {
     "data": {
      "text/plain": [
       "0.7915"
      ]
     },
     "execution_count": 33,
     "metadata": {},
     "output_type": "execute_result"
    }
   ],
   "source": [
    "cv_scores.mean()"
   ]
  },
  {
   "cell_type": "code",
   "execution_count": 34,
   "metadata": {},
   "outputs": [
    {
     "data": {
      "text/plain": [
       "(array([3., 2., 7., 4., 4.]),\n",
       " array([0.74, 0.76, 0.78, 0.8 , 0.82, 0.84]),\n",
       " <BarContainer object of 5 artists>)"
      ]
     },
     "execution_count": 34,
     "metadata": {},
     "output_type": "execute_result"
    },
    {
     "data": {
      "image/png": "[encoded data removed]",
      "text/plain": [
       "<Figure size 432x288 with 1 Axes>"
      ]
     },
     "metadata": {
      "needs_background": "light"
     },
     "output_type": "display_data"
    }
   ],
   "source": [
    "plt.hist(cv_scores, bins=5)"
   ]
  },
  {
   "cell_type": "code",
   "execution_count": 29,
   "metadata": {},
   "outputs": [],
   "source": [
    "from sklearn.utils import resample"
   ]
  },
  {
   "cell_type": "code",
   "execution_count": 35,
   "metadata": {},
   "outputs": [
    {
     "data": {
      "image/png": "[encoded data removed]",
      "text/plain": [
       "<Figure size 432x288 with 1 Axes>"
      ]
     },
     "metadata": {
      "needs_background": "light"
     },
     "output_type": "display_data"
    }
   ],
   "source": [
    "plt.hist([resample(cv_scores).mean() for _ in range(1000)])\n",
    "None"
   ]
  },
  {
   "cell_type": "code",
   "execution_count": 37,
   "metadata": {},
   "outputs": [],
   "source": [
    "ks = list(range(10, 100, 10))"
   ]
  },
  {
   "cell_type": "code",
   "execution_count": 39,
   "metadata": {},
   "outputs": [],
   "source": [
    "score_results = [cross_val_score(Pipeline(steps=[('feature_tranform', feature_trans),\n",
    "                             ('classifier', KNeighborsClassifier(n_neighbors=k))]), features, target, cv=5)\n",
    "                for k in ks]"
   ]
  },
  {
   "cell_type": "code",
   "execution_count": 40,
   "metadata": {},
   "outputs": [
    {
     "data": {
      "text/plain": [
       "[array([0.7875, 0.75  , 0.76  , 0.765 , 0.765 ]),\n",
       " array([0.805 , 0.7775, 0.79  , 0.7875, 0.7475]),\n",
       " array([0.8125, 0.78  , 0.7925, 0.8075, 0.775 ]),\n",
       " array([0.8025, 0.79  , 0.7925, 0.7975, 0.765 ]),\n",
       " array([0.805 , 0.785 , 0.79  , 0.795 , 0.7575]),\n",
       " array([0.81  , 0.7825, 0.795 , 0.7875, 0.75  ]),\n",
       " array([0.8075, 0.785 , 0.79  , 0.795 , 0.765 ]),\n",
       " array([0.815 , 0.7825, 0.78  , 0.8   , 0.7625]),\n",
       " array([0.81  , 0.7875, 0.775 , 0.7975, 0.7675])]"
      ]
     },
     "execution_count": 40,
     "metadata": {},
     "output_type": "execute_result"
    }
   ],
   "source": [
    "score_results"
   ]
  },
  {
   "cell_type": "code",
   "execution_count": 41,
   "metadata": {},
   "outputs": [
    {
     "data": {
      "text/plain": [
       "[<matplotlib.lines.Line2D at 0x140c1ca60>]"
      ]
     },
     "execution_count": 41,
     "metadata": {},
     "output_type": "execute_result"
    },
    {
     "data": {
      "image/png": "[encoded data removed]",
      "text/plain": [
       "<Figure size 432x288 with 1 Axes>"
      ]
     },
     "metadata": {
      "needs_background": "light"
     },
     "output_type": "display_data"
    }
   ],
   "source": [
    "plt.plot(ks, [s.mean() for s in score_results])"
   ]
  },
  {
   "cell_type": "code",
   "execution_count": 42,
   "metadata": {},
   "outputs": [
    {
     "data": {
      "text/plain": [
       "[<matplotlib.lines.Line2D at 0x140f66d60>]"
      ]
     },
     "execution_count": 42,
     "metadata": {},
     "output_type": "execute_result"
    },
    {
     "data": {
      "image/png": "[encoded data removed]",
      "text/plain": [
       "<Figure size 432x288 with 1 Axes>"
      ]
     },
     "metadata": {
      "needs_background": "light"
     },
     "output_type": "display_data"
    }
   ],
   "source": [
    "plt.plot(ks, [s.mean() for s in score_results])\n",
    "plt.plot(ks, [s.min() for s in score_results])\n",
    "plt.plot(ks, [s.max() for s in score_results])"
   ]
  },
  {
   "cell_type": "code",
   "execution_count": 43,
   "metadata": {},
   "outputs": [],
   "source": [
    "from sklearn.model_selection import GridSearchCV"
   ]
  },
  {
   "cell_type": "code",
   "execution_count": 44,
   "metadata": {},
   "outputs": [],
   "source": [
    "param_grid = {'classifier__n_neighbors': ks}\n",
    "grid_search = GridSearchCV(classifier, param_grid, cv=10)"
   ]
  },
  {
   "cell_type": "code",
   "execution_count": 45,
   "metadata": {},
   "outputs": [],
   "source": [
    "fit_result = grid_search.fit(features, target)"
   ]
  },
  {
   "cell_type": "code",
   "execution_count": 47,
   "metadata": {},
   "outputs": [
    {
     "data": {
      "text/plain": [
       "[('feature_tranform',\n",
       "  ColumnTransformer(transformers=[('categorical',\n",
       "                                   Pipeline(steps=[('onehot',\n",
       "                                                    OneHotEncoder(drop='first'))]),\n",
       "                                   ['sex', 'education', 'race']),\n",
       "                                  ('continuous',\n",
       "                                   Pipeline(steps=[('scale', StandardScaler())]),\n",
       "                                   ['age', 'education-num'])])),\n",
       " ('classifier', KNeighborsClassifier(n_neighbors=30))]"
      ]
     },
     "execution_count": 47,
     "metadata": {},
     "output_type": "execute_result"
    }
   ],
   "source": [
    "fit_result.best_estimator_.get_params()['steps']"
   ]
  },
  {
   "cell_type": "code",
   "execution_count": 105,
   "metadata": {},
   "outputs": [
    {
     "data": {
      "text/plain": [
       "<AxesSubplot:xlabel='education'>"
      ]
     },
     "execution_count": 105,
     "metadata": {},
     "output_type": "execute_result"
    },
    {
     "data": {
      "image/png": "[encoded data removed]",
      "text/plain": [
       "<Figure size 432x288 with 1 Axes>"
      ]
     },
     "metadata": {
      "needs_background": "light"
     },
     "output_type": "display_data"
    }
   ],
   "source": [
    "features.groupby('education').size().plot.bar()"
   ]
  },
  {
   "cell_type": "code",
   "execution_count": 49,
   "metadata": {},
   "outputs": [
    {
     "name": "stdout",
     "output_type": "stream",
     "text": [
      "age: 0.21615987428427208\n",
      "fnlwgt: -0.008083589196678644\n",
      "education-num: 0.3343999741748126\n",
      "capital-gain: 0.21228832120027377\n",
      "capital-loss: 0.14906965499654196\n",
      "hours-per-week: 0.23118083095329395\n",
      "workclass_ ?: -0.07071263258396854\n",
      "workclass_ Federal-gov: 0.0730272643680172\n",
      "workclass_ Local-gov: 0.052169750851666884\n",
      "workclass_ Private: -0.08828847351068034\n",
      "workclass_ Self-emp-inc: 0.1569096622233166\n",
      "workclass_ Self-emp-not-inc: -0.0038269124337434756\n",
      "workclass_ State-gov: 0.011786250654222839\n",
      "workclass_ Without-pay: -0.012999261958894908\n",
      "education_ 10th: -0.053359432932670016\n",
      "education_ 11th: -0.0981620422514636\n",
      "education_ 12th: -0.06658719151681962\n",
      "education_ 1st-4th: -0.01859834165401715\n",
      "education_ 5th-6th: -0.056541669901261415\n",
      "education_ 7th-8th: -0.07125230426286071\n",
      "education_ 9th: -0.041925268732812396\n",
      "education_ Assoc-acdm: 0.001712200023374509\n",
      "education_ Assoc-voc: 0.010571597206928851\n",
      "education_ Bachelors: 0.2088087297211597\n",
      "education_ Doctorate: 0.13650266579037737\n",
      "education_ HS-grad: -0.12406637981023923\n",
      "education_ Masters: 0.17605685388788975\n",
      "education_ Preschool: -0.0225266539552223\n",
      "education_ Prof-school: 0.11618220940178371\n",
      "education_ Some-college: -0.0690896031162714\n",
      "marital-status_ Divorced: -0.16224842885085303\n",
      "marital-status_ Married-civ-spouse: 0.44132362756433846\n",
      "marital-status_ Married-spouse-absent: -0.039226434203608974\n",
      "marital-status_ Never-married: -0.2994912081409603\n",
      "marital-status_ Separated: -0.07202930008899132\n",
      "marital-status_ Widowed: -0.04682028673994095\n",
      "occupation_ ?: -0.07071263258396854\n",
      "occupation_ Adm-clerical: -0.10912842703506521\n",
      "occupation_ Craft-repair: -0.017068750178479013\n",
      "occupation_ Exec-managerial: 0.2139137465411321\n",
      "occupation_ Farming-fishing: -0.05747223035827678\n",
      "occupation_ Handlers-cleaners: -0.09300564944555763\n",
      "occupation_ Machine-op-inspct: -0.07854640340754354\n",
      "occupation_ Other-service: -0.17071530993818296\n",
      "occupation_ Priv-house-serv: -0.03499355252354855\n",
      "occupation_ Prof-specialty: 0.17926648972737094\n",
      "occupation_ Protective-serv: 0.034449542838205505\n",
      "occupation_ Sales: 0.04202983513677766\n",
      "occupation_ Tech-support: 0.04968488617840957\n",
      "occupation_ Transport-moving: 0.013433815849114144\n",
      "relationship_ Husband: 0.39600765957384415\n",
      "relationship_ Not-in-family: -0.2007336306850916\n",
      "relationship_ Other-relative: -0.07188030567735455\n",
      "relationship_ Own-child: -0.21410603296894135\n",
      "relationship_ Unmarried: -0.14321135191059498\n",
      "relationship_ Wife: 0.10908701437853772\n",
      "race_ Amer-Indian-Eskimo: 0.010275784929388085\n",
      "race_ Asian-Pac-Islander: -0.022636636643147256\n",
      "race_ Black: -0.05768412661387831\n",
      "race_ Other: -0.023844261476900955\n",
      "race_ White: 0.06390785833120015\n",
      "sex_ Female: -0.2282973254541081\n",
      "sex_ Male: 0.2282973254541081\n",
      "native-country_ ?: -0.01473882600985087\n",
      "native-country_ Cambodia: -0.018388332521285987\n",
      "native-country_ Canada: -0.04120012697817103\n",
      "native-country_ China: -0.00025760450050274866\n",
      "native-country_ Columbia: -0.02909635888908906\n",
      "native-country_ Cuba: 0.007211503081374679\n",
      "native-country_ Dominican-Republic: -0.029096358889088812\n",
      "native-country_ Ecuador: -0.01299926195889492\n",
      "native-country_ El-Salvador: -0.03683200994226937\n",
      "native-country_ England: 0.02970468023113631\n",
      "native-country_ France: 0.025502845549751338\n",
      "native-country_ Germany: 0.05126329560000562\n",
      "native-country_ Greece: -0.018388332521285942\n",
      "native-country_ Guatemala: -0.014956825439997405\n",
      "native-country_ Haiti: -0.018388332521285942\n",
      "native-country_ Hungary: -0.018388332521285976\n",
      "native-country_ India: -0.004685687619672888\n",
      "native-country_ Iran: 0.007211503081374725\n",
      "native-country_ Ireland: -0.012999261958894915\n",
      "native-country_ Italy: -0.0002576045005027691\n",
      "native-country_ Jamaica: -0.02601805455075685\n",
      "native-country_ Japan: -0.022526653955222298\n",
      "native-country_ Mexico: -0.06614207212289398\n",
      "native-country_ Nicaragua: -0.012999261958894915\n",
      "native-country_ Philippines: -0.02766047192806498\n",
      "native-country_ Poland: -0.012999261958894916\n",
      "native-country_ Portugal: -0.026018054550756942\n",
      "native-country_ Puerto-Rico: -0.014956825439997299\n",
      "native-country_ Scotland: -0.018388332521286018\n",
      "native-country_ South: -0.012999261958894904\n",
      "native-country_ Taiwan: -0.012999261958894911\n",
      "native-country_ Thailand: -0.012999261958894904\n",
      "native-country_ United-States: 0.08576385875598831\n",
      "native-country_ Vietnam: -0.022526653955222423\n",
      "native-country_ Yugoslavia: 0.038482963620886816\n"
     ]
    }
   ],
   "source": [
    "dummies = pandas.get_dummies(features)\n",
    "for column in dummies:\n",
    "    corr = dummies[column].corr(target)\n",
    "    print(f\"{column}: {corr}\")"
   ]
  },
  {
   "cell_type": "markdown",
   "metadata": {},
   "source": [
    "# Forward stepwise feature selection"
   ]
  },
  {
   "cell_type": "code",
   "execution_count": 50,
   "metadata": {},
   "outputs": [],
   "source": [
    "from sklearn.tree import DecisionTreeClassifier"
   ]
  },
  {
   "cell_type": "code",
   "execution_count": 59,
   "metadata": {},
   "outputs": [
    {
     "name": "stdout",
     "output_type": "stream",
     "text": [
      "capital-gain: [0.8125 0.7975 0.7975 0.795  0.775 ] (0.7954999999999999)\n",
      "capital-loss: [0.8325 0.835  0.815  0.8225 0.7825] (0.8174999999999999)\n",
      "marital-status: [0.8275 0.8375 0.82   0.8175 0.7825] (0.817)\n",
      "education: [0.8725 0.8325 0.8375 0.8825 0.805 ] (0.8459999999999999)\n",
      "education-num: [0.875  0.8325 0.8375 0.8775 0.8075] (0.8459999999999999)\n",
      "sex: [0.87   0.8275 0.8325 0.8775 0.805 ] (0.8425)\n",
      "relationship: [0.8725 0.8275 0.825  0.8725 0.805 ] (0.8405000000000001)\n",
      "age: [0.875  0.835  0.8275 0.8675 0.805 ] (0.842)\n",
      "race: [0.865  0.8325 0.82   0.86   0.805 ] (0.8365)\n",
      "occupation: [0.86   0.825  0.815  0.87   0.7975] (0.8335000000000001)\n"
     ]
    }
   ],
   "source": [
    "columns = list(features.columns)\n",
    "selected_features = []\n",
    "scores = []\n",
    "N = 10\n",
    "while len(selected_features) < N:\n",
    "    best_score = pandas.Series([0])\n",
    "    best_feature = None\n",
    "    for feature in columns:\n",
    "        score = cross_val_score(DecisionTreeClassifier(max_depth=10),\n",
    "                               pandas.get_dummies(features[selected_features + [feature]]), target)\n",
    "        if score.mean() > best_score.mean():\n",
    "            best_feature = feature\n",
    "            best_score = score\n",
    "    print(f\"{best_feature}: {best_score} ({best_score.mean()})\")\n",
    "    columns.remove(best_feature)\n",
    "    selected_features.append(best_feature)\n",
    "    scores.append(score)"
   ]
  },
  {
   "cell_type": "code",
   "execution_count": 61,
   "metadata": {},
   "outputs": [
    {
     "data": {
      "text/plain": [
       "[<matplotlib.lines.Line2D at 0x1448d1a90>]"
      ]
     },
     "execution_count": 61,
     "metadata": {},
     "output_type": "execute_result"
    },
    {
     "data": {
      "image/png": "[encoded data removed]",
      "text/plain": [
       "<Figure size 432x288 with 1 Axes>"
      ]
     },
     "metadata": {
      "needs_background": "light"
     },
     "output_type": "display_data"
    }
   ],
   "source": [
    "plt.plot([s.mean() for s in scores])\n",
    "plt.plot([s.max() for s in scores])\n",
    "plt.plot([s.min() for s in scores])"
   ]
  },
  {
   "cell_type": "code",
   "execution_count": 62,
   "metadata": {},
   "outputs": [],
   "source": [
    "import numpy"
   ]
  },
  {
   "cell_type": "code",
   "execution_count": 81,
   "metadata": {},
   "outputs": [],
   "source": [
    "N = 200\n",
    "random_features = pandas.DataFrame(numpy.random.normal(size=(N, N)))\n",
    "random_target = numpy.random.choice([0, 1], size=N)"
   ]
  },
  {
   "cell_type": "code",
   "execution_count": 65,
   "metadata": {},
   "outputs": [],
   "source": [
    "from sklearn.model_selection import train_test_split"
   ]
  },
  {
   "cell_type": "code",
   "execution_count": 82,
   "metadata": {},
   "outputs": [],
   "source": [
    "Xtr, Xte, ytr, yte = train_test_split(random_features, random_target, test_size=0.2)"
   ]
  },
  {
   "cell_type": "code",
   "execution_count": 83,
   "metadata": {},
   "outputs": [
    {
     "name": "stdout",
     "output_type": "stream",
     "text": [
      "15: [0.75  0.5   0.625 0.625 0.625] (0.625)\n",
      "197: [0.6875  0.6875  0.71875 0.5625  0.6875 ] (0.66875)\n",
      "86: [0.75    0.6875  0.65625 0.5625  0.65625] (0.6625)\n",
      "11: [0.625   0.71875 0.71875 0.65625 0.6875 ] (0.68125)\n",
      "173: [0.71875 0.75    0.71875 0.6875  0.59375] (0.69375)\n"
     ]
    }
   ],
   "source": [
    "columns = list(Xtr.columns)\n",
    "selected_features = []\n",
    "scores = []\n",
    "N = 5\n",
    "while len(selected_features) < N:\n",
    "    best_score = pandas.Series([0])\n",
    "    best_feature = None\n",
    "    for feature in columns:\n",
    "        score = cross_val_score(DecisionTreeClassifier(max_depth=10),\n",
    "                               pandas.get_dummies(Xtr[selected_features + [feature]]), ytr)\n",
    "        if score.mean() > best_score.mean():\n",
    "            best_feature = feature\n",
    "            best_score = score\n",
    "    print(f\"{best_feature}: {best_score} ({best_score.mean()})\")\n",
    "    columns.remove(best_feature)\n",
    "    selected_features.append(best_feature)\n",
    "    scores.append(score)"
   ]
  },
  {
   "cell_type": "code",
   "execution_count": 84,
   "metadata": {},
   "outputs": [
    {
     "data": {
      "text/plain": [
       "[<matplotlib.lines.Line2D at 0x144b2d5e0>]"
      ]
     },
     "execution_count": 84,
     "metadata": {},
     "output_type": "execute_result"
    },
    {
     "data": {
      "image/png": "[encoded data removed]",
      "text/plain": [
       "<Figure size 432x288 with 1 Axes>"
      ]
     },
     "metadata": {
      "needs_background": "light"
     },
     "output_type": "display_data"
    }
   ],
   "source": [
    "plt.plot([s.mean() for s in scores])"
   ]
  },
  {
   "cell_type": "code",
   "execution_count": 85,
   "metadata": {},
   "outputs": [],
   "source": [
    "model = DecisionTreeClassifier(max_depth=10).fit(Xtr[selected_features], ytr)"
   ]
  },
  {
   "cell_type": "code",
   "execution_count": 73,
   "metadata": {},
   "outputs": [],
   "source": [
    "from sklearn.metrics import accuracy_score"
   ]
  },
  {
   "cell_type": "code",
   "execution_count": 86,
   "metadata": {},
   "outputs": [
    {
     "data": {
      "text/plain": [
       "0.575"
      ]
     },
     "execution_count": 86,
     "metadata": {},
     "output_type": "execute_result"
    }
   ],
   "source": [
    "accuracy_score(yte, model.predict(Xte[selected_features]))"
   ]
  },
  {
   "cell_type": "code",
   "execution_count": 87,
   "metadata": {},
   "outputs": [],
   "source": [
    "cv_scores_r = cross_val_score(DecisionTreeClassifier(max_depth=10), random_features[selected_features], random_target, cv=30)"
   ]
  },
  {
   "cell_type": "code",
   "execution_count": 89,
   "metadata": {},
   "outputs": [
    {
     "data": {
      "text/plain": [
       "array([0.42857143, 0.57142857, 1.        , 0.42857143, 0.85714286,\n",
       "       0.57142857, 0.57142857, 0.71428571, 0.42857143, 0.42857143,\n",
       "       0.71428571, 0.57142857, 0.42857143, 0.57142857, 0.71428571,\n",
       "       0.57142857, 0.57142857, 0.57142857, 0.71428571, 0.71428571,\n",
       "       0.33333333, 0.5       , 0.66666667, 0.33333333, 0.66666667,\n",
       "       0.5       , 0.33333333, 0.5       , 0.5       , 1.        ])"
      ]
     },
     "execution_count": 89,
     "metadata": {},
     "output_type": "execute_result"
    }
   ],
   "source": [
    "cv_scores_r"
   ]
  },
  {
   "cell_type": "code",
   "execution_count": 91,
   "metadata": {},
   "outputs": [
    {
     "data": {
      "image/png": "[encoded data removed]",
      "text/plain": [
       "<Figure size 432x288 with 1 Axes>"
      ]
     },
     "metadata": {
      "needs_background": "light"
     },
     "output_type": "display_data"
    }
   ],
   "source": [
    "plt.hist(cv_scores_r)\n",
    "None"
   ]
  },
  {
   "cell_type": "code",
   "execution_count": 92,
   "metadata": {},
   "outputs": [],
   "source": [
    "import statsmodels.formula.api as smf"
   ]
  },
  {
   "cell_type": "code",
   "execution_count": 93,
   "metadata": {},
   "outputs": [
    {
     "data": {
      "text/html": [
       "<div>\n",
       "<style scoped>\n",
       "    .dataframe tbody tr th:only-of-type {\n",
       "        vertical-align: middle;\n",
       "    }\n",
       "\n",
       "    .dataframe tbody tr th {\n",
       "        vertical-align: top;\n",
       "    }\n",
       "\n",
       "    .dataframe thead th {\n",
       "        text-align: right;\n",
       "    }\n",
       "</style>\n",
       "<table border=\"1\" class=\"dataframe\">\n",
       "  <thead>\n",
       "    <tr style=\"text-align: right;\">\n",
       "      <th></th>\n",
       "      <th>age</th>\n",
       "      <th>workclass</th>\n",
       "      <th>fnlwgt</th>\n",
       "      <th>education</th>\n",
       "      <th>education-num</th>\n",
       "      <th>marital-status</th>\n",
       "      <th>occupation</th>\n",
       "      <th>relationship</th>\n",
       "      <th>race</th>\n",
       "      <th>sex</th>\n",
       "      <th>capital-gain</th>\n",
       "      <th>capital-loss</th>\n",
       "      <th>hours-per-week</th>\n",
       "      <th>native-country</th>\n",
       "    </tr>\n",
       "  </thead>\n",
       "  <tbody>\n",
       "    <tr>\n",
       "      <th>0</th>\n",
       "      <td>20</td>\n",
       "      <td>Private</td>\n",
       "      <td>131230</td>\n",
       "      <td>HS-grad</td>\n",
       "      <td>9</td>\n",
       "      <td>Never-married</td>\n",
       "      <td>Machine-op-inspct</td>\n",
       "      <td>Own-child</td>\n",
       "      <td>White</td>\n",
       "      <td>Male</td>\n",
       "      <td>0</td>\n",
       "      <td>1590</td>\n",
       "      <td>40</td>\n",
       "      <td>United-States</td>\n",
       "    </tr>\n",
       "    <tr>\n",
       "      <th>1</th>\n",
       "      <td>46</td>\n",
       "      <td>Self-emp-not-inc</td>\n",
       "      <td>176319</td>\n",
       "      <td>HS-grad</td>\n",
       "      <td>9</td>\n",
       "      <td>Married-civ-spouse</td>\n",
       "      <td>Sales</td>\n",
       "      <td>Own-child</td>\n",
       "      <td>White</td>\n",
       "      <td>Female</td>\n",
       "      <td>7298</td>\n",
       "      <td>0</td>\n",
       "      <td>40</td>\n",
       "      <td>United-States</td>\n",
       "    </tr>\n",
       "    <tr>\n",
       "      <th>2</th>\n",
       "      <td>26</td>\n",
       "      <td>Private</td>\n",
       "      <td>159603</td>\n",
       "      <td>Assoc-acdm</td>\n",
       "      <td>12</td>\n",
       "      <td>Never-married</td>\n",
       "      <td>Adm-clerical</td>\n",
       "      <td>Unmarried</td>\n",
       "      <td>White</td>\n",
       "      <td>Female</td>\n",
       "      <td>0</td>\n",
       "      <td>0</td>\n",
       "      <td>32</td>\n",
       "      <td>United-States</td>\n",
       "    </tr>\n",
       "    <tr>\n",
       "      <th>3</th>\n",
       "      <td>38</td>\n",
       "      <td>Private</td>\n",
       "      <td>175232</td>\n",
       "      <td>HS-grad</td>\n",
       "      <td>9</td>\n",
       "      <td>Divorced</td>\n",
       "      <td>Machine-op-inspct</td>\n",
       "      <td>Not-in-family</td>\n",
       "      <td>White</td>\n",
       "      <td>Male</td>\n",
       "      <td>0</td>\n",
       "      <td>0</td>\n",
       "      <td>45</td>\n",
       "      <td>United-States</td>\n",
       "    </tr>\n",
       "    <tr>\n",
       "      <th>4</th>\n",
       "      <td>20</td>\n",
       "      <td>Private</td>\n",
       "      <td>166527</td>\n",
       "      <td>Some-college</td>\n",
       "      <td>10</td>\n",
       "      <td>Never-married</td>\n",
       "      <td>Adm-clerical</td>\n",
       "      <td>Own-child</td>\n",
       "      <td>Other</td>\n",
       "      <td>Female</td>\n",
       "      <td>0</td>\n",
       "      <td>0</td>\n",
       "      <td>20</td>\n",
       "      <td>United-States</td>\n",
       "    </tr>\n",
       "    <tr>\n",
       "      <th>...</th>\n",
       "      <td>...</td>\n",
       "      <td>...</td>\n",
       "      <td>...</td>\n",
       "      <td>...</td>\n",
       "      <td>...</td>\n",
       "      <td>...</td>\n",
       "      <td>...</td>\n",
       "      <td>...</td>\n",
       "      <td>...</td>\n",
       "      <td>...</td>\n",
       "      <td>...</td>\n",
       "      <td>...</td>\n",
       "      <td>...</td>\n",
       "      <td>...</td>\n",
       "    </tr>\n",
       "    <tr>\n",
       "      <th>1995</th>\n",
       "      <td>39</td>\n",
       "      <td>Federal-gov</td>\n",
       "      <td>116608</td>\n",
       "      <td>HS-grad</td>\n",
       "      <td>9</td>\n",
       "      <td>Divorced</td>\n",
       "      <td>Adm-clerical</td>\n",
       "      <td>Unmarried</td>\n",
       "      <td>White</td>\n",
       "      <td>Female</td>\n",
       "      <td>0</td>\n",
       "      <td>0</td>\n",
       "      <td>40</td>\n",
       "      <td>United-States</td>\n",
       "    </tr>\n",
       "    <tr>\n",
       "      <th>1996</th>\n",
       "      <td>35</td>\n",
       "      <td>Private</td>\n",
       "      <td>126675</td>\n",
       "      <td>HS-grad</td>\n",
       "      <td>9</td>\n",
       "      <td>Divorced</td>\n",
       "      <td>Craft-repair</td>\n",
       "      <td>Not-in-family</td>\n",
       "      <td>White</td>\n",
       "      <td>Male</td>\n",
       "      <td>0</td>\n",
       "      <td>0</td>\n",
       "      <td>46</td>\n",
       "      <td>?</td>\n",
       "    </tr>\n",
       "    <tr>\n",
       "      <th>1997</th>\n",
       "      <td>35</td>\n",
       "      <td>Private</td>\n",
       "      <td>360799</td>\n",
       "      <td>HS-grad</td>\n",
       "      <td>9</td>\n",
       "      <td>Married-civ-spouse</td>\n",
       "      <td>Craft-repair</td>\n",
       "      <td>Husband</td>\n",
       "      <td>White</td>\n",
       "      <td>Male</td>\n",
       "      <td>7298</td>\n",
       "      <td>0</td>\n",
       "      <td>40</td>\n",
       "      <td>United-States</td>\n",
       "    </tr>\n",
       "    <tr>\n",
       "      <th>1998</th>\n",
       "      <td>29</td>\n",
       "      <td>Private</td>\n",
       "      <td>49087</td>\n",
       "      <td>Bachelors</td>\n",
       "      <td>13</td>\n",
       "      <td>Never-married</td>\n",
       "      <td>Prof-specialty</td>\n",
       "      <td>Not-in-family</td>\n",
       "      <td>White</td>\n",
       "      <td>Male</td>\n",
       "      <td>0</td>\n",
       "      <td>0</td>\n",
       "      <td>50</td>\n",
       "      <td>United-States</td>\n",
       "    </tr>\n",
       "    <tr>\n",
       "      <th>1999</th>\n",
       "      <td>73</td>\n",
       "      <td>Local-gov</td>\n",
       "      <td>232871</td>\n",
       "      <td>7th-8th</td>\n",
       "      <td>4</td>\n",
       "      <td>Married-civ-spouse</td>\n",
       "      <td>Protective-serv</td>\n",
       "      <td>Husband</td>\n",
       "      <td>White</td>\n",
       "      <td>Male</td>\n",
       "      <td>2228</td>\n",
       "      <td>0</td>\n",
       "      <td>10</td>\n",
       "      <td>United-States</td>\n",
       "    </tr>\n",
       "  </tbody>\n",
       "</table>\n",
       "<p>2000 rows × 14 columns</p>\n",
       "</div>"
      ],
      "text/plain": [
       "      age          workclass  fnlwgt      education  education-num  \\\n",
       "0      20            Private  131230        HS-grad              9   \n",
       "1      46   Self-emp-not-inc  176319        HS-grad              9   \n",
       "2      26            Private  159603     Assoc-acdm             12   \n",
       "3      38            Private  175232        HS-grad              9   \n",
       "4      20            Private  166527   Some-college             10   \n",
       "...   ...                ...     ...            ...            ...   \n",
       "1995   39        Federal-gov  116608        HS-grad              9   \n",
       "1996   35            Private  126675        HS-grad              9   \n",
       "1997   35            Private  360799        HS-grad              9   \n",
       "1998   29            Private   49087      Bachelors             13   \n",
       "1999   73          Local-gov  232871        7th-8th              4   \n",
       "\n",
       "           marital-status          occupation    relationship    race  \\\n",
       "0           Never-married   Machine-op-inspct       Own-child   White   \n",
       "1      Married-civ-spouse               Sales       Own-child   White   \n",
       "2           Never-married        Adm-clerical       Unmarried   White   \n",
       "3                Divorced   Machine-op-inspct   Not-in-family   White   \n",
       "4           Never-married        Adm-clerical       Own-child   Other   \n",
       "...                   ...                 ...             ...     ...   \n",
       "1995             Divorced        Adm-clerical       Unmarried   White   \n",
       "1996             Divorced        Craft-repair   Not-in-family   White   \n",
       "1997   Married-civ-spouse        Craft-repair         Husband   White   \n",
       "1998        Never-married      Prof-specialty   Not-in-family   White   \n",
       "1999   Married-civ-spouse     Protective-serv         Husband   White   \n",
       "\n",
       "          sex  capital-gain  capital-loss  hours-per-week  native-country  \n",
       "0        Male             0          1590              40   United-States  \n",
       "1      Female          7298             0              40   United-States  \n",
       "2      Female             0             0              32   United-States  \n",
       "3        Male             0             0              45   United-States  \n",
       "4      Female             0             0              20   United-States  \n",
       "...       ...           ...           ...             ...             ...  \n",
       "1995   Female             0             0              40   United-States  \n",
       "1996     Male             0             0              46               ?  \n",
       "1997     Male          7298             0              40   United-States  \n",
       "1998     Male             0             0              50   United-States  \n",
       "1999     Male          2228             0              10   United-States  \n",
       "\n",
       "[2000 rows x 14 columns]"
      ]
     },
     "execution_count": 93,
     "metadata": {},
     "output_type": "execute_result"
    }
   ],
   "source": [
    "features"
   ]
  },
  {
   "cell_type": "code",
   "execution_count": 94,
   "metadata": {},
   "outputs": [],
   "source": [
    "X = features.copy()"
   ]
  },
  {
   "cell_type": "code",
   "execution_count": 95,
   "metadata": {},
   "outputs": [],
   "source": [
    "X['target'] = target"
   ]
  },
  {
   "cell_type": "code",
   "execution_count": 96,
   "metadata": {},
   "outputs": [
    {
     "data": {
      "text/html": [
       "<div>\n",
       "<style scoped>\n",
       "    .dataframe tbody tr th:only-of-type {\n",
       "        vertical-align: middle;\n",
       "    }\n",
       "\n",
       "    .dataframe tbody tr th {\n",
       "        vertical-align: top;\n",
       "    }\n",
       "\n",
       "    .dataframe thead th {\n",
       "        text-align: right;\n",
       "    }\n",
       "</style>\n",
       "<table border=\"1\" class=\"dataframe\">\n",
       "  <thead>\n",
       "    <tr style=\"text-align: right;\">\n",
       "      <th></th>\n",
       "      <th>age</th>\n",
       "      <th>workclass</th>\n",
       "      <th>fnlwgt</th>\n",
       "      <th>education</th>\n",
       "      <th>education-num</th>\n",
       "      <th>marital-status</th>\n",
       "      <th>occupation</th>\n",
       "      <th>relationship</th>\n",
       "      <th>race</th>\n",
       "      <th>sex</th>\n",
       "      <th>capital-gain</th>\n",
       "      <th>capital-loss</th>\n",
       "      <th>hours-per-week</th>\n",
       "      <th>native-country</th>\n",
       "      <th>target</th>\n",
       "    </tr>\n",
       "  </thead>\n",
       "  <tbody>\n",
       "    <tr>\n",
       "      <th>0</th>\n",
       "      <td>20</td>\n",
       "      <td>Private</td>\n",
       "      <td>131230</td>\n",
       "      <td>HS-grad</td>\n",
       "      <td>9</td>\n",
       "      <td>Never-married</td>\n",
       "      <td>Machine-op-inspct</td>\n",
       "      <td>Own-child</td>\n",
       "      <td>White</td>\n",
       "      <td>Male</td>\n",
       "      <td>0</td>\n",
       "      <td>1590</td>\n",
       "      <td>40</td>\n",
       "      <td>United-States</td>\n",
       "      <td>0</td>\n",
       "    </tr>\n",
       "    <tr>\n",
       "      <th>1</th>\n",
       "      <td>46</td>\n",
       "      <td>Self-emp-not-inc</td>\n",
       "      <td>176319</td>\n",
       "      <td>HS-grad</td>\n",
       "      <td>9</td>\n",
       "      <td>Married-civ-spouse</td>\n",
       "      <td>Sales</td>\n",
       "      <td>Own-child</td>\n",
       "      <td>White</td>\n",
       "      <td>Female</td>\n",
       "      <td>7298</td>\n",
       "      <td>0</td>\n",
       "      <td>40</td>\n",
       "      <td>United-States</td>\n",
       "      <td>1</td>\n",
       "    </tr>\n",
       "    <tr>\n",
       "      <th>2</th>\n",
       "      <td>26</td>\n",
       "      <td>Private</td>\n",
       "      <td>159603</td>\n",
       "      <td>Assoc-acdm</td>\n",
       "      <td>12</td>\n",
       "      <td>Never-married</td>\n",
       "      <td>Adm-clerical</td>\n",
       "      <td>Unmarried</td>\n",
       "      <td>White</td>\n",
       "      <td>Female</td>\n",
       "      <td>0</td>\n",
       "      <td>0</td>\n",
       "      <td>32</td>\n",
       "      <td>United-States</td>\n",
       "      <td>0</td>\n",
       "    </tr>\n",
       "    <tr>\n",
       "      <th>3</th>\n",
       "      <td>38</td>\n",
       "      <td>Private</td>\n",
       "      <td>175232</td>\n",
       "      <td>HS-grad</td>\n",
       "      <td>9</td>\n",
       "      <td>Divorced</td>\n",
       "      <td>Machine-op-inspct</td>\n",
       "      <td>Not-in-family</td>\n",
       "      <td>White</td>\n",
       "      <td>Male</td>\n",
       "      <td>0</td>\n",
       "      <td>0</td>\n",
       "      <td>45</td>\n",
       "      <td>United-States</td>\n",
       "      <td>0</td>\n",
       "    </tr>\n",
       "    <tr>\n",
       "      <th>4</th>\n",
       "      <td>20</td>\n",
       "      <td>Private</td>\n",
       "      <td>166527</td>\n",
       "      <td>Some-college</td>\n",
       "      <td>10</td>\n",
       "      <td>Never-married</td>\n",
       "      <td>Adm-clerical</td>\n",
       "      <td>Own-child</td>\n",
       "      <td>Other</td>\n",
       "      <td>Female</td>\n",
       "      <td>0</td>\n",
       "      <td>0</td>\n",
       "      <td>20</td>\n",
       "      <td>United-States</td>\n",
       "      <td>0</td>\n",
       "    </tr>\n",
       "    <tr>\n",
       "      <th>...</th>\n",
       "      <td>...</td>\n",
       "      <td>...</td>\n",
       "      <td>...</td>\n",
       "      <td>...</td>\n",
       "      <td>...</td>\n",
       "      <td>...</td>\n",
       "      <td>...</td>\n",
       "      <td>...</td>\n",
       "      <td>...</td>\n",
       "      <td>...</td>\n",
       "      <td>...</td>\n",
       "      <td>...</td>\n",
       "      <td>...</td>\n",
       "      <td>...</td>\n",
       "      <td>...</td>\n",
       "    </tr>\n",
       "    <tr>\n",
       "      <th>1995</th>\n",
       "      <td>39</td>\n",
       "      <td>Federal-gov</td>\n",
       "      <td>116608</td>\n",
       "      <td>HS-grad</td>\n",
       "      <td>9</td>\n",
       "      <td>Divorced</td>\n",
       "      <td>Adm-clerical</td>\n",
       "      <td>Unmarried</td>\n",
       "      <td>White</td>\n",
       "      <td>Female</td>\n",
       "      <td>0</td>\n",
       "      <td>0</td>\n",
       "      <td>40</td>\n",
       "      <td>United-States</td>\n",
       "      <td>0</td>\n",
       "    </tr>\n",
       "    <tr>\n",
       "      <th>1996</th>\n",
       "      <td>35</td>\n",
       "      <td>Private</td>\n",
       "      <td>126675</td>\n",
       "      <td>HS-grad</td>\n",
       "      <td>9</td>\n",
       "      <td>Divorced</td>\n",
       "      <td>Craft-repair</td>\n",
       "      <td>Not-in-family</td>\n",
       "      <td>White</td>\n",
       "      <td>Male</td>\n",
       "      <td>0</td>\n",
       "      <td>0</td>\n",
       "      <td>46</td>\n",
       "      <td>?</td>\n",
       "      <td>0</td>\n",
       "    </tr>\n",
       "    <tr>\n",
       "      <th>1997</th>\n",
       "      <td>35</td>\n",
       "      <td>Private</td>\n",
       "      <td>360799</td>\n",
       "      <td>HS-grad</td>\n",
       "      <td>9</td>\n",
       "      <td>Married-civ-spouse</td>\n",
       "      <td>Craft-repair</td>\n",
       "      <td>Husband</td>\n",
       "      <td>White</td>\n",
       "      <td>Male</td>\n",
       "      <td>7298</td>\n",
       "      <td>0</td>\n",
       "      <td>40</td>\n",
       "      <td>United-States</td>\n",
       "      <td>1</td>\n",
       "    </tr>\n",
       "    <tr>\n",
       "      <th>1998</th>\n",
       "      <td>29</td>\n",
       "      <td>Private</td>\n",
       "      <td>49087</td>\n",
       "      <td>Bachelors</td>\n",
       "      <td>13</td>\n",
       "      <td>Never-married</td>\n",
       "      <td>Prof-specialty</td>\n",
       "      <td>Not-in-family</td>\n",
       "      <td>White</td>\n",
       "      <td>Male</td>\n",
       "      <td>0</td>\n",
       "      <td>0</td>\n",
       "      <td>50</td>\n",
       "      <td>United-States</td>\n",
       "      <td>0</td>\n",
       "    </tr>\n",
       "    <tr>\n",
       "      <th>1999</th>\n",
       "      <td>73</td>\n",
       "      <td>Local-gov</td>\n",
       "      <td>232871</td>\n",
       "      <td>7th-8th</td>\n",
       "      <td>4</td>\n",
       "      <td>Married-civ-spouse</td>\n",
       "      <td>Protective-serv</td>\n",
       "      <td>Husband</td>\n",
       "      <td>White</td>\n",
       "      <td>Male</td>\n",
       "      <td>2228</td>\n",
       "      <td>0</td>\n",
       "      <td>10</td>\n",
       "      <td>United-States</td>\n",
       "      <td>0</td>\n",
       "    </tr>\n",
       "  </tbody>\n",
       "</table>\n",
       "<p>2000 rows × 15 columns</p>\n",
       "</div>"
      ],
      "text/plain": [
       "      age          workclass  fnlwgt      education  education-num  \\\n",
       "0      20            Private  131230        HS-grad              9   \n",
       "1      46   Self-emp-not-inc  176319        HS-grad              9   \n",
       "2      26            Private  159603     Assoc-acdm             12   \n",
       "3      38            Private  175232        HS-grad              9   \n",
       "4      20            Private  166527   Some-college             10   \n",
       "...   ...                ...     ...            ...            ...   \n",
       "1995   39        Federal-gov  116608        HS-grad              9   \n",
       "1996   35            Private  126675        HS-grad              9   \n",
       "1997   35            Private  360799        HS-grad              9   \n",
       "1998   29            Private   49087      Bachelors             13   \n",
       "1999   73          Local-gov  232871        7th-8th              4   \n",
       "\n",
       "           marital-status          occupation    relationship    race  \\\n",
       "0           Never-married   Machine-op-inspct       Own-child   White   \n",
       "1      Married-civ-spouse               Sales       Own-child   White   \n",
       "2           Never-married        Adm-clerical       Unmarried   White   \n",
       "3                Divorced   Machine-op-inspct   Not-in-family   White   \n",
       "4           Never-married        Adm-clerical       Own-child   Other   \n",
       "...                   ...                 ...             ...     ...   \n",
       "1995             Divorced        Adm-clerical       Unmarried   White   \n",
       "1996             Divorced        Craft-repair   Not-in-family   White   \n",
       "1997   Married-civ-spouse        Craft-repair         Husband   White   \n",
       "1998        Never-married      Prof-specialty   Not-in-family   White   \n",
       "1999   Married-civ-spouse     Protective-serv         Husband   White   \n",
       "\n",
       "          sex  capital-gain  capital-loss  hours-per-week  native-country  \\\n",
       "0        Male             0          1590              40   United-States   \n",
       "1      Female          7298             0              40   United-States   \n",
       "2      Female             0             0              32   United-States   \n",
       "3        Male             0             0              45   United-States   \n",
       "4      Female             0             0              20   United-States   \n",
       "...       ...           ...           ...             ...             ...   \n",
       "1995   Female             0             0              40   United-States   \n",
       "1996     Male             0             0              46               ?   \n",
       "1997     Male          7298             0              40   United-States   \n",
       "1998     Male             0             0              50   United-States   \n",
       "1999     Male          2228             0              10   United-States   \n",
       "\n",
       "      target  \n",
       "0          0  \n",
       "1          1  \n",
       "2          0  \n",
       "3          0  \n",
       "4          0  \n",
       "...      ...  \n",
       "1995       0  \n",
       "1996       0  \n",
       "1997       1  \n",
       "1998       0  \n",
       "1999       0  \n",
       "\n",
       "[2000 rows x 15 columns]"
      ]
     },
     "execution_count": 96,
     "metadata": {},
     "output_type": "execute_result"
    }
   ],
   "source": [
    "X"
   ]
  },
  {
   "cell_type": "code",
   "execution_count": 97,
   "metadata": {},
   "outputs": [
    {
     "name": "stdout",
     "output_type": "stream",
     "text": [
      "Optimization terminated successfully.\n",
      "         Current function value: 0.450892\n",
      "         Iterations 7\n"
     ]
    }
   ],
   "source": [
    "sm_fit = smf.logit(\"target ~ age + Q('education-num') + sex + race\", data=X).fit()"
   ]
  },
  {
   "cell_type": "code",
   "execution_count": 98,
   "metadata": {},
   "outputs": [
    {
     "data": {
      "text/html": [
       "<table class=\"simpletable\">\n",
       "<tr>\n",
       "        <td>Model:</td>              <td>Logit</td>      <td>Pseudo R-squared:</td>    <td>0.202</td>  \n",
       "</tr>\n",
       "<tr>\n",
       "  <td>Dependent Variable:</td>      <td>target</td>            <td>AIC:</td>         <td>1819.5670</td>\n",
       "</tr>\n",
       "<tr>\n",
       "         <td>Date:</td>        <td>2020-09-03 11:46</td>       <td>BIC:</td>         <td>1864.3742</td>\n",
       "</tr>\n",
       "<tr>\n",
       "   <td>No. Observations:</td>        <td>2000</td>        <td>Log-Likelihood:</td>    <td>-901.78</td> \n",
       "</tr>\n",
       "<tr>\n",
       "       <td>Df Model:</td>              <td>7</td>            <td>LL-Null:</td>        <td>-1130.1</td> \n",
       "</tr>\n",
       "<tr>\n",
       "     <td>Df Residuals:</td>          <td>1992</td>         <td>LLR p-value:</td>    <td>1.6218e-94</td>\n",
       "</tr>\n",
       "<tr>\n",
       "      <td>Converged:</td>           <td>1.0000</td>           <td>Scale:</td>         <td>1.0000</td>  \n",
       "</tr>\n",
       "<tr>\n",
       "    <td>No. Iterations:</td>        <td>7.0000</td>              <td></td>               <td></td>     \n",
       "</tr>\n",
       "</table>\n",
       "<table class=\"simpletable\">\n",
       "<tr>\n",
       "               <td></td>                <th>Coef.</th>  <th>Std.Err.</th>    <th>z</th>     <th>P>|z|</th> <th>[0.025</th>  <th>0.975]</th> \n",
       "</tr>\n",
       "<tr>\n",
       "  <th>Intercept</th>                   <td>-6.9333</td>  <td>0.7543</td>  <td>-9.1919</td> <td>0.0000</td> <td>-8.4117</td> <td>-5.4550</td>\n",
       "</tr>\n",
       "<tr>\n",
       "  <th>sex[T. Male]</th>                <td>1.4385</td>   <td>0.1503</td>  <td>9.5733</td>  <td>0.0000</td> <td>1.1440</td>  <td>1.7330</td> \n",
       "</tr>\n",
       "<tr>\n",
       "  <th>race[T. Asian-Pac-Islander]</th> <td>-1.2222</td>  <td>0.7737</td>  <td>-1.5797</td> <td>0.1142</td> <td>-2.7385</td> <td>0.2942</td> \n",
       "</tr>\n",
       "<tr>\n",
       "  <th>race[T. Black]</th>              <td>-0.8609</td>  <td>0.6930</td>  <td>-1.2424</td> <td>0.2141</td> <td>-2.2191</td> <td>0.4973</td> \n",
       "</tr>\n",
       "<tr>\n",
       "  <th>race[T. Other]</th>              <td>-1.6724</td>  <td>1.1265</td>  <td>-1.4846</td> <td>0.1376</td> <td>-3.8803</td> <td>0.5355</td> \n",
       "</tr>\n",
       "<tr>\n",
       "  <th>race[T. White]</th>              <td>-0.7710</td>  <td>0.6669</td>  <td>-1.1561</td> <td>0.2476</td> <td>-2.0780</td> <td>0.5361</td> \n",
       "</tr>\n",
       "<tr>\n",
       "  <th>age</th>                         <td>0.0410</td>   <td>0.0046</td>  <td>8.9855</td>  <td>0.0000</td> <td>0.0320</td>  <td>0.0499</td> \n",
       "</tr>\n",
       "<tr>\n",
       "  <th>Q('education-num')</th>          <td>0.3689</td>   <td>0.0261</td>  <td>14.1469</td> <td>0.0000</td> <td>0.3178</td>  <td>0.4200</td> \n",
       "</tr>\n",
       "</table>"
      ],
      "text/plain": [
       "<class 'statsmodels.iolib.summary2.Summary'>\n",
       "\"\"\"\n",
       "                              Results: Logit\n",
       "===========================================================================\n",
       "Model:                  Logit               Pseudo R-squared:    0.202     \n",
       "Dependent Variable:     target              AIC:                 1819.5670 \n",
       "Date:                   2020-09-03 11:46    BIC:                 1864.3742 \n",
       "No. Observations:       2000                Log-Likelihood:      -901.78   \n",
       "Df Model:               7                   LL-Null:             -1130.1   \n",
       "Df Residuals:           1992                LLR p-value:         1.6218e-94\n",
       "Converged:              1.0000              Scale:               1.0000    \n",
       "No. Iterations:         7.0000                                             \n",
       "---------------------------------------------------------------------------\n",
       "                             Coef.  Std.Err.    z    P>|z|   [0.025  0.975]\n",
       "---------------------------------------------------------------------------\n",
       "Intercept                   -6.9333   0.7543 -9.1919 0.0000 -8.4117 -5.4550\n",
       "sex[T. Male]                 1.4385   0.1503  9.5733 0.0000  1.1440  1.7330\n",
       "race[T. Asian-Pac-Islander] -1.2222   0.7737 -1.5797 0.1142 -2.7385  0.2942\n",
       "race[T. Black]              -0.8609   0.6930 -1.2424 0.2141 -2.2191  0.4973\n",
       "race[T. Other]              -1.6724   1.1265 -1.4846 0.1376 -3.8803  0.5355\n",
       "race[T. White]              -0.7710   0.6669 -1.1561 0.2476 -2.0780  0.5361\n",
       "age                          0.0410   0.0046  8.9855 0.0000  0.0320  0.0499\n",
       "Q('education-num')           0.3689   0.0261 14.1469 0.0000  0.3178  0.4200\n",
       "===========================================================================\n",
       "\n",
       "\"\"\""
      ]
     },
     "execution_count": 98,
     "metadata": {},
     "output_type": "execute_result"
    }
   ],
   "source": [
    "sm_fit.summary2()"
   ]
  },
  {
   "cell_type": "code",
   "execution_count": null,
   "metadata": {},
   "outputs": [],
   "source": []
  }
 ],
 "metadata": {
  "kernelspec": {
   "display_name": "Python 3",
   "language": "python",
   "name": "python3"
  },
  "language_info": {
   "codemirror_mode": {
    "name": "ipython",
    "version": 3
   },
   "file_extension": ".py",
   "mimetype": "text/x-python",
   "name": "python",
   "nbconvert_exporter": "python",
   "pygments_lexer": "ipython3",
   "version": "3.8.5"
  }
 },
 "nbformat": 4,
 "nbformat_minor": 4
}
